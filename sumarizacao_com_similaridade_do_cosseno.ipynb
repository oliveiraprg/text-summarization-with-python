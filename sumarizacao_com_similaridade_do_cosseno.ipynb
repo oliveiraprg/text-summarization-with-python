{
  "nbformat": 4,
  "nbformat_minor": 0,
  "metadata": {
    "colab": {
      "provenance": [],
      "collapsed_sections": [],
      "authorship_tag": "ABX9TyOouvyXcIM6Krs72g65u+ky",
      "include_colab_link": true
    },
    "kernelspec": {
      "name": "python3",
      "display_name": "Python 3"
    },
    "language_info": {
      "name": "python"
    }
  },
  "cells": [
    {
      "cell_type": "markdown",
      "metadata": {
        "id": "view-in-github",
        "colab_type": "text"
      },
      "source": [
        "<a href=\"https://colab.research.google.com/github/oliveiraprg/text-summarization-with-python/blob/main/sumarizacao_com_similaridade_do_cosseno.ipynb\" target=\"_parent\"><img src=\"https://colab.research.google.com/assets/colab-badge.svg\" alt=\"Open In Colab\"/></a>"
      ]
    },
    {
      "cell_type": "markdown",
      "source": [
        "# Sumarização com similaridade do cosseno"
      ],
      "metadata": {
        "id": "AV9hLaOrxp6P"
      }
    },
    {
      "cell_type": "markdown",
      "source": [
        "## Preparação do ambiente"
      ],
      "metadata": {
        "id": "0UFdiz202669"
      }
    },
    {
      "cell_type": "code",
      "execution_count": 9,
      "metadata": {
        "id": "1gpltgyoxbbY"
      },
      "outputs": [],
      "source": [
        "import re\n",
        "import nltk\n",
        "import string\n",
        "from nltk.cluster.util import cosine_distance\n",
        "import networkx as nx\n",
        "import numpy as np"
      ]
    },
    {
      "cell_type": "code",
      "source": [
        "nltk.download('punkt')\n",
        "nltk.download('stopwords')"
      ],
      "metadata": {
        "colab": {
          "base_uri": "https://localhost:8080/"
        },
        "id": "dVxyX7972ZTU",
        "outputId": "dd322aed-9cc2-4afe-fed6-9abedb9b014f"
      },
      "execution_count": 2,
      "outputs": [
        {
          "output_type": "stream",
          "name": "stderr",
          "text": [
            "[nltk_data] Downloading package punkt to /root/nltk_data...\n",
            "[nltk_data]   Unzipping tokenizers/punkt.zip.\n",
            "[nltk_data] Downloading package stopwords to /root/nltk_data...\n",
            "[nltk_data]   Unzipping corpora/stopwords.zip.\n"
          ]
        },
        {
          "output_type": "execute_result",
          "data": {
            "text/plain": [
              "True"
            ]
          },
          "metadata": {},
          "execution_count": 2
        }
      ]
    },
    {
      "cell_type": "code",
      "source": [
        "stop_words = nltk.corpus.stopwords.words('portuguese')"
      ],
      "metadata": {
        "id": "81zdSQzm2dMN"
      },
      "execution_count": 3,
      "outputs": []
    },
    {
      "cell_type": "code",
      "source": [
        "def pre_processamento(texto):\n",
        "  texto_formatado = texto.lower()\n",
        "  tokens = []\n",
        "  for token in nltk.word_tokenize(texto_formatado):\n",
        "    tokens.append(token)\n",
        "  tokens = [palavra for palavra in tokens if palavra not in stop_words and palavra not in string.punctuation]\n",
        "  texto_formatado = ' '.join([str(elemento) for elemento in tokens if not elemento.isdigit()])\n",
        "  return texto_formatado"
      ],
      "metadata": {
        "id": "GajWXu1y2n4t"
      },
      "execution_count": 4,
      "outputs": []
    },
    {
      "cell_type": "code",
      "source": [
        "texto_original = \"\"\"A inteligência artificial é a inteligência similar à humana máquinas.\n",
        "                    Definem como o estudo de agente artificial com inteligência.\n",
        "                    Ciência e engenharia de produzir máquinas com inteligência.\n",
        "                    Resolver problemas e possuir inteligência. \n",
        "                    Relacionada ao comportamento inteligente. \n",
        "                    Construção de máquinas para raciocinar. \n",
        "                    Aprender com os erros e acertos. \n",
        "                    Inteligência artificial é raciocinar nas situações do cotidiano.\"\"\""
      ],
      "metadata": {
        "id": "ymCx702p3iE8"
      },
      "execution_count": 5,
      "outputs": []
    },
    {
      "cell_type": "code",
      "source": [
        "texto_original = re.sub(r'\\s+', ' ', texto_original)"
      ],
      "metadata": {
        "id": "XKzNAOe_3r3s"
      },
      "execution_count": 6,
      "outputs": []
    },
    {
      "cell_type": "markdown",
      "source": [
        "## Função para calcular similaridade entre sentenças"
      ],
      "metadata": {
        "id": "WWL6OzeM3rnk"
      }
    },
    {
      "cell_type": "code",
      "source": [
        "sentencas_originais = [sentenca for sentenca in nltk.sent_tokenize(texto_original)]\n",
        "sentencas_formatadas = [pre_processamento(sentencas_original) for sentencas_original in sentencas_originais]"
      ],
      "metadata": {
        "id": "ZB4uvslm4jcE"
      },
      "execution_count": 7,
      "outputs": []
    },
    {
      "cell_type": "code",
      "source": [
        "def calcula_similaridade_sentencas(primeira_sentenca, segunda_sentenca):\n",
        "  primeira_palavras = [palavra for palavra in nltk.word_tokenize(primeira_sentenca)]\n",
        "  segunda_palavras = [palavra for palavra in nltk.word_tokenize(segunda_sentenca)]\n",
        "  todas_palavras = list(set(primeira_palavras + segunda_palavras))\n",
        "  primeiro_vetor = [0] * len(todas_palavras)\n",
        "  segundo_vetor = [0] * len(todas_palavras)\n",
        "\n",
        "  for palavra in primeira_palavras:\n",
        "    primeiro_vetor[todas_palavras.index(palavra)] += 1 \n",
        "\n",
        "  for palavra in segunda_palavras:\n",
        "    segundo_vetor[todas_palavras.index(palavra)] += 1 \n",
        "\n",
        "  return 1 - cosine_distance(primeiro_vetor, segundo_vetor)"
      ],
      "metadata": {
        "id": "RTZYn4Bd8GVT"
      },
      "execution_count": 10,
      "outputs": []
    },
    {
      "cell_type": "markdown",
      "source": [
        "##Função para gerar a matriz de similaridade"
      ],
      "metadata": {
        "id": "Z_q4GVvTPRvL"
      }
    },
    {
      "cell_type": "code",
      "source": [
        "def calcula_matriz_similaridade(sentencas):\n",
        "  matriz_similaridade = np.zeros((len(sentencas), len(sentencas)))\n",
        "  for linha in range(len(sentencas)):\n",
        "    for coluna in range(len(sentencas)):\n",
        "      if linha == coluna:continue\n",
        "      matriz_similaridade[linha][coluna] = calcula_similaridade_sentencas(sentencas[linha], sentencas[coluna])\n",
        "  return matriz_similaridade"
      ],
      "metadata": {
        "id": "j3wsedeaPTOL"
      },
      "execution_count": 11,
      "outputs": []
    },
    {
      "cell_type": "code",
      "source": [
        "calcula_matriz_similaridade(sentencas_formatadas)"
      ],
      "metadata": {
        "colab": {
          "base_uri": "https://localhost:8080/"
        },
        "id": "lLU-m2qWbjMw",
        "outputId": "e53f8148-b434-49e8-b832-491adf2f64f2"
      },
      "execution_count": 12,
      "outputs": [
        {
          "output_type": "execute_result",
          "data": {
            "text/plain": [
              "array([[0.        , 0.47434165, 0.47434165, 0.35355339, 0.        ,\n",
              "        0.20412415, 0.        , 0.47434165],\n",
              "       [0.47434165, 0.        , 0.2       , 0.2236068 , 0.        ,\n",
              "        0.        , 0.        , 0.4       ],\n",
              "       [0.47434165, 0.2       , 0.        , 0.2236068 , 0.        ,\n",
              "        0.25819889, 0.        , 0.2       ],\n",
              "       [0.35355339, 0.2236068 , 0.2236068 , 0.        , 0.        ,\n",
              "        0.        , 0.        , 0.2236068 ],\n",
              "       [0.        , 0.        , 0.        , 0.        , 0.        ,\n",
              "        0.        , 0.        , 0.        ],\n",
              "       [0.20412415, 0.        , 0.25819889, 0.        , 0.        ,\n",
              "        0.        , 0.        , 0.25819889],\n",
              "       [0.        , 0.        , 0.        , 0.        , 0.        ,\n",
              "        0.        , 0.        , 0.        ],\n",
              "       [0.47434165, 0.4       , 0.2       , 0.2236068 , 0.        ,\n",
              "        0.25819889, 0.        , 0.        ]])"
            ]
          },
          "metadata": {},
          "execution_count": 12
        }
      ]
    }
  ]
}