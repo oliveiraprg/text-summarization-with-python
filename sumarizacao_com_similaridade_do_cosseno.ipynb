{
  "nbformat": 4,
  "nbformat_minor": 0,
  "metadata": {
    "colab": {
      "provenance": [],
      "collapsed_sections": [],
      "authorship_tag": "ABX9TyNYKdV5eJqQQVCO6LGnVwQ6",
      "include_colab_link": true
    },
    "kernelspec": {
      "name": "python3",
      "display_name": "Python 3"
    },
    "language_info": {
      "name": "python"
    }
  },
  "cells": [
    {
      "cell_type": "markdown",
      "metadata": {
        "id": "view-in-github",
        "colab_type": "text"
      },
      "source": [
        "<a href=\"https://colab.research.google.com/github/oliveiraprg/text-summarization-with-python/blob/main/sumarizacao_com_similaridade_do_cosseno.ipynb\" target=\"_parent\"><img src=\"https://colab.research.google.com/assets/colab-badge.svg\" alt=\"Open In Colab\"/></a>"
      ]
    },
    {
      "cell_type": "markdown",
      "source": [
        "# Sumarização com similaridade do cosseno"
      ],
      "metadata": {
        "id": "AV9hLaOrxp6P"
      }
    },
    {
      "cell_type": "markdown",
      "source": [
        "## Preparação do ambiente"
      ],
      "metadata": {
        "id": "0UFdiz202669"
      }
    },
    {
      "cell_type": "code",
      "execution_count": 13,
      "metadata": {
        "id": "1gpltgyoxbbY"
      },
      "outputs": [],
      "source": [
        "import re\n",
        "import nltk\n",
        "import string\n",
        "from nltk.cluster.util import cosine_distance\n",
        "import networkx as nx\n",
        "import numpy as np"
      ]
    },
    {
      "cell_type": "code",
      "source": [
        "nltk.download('punkt')\n",
        "nltk.download('stopwords')"
      ],
      "metadata": {
        "colab": {
          "base_uri": "https://localhost:8080/"
        },
        "id": "dVxyX7972ZTU",
        "outputId": "f9d3cb3a-0ba3-4203-9ff8-437661775e78"
      },
      "execution_count": 14,
      "outputs": [
        {
          "output_type": "stream",
          "name": "stderr",
          "text": [
            "[nltk_data] Downloading package punkt to /root/nltk_data...\n",
            "[nltk_data]   Package punkt is already up-to-date!\n",
            "[nltk_data] Downloading package stopwords to /root/nltk_data...\n",
            "[nltk_data]   Package stopwords is already up-to-date!\n"
          ]
        },
        {
          "output_type": "execute_result",
          "data": {
            "text/plain": [
              "True"
            ]
          },
          "metadata": {},
          "execution_count": 14
        }
      ]
    },
    {
      "cell_type": "code",
      "source": [
        "stop_words = nltk.corpus.stopwords.words('portuguese')"
      ],
      "metadata": {
        "id": "81zdSQzm2dMN"
      },
      "execution_count": 15,
      "outputs": []
    },
    {
      "cell_type": "code",
      "source": [
        "def pre_processamento(texto):\n",
        "  texto_formatado = texto.lower()\n",
        "  tokens = []\n",
        "  for token in nltk.word_tokenize(texto_formatado):\n",
        "    tokens.append(token)\n",
        "  tokens = [palavra for palavra in tokens if palavra not in stop_words and palavra not in string.punctuation]\n",
        "  texto_formatado = ' '.join([str(elemento) for elemento in tokens if not elemento.isdigit()])\n",
        "  return texto_formatado"
      ],
      "metadata": {
        "id": "GajWXu1y2n4t"
      },
      "execution_count": 16,
      "outputs": []
    },
    {
      "cell_type": "code",
      "source": [
        "texto_original = \"\"\"A inteligência artificial é a inteligência similar à humana máquinas.\n",
        "                    Definem como o estudo de agente artificial com inteligência.\n",
        "                    Ciência e engenharia de produzir máquinas com inteligência.\n",
        "                    Resolver problemas e possuir inteligência. \n",
        "                    Relacionada ao comportamento inteligente. \n",
        "                    Construção de máquinas para raciocinar. \n",
        "                    Aprender com os erros e acertos. \n",
        "                    Inteligência artificial é raciocinar nas situações do cotidiano.\"\"\""
      ],
      "metadata": {
        "id": "ymCx702p3iE8"
      },
      "execution_count": 17,
      "outputs": []
    },
    {
      "cell_type": "code",
      "source": [
        "texto_original = re.sub(r'\\s+', ' ', texto_original)"
      ],
      "metadata": {
        "id": "XKzNAOe_3r3s"
      },
      "execution_count": 18,
      "outputs": []
    },
    {
      "cell_type": "markdown",
      "source": [
        "## Função para calcular similaridade entre sentenças"
      ],
      "metadata": {
        "id": "WWL6OzeM3rnk"
      }
    },
    {
      "cell_type": "code",
      "source": [
        "sentencas_originais = [sentenca for sentenca in nltk.sent_tokenize(texto_original)]\n",
        "sentencas_formatadas = [pre_processamento(sentencas_original) for sentencas_original in sentencas_originais]"
      ],
      "metadata": {
        "id": "ZB4uvslm4jcE"
      },
      "execution_count": 19,
      "outputs": []
    },
    {
      "cell_type": "code",
      "source": [
        "def calcula_similaridade_sentencas(primeira_sentenca, segunda_sentenca):\n",
        "  primeira_palavras = [palavra for palavra in nltk.word_tokenize(primeira_sentenca)]\n",
        "  segunda_palavras = [palavra for palavra in nltk.word_tokenize(segunda_sentenca)]\n",
        "  todas_palavras = list(set(primeira_palavras + segunda_palavras))\n",
        "  primeiro_vetor = [0] * len(todas_palavras)\n",
        "  segundo_vetor = [0] * len(todas_palavras)\n",
        "\n",
        "  for palavra in primeira_palavras:\n",
        "    primeiro_vetor[todas_palavras.index(palavra)] += 1 \n",
        "\n",
        "  for palavra in segunda_palavras:\n",
        "    segundo_vetor[todas_palavras.index(palavra)] += 1 \n",
        "\n",
        "  return 1 - cosine_distance(primeiro_vetor, segundo_vetor)"
      ],
      "metadata": {
        "id": "RTZYn4Bd8GVT"
      },
      "execution_count": 20,
      "outputs": []
    },
    {
      "cell_type": "markdown",
      "source": [
        "##Função para gerar a matriz de similaridade"
      ],
      "metadata": {
        "id": "Z_q4GVvTPRvL"
      }
    },
    {
      "cell_type": "code",
      "source": [
        "def calcula_matriz_similaridade(sentencas):\n",
        "  matriz_similaridade = np.zeros((len(sentencas), len(sentencas)))\n",
        "  for linha in range(len(sentencas)):\n",
        "    for coluna in range(len(sentencas)):\n",
        "      if linha == coluna:continue\n",
        "      matriz_similaridade[linha][coluna] = calcula_similaridade_sentencas(sentencas[linha], sentencas[coluna])\n",
        "  return matriz_similaridade"
      ],
      "metadata": {
        "id": "j3wsedeaPTOL"
      },
      "execution_count": 21,
      "outputs": []
    },
    {
      "cell_type": "markdown",
      "source": [
        "## Função para sumarizar"
      ],
      "metadata": {
        "id": "j15jJWLYfLg6"
      }
    },
    {
      "cell_type": "code",
      "source": [
        "def sumarizar(texto):\n",
        "  sentencas_originais = [sentenca for sentenca in nltk.sent_tokenize(texto)]\n",
        "  sentencas_formatadas = [pre_processamento(sentenca_original) for sentenca_original in sentencas_originais]\n",
        "  quantidade_sentencas = int(len(sentencas_originais) / 2.5)\n",
        "  matriz_similaridade = calcula_matriz_similaridade(sentencas_formatadas)\n",
        "  grafo_similaridade = nx.from_numpy_array(matriz_similaridade)\n",
        "  notas = nx.pagerank(grafo_similaridade)\n",
        "  notas_ordenadas = sorted(((notas[indice_nota], nota) for indice_nota, nota in enumerate(sentencas_originais)), reverse=True)\n",
        "  melhores_sentencas = []\n",
        "  for sentenca in range(quantidade_sentencas):\n",
        "    melhores_sentencas.append(notas_ordenadas[sentenca][1])\n",
        "  return sentencas_originais, melhores_sentencas, notas_ordenadas"
      ],
      "metadata": {
        "id": "vkp26amQfNpp"
      },
      "execution_count": 27,
      "outputs": []
    },
    {
      "cell_type": "code",
      "source": [
        "sentencas_originais, melhores_sentencas, notas_ordenadas = sumarizar(texto_original)"
      ],
      "metadata": {
        "id": "T3BzGE7cp5ms"
      },
      "execution_count": 28,
      "outputs": []
    },
    {
      "cell_type": "code",
      "source": [
        "sentencas_originais, melhores_sentencas, notas_ordenadas "
      ],
      "metadata": {
        "colab": {
          "base_uri": "https://localhost:8080/"
        },
        "id": "kTKQfNVvrJEc",
        "outputId": "2d2f6365-409d-48bd-e5b4-50cb80c14147"
      },
      "execution_count": 31,
      "outputs": [
        {
          "output_type": "execute_result",
          "data": {
            "text/plain": [
              "(['A inteligência artificial é a inteligência similar à humana máquinas.',\n",
              "  'Definem como o estudo de agente artificial com inteligência.',\n",
              "  'Ciência e engenharia de produzir máquinas com inteligência.',\n",
              "  'Resolver problemas e possuir inteligência.',\n",
              "  'Relacionada ao comportamento inteligente.',\n",
              "  'Construção de máquinas para raciocinar.',\n",
              "  'Aprender com os erros e acertos.',\n",
              "  'Inteligência artificial é raciocinar nas situações do cotidiano.'],\n",
              " ['A inteligência artificial é a inteligência similar à humana máquinas.',\n",
              "  'Inteligência artificial é raciocinar nas situações do cotidiano.',\n",
              "  'Ciência e engenharia de produzir máquinas com inteligência.'],\n",
              " [(0.22820924040178003,\n",
              "   'A inteligência artificial é a inteligência similar à humana máquinas.'),\n",
              "  (0.1839190802151221,\n",
              "   'Inteligência artificial é raciocinar nas situações do cotidiano.'),\n",
              "  (0.1633191450783496,\n",
              "   'Ciência e engenharia de produzir máquinas com inteligência.'),\n",
              "  (0.1543717033327776,\n",
              "   'Definem como o estudo de agente artificial com inteligência.'),\n",
              "  (0.12639273963873288, 'Resolver problemas e possuir inteligência.'),\n",
              "  (0.09616903563964783, 'Construção de máquinas para raciocinar.'),\n",
              "  (0.023809527846794958, 'Relacionada ao comportamento inteligente.'),\n",
              "  (0.023809527846794958, 'Aprender com os erros e acertos.')])"
            ]
          },
          "metadata": {},
          "execution_count": 31
        }
      ]
    }
  ]
}