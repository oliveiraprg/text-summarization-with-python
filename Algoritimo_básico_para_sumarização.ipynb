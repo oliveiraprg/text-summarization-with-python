{
  "nbformat": 4,
  "nbformat_minor": 0,
  "metadata": {
    "colab": {
      "provenance": [],
      "collapsed_sections": [],
      "authorship_tag": "ABX9TyPwAIqwQBqInHp0hYvQotSt",
      "include_colab_link": true
    },
    "kernelspec": {
      "name": "python3",
      "display_name": "Python 3"
    },
    "language_info": {
      "name": "python"
    }
  },
  "cells": [
    {
      "cell_type": "markdown",
      "metadata": {
        "id": "view-in-github",
        "colab_type": "text"
      },
      "source": [
        "<a href=\"https://colab.research.google.com/github/oliveiraprg/text-summarization-with-python/blob/main/Algoritimo_b%C3%A1sico_para_sumariza%C3%A7%C3%A3o.ipynb\" target=\"_parent\"><img src=\"https://colab.research.google.com/assets/colab-badge.svg\" alt=\"Open In Colab\"/></a>"
      ]
    },
    {
      "cell_type": "markdown",
      "source": [
        "# Sumarização de textos com processamento de linguagem natural"
      ],
      "metadata": {
        "id": "o4Y8HguVPkzy"
      }
    },
    {
      "cell_type": "markdown",
      "source": [
        "## Pré-processamento do texto"
      ],
      "metadata": {
        "id": "v6vUVetpP0_a"
      }
    },
    {
      "cell_type": "code",
      "source": [
        "import re\n",
        "import nltk\n",
        "import string"
      ],
      "metadata": {
        "id": "iI6Xr6tbSn1a"
      },
      "execution_count": 1,
      "outputs": []
    },
    {
      "cell_type": "code",
      "source": [
        "texto_original = \"\"\"A inteligência artificial é a inteligência similar à humana.\n",
        "                    Definem como o estudo de agente artificial com inteligência.\n",
        "                    Ciência e engenharia de produzir máquinas com inteligência.\n",
        "                    Resolver problemas e possuir inteligência. \n",
        "                    Relacionada ao comportamento inteligente. \n",
        "                    Construção de máquinas para raciocinar. \n",
        "                    Aprender com os erros e acertos. \n",
        "                    Inteligência artificial é raciocinar nas situações do cotidiano.\"\"\""
      ],
      "metadata": {
        "id": "fRyQlO-kSy9B"
      },
      "execution_count": 2,
      "outputs": []
    },
    {
      "cell_type": "code",
      "source": [
        "texto_original = re.sub(r'\\s+', ' ', texto_original)"
      ],
      "metadata": {
        "id": "9kxGfC6wTuMR"
      },
      "execution_count": 3,
      "outputs": []
    },
    {
      "cell_type": "code",
      "source": [
        "nltk.download('punkt')"
      ],
      "metadata": {
        "colab": {
          "base_uri": "https://localhost:8080/"
        },
        "id": "_yhi1VQzVyDJ",
        "outputId": "3736e843-7f90-4d24-dd6e-f3efa8f0b071"
      },
      "execution_count": 5,
      "outputs": [
        {
          "output_type": "stream",
          "name": "stderr",
          "text": [
            "[nltk_data] Downloading package punkt to /root/nltk_data...\n",
            "[nltk_data]   Unzipping tokenizers/punkt.zip.\n"
          ]
        },
        {
          "output_type": "execute_result",
          "data": {
            "text/plain": [
              "True"
            ]
          },
          "metadata": {},
          "execution_count": 5
        }
      ]
    },
    {
      "cell_type": "code",
      "source": [
        "nltk.download('stopwords')"
      ],
      "metadata": {
        "colab": {
          "base_uri": "https://localhost:8080/"
        },
        "id": "bzmEXKzNWSPR",
        "outputId": "a8073d16-d572-4392-e0e3-2703ead4d047"
      },
      "execution_count": 6,
      "outputs": [
        {
          "output_type": "stream",
          "name": "stderr",
          "text": [
            "[nltk_data] Downloading package stopwords to /root/nltk_data...\n",
            "[nltk_data]   Unzipping corpora/stopwords.zip.\n"
          ]
        },
        {
          "output_type": "execute_result",
          "data": {
            "text/plain": [
              "True"
            ]
          },
          "metadata": {},
          "execution_count": 6
        }
      ]
    },
    {
      "cell_type": "code",
      "source": [
        "stop_words = nltk.corpus.stopwords.words('portuguese')"
      ],
      "metadata": {
        "id": "r8qD1Xs3Wd2x"
      },
      "execution_count": 7,
      "outputs": []
    },
    {
      "cell_type": "code",
      "source": [
        "def pre_processamento(texto):\n",
        "  texto_formatado = texto.lower()\n",
        "  tokens = []\n",
        "  for token in nltk.word_tokenize(texto_formatado):\n",
        "    tokens.append(token)\n",
        "  tokens = [palavra for palavra in tokens if palavra not in stop_words and palavra not in string.punctuation]\n",
        "  texto_formatado = ' '.join([str(elemento) for elemento in tokens if not elemento.isdigit()])\n",
        "\n",
        "  return texto_formatado"
      ],
      "metadata": {
        "id": "6UhF2o-pUs5C"
      },
      "execution_count": 8,
      "outputs": []
    },
    {
      "cell_type": "code",
      "source": [
        "texto_formatado = pre_processamento(texto_original)"
      ],
      "metadata": {
        "id": "s8YiteosU_t5"
      },
      "execution_count": 9,
      "outputs": []
    },
    {
      "cell_type": "markdown",
      "source": [
        "## Frência das palavras"
      ],
      "metadata": {
        "id": "vJWw45JyQulK"
      }
    },
    {
      "cell_type": "code",
      "source": [
        "frequencia_palavras = nltk.FreqDist(nltk.word_tokenize(texto_formatado))\n",
        "frequencia_palavras"
      ],
      "metadata": {
        "colab": {
          "base_uri": "https://localhost:8080/"
        },
        "id": "yMQby3MKjJtu",
        "outputId": "7a9c1981-e0a7-45bc-c587-b398050c4285"
      },
      "execution_count": 10,
      "outputs": [
        {
          "output_type": "execute_result",
          "data": {
            "text/plain": [
              "FreqDist({'inteligência': 6, 'artificial': 3, 'máquinas': 2, 'raciocinar': 2, 'similar': 1, 'humana': 1, 'definem': 1, 'estudo': 1, 'agente': 1, 'ciência': 1, ...})"
            ]
          },
          "metadata": {},
          "execution_count": 10
        }
      ]
    },
    {
      "cell_type": "code",
      "source": [
        "frequencia_maxima = max(frequencia_palavras.values())"
      ],
      "metadata": {
        "id": "02BuHYGRk13m"
      },
      "execution_count": 11,
      "outputs": []
    },
    {
      "cell_type": "code",
      "source": [
        "for palavra in frequencia_palavras.keys():\n",
        "  frequencia_palavras[palavra] = (frequencia_palavras[palavra] / frequencia_maxima )"
      ],
      "metadata": {
        "id": "x7MDbyvnlKYO"
      },
      "execution_count": 12,
      "outputs": []
    },
    {
      "cell_type": "markdown",
      "source": [
        "## Tokenização de sentenças"
      ],
      "metadata": {
        "id": "TiGSk-8dQ0Ki"
      }
    },
    {
      "cell_type": "code",
      "source": [
        "lista_sentencas = nltk.sent_tokenize(texto_original)"
      ],
      "metadata": {
        "id": "L7HjskVQmHOG"
      },
      "execution_count": 13,
      "outputs": []
    },
    {
      "cell_type": "markdown",
      "source": [
        "## Geração do resumo (nota para as sentenças)"
      ],
      "metadata": {
        "id": "Xp40wzZNQ7s5"
      }
    },
    {
      "cell_type": "code",
      "source": [
        "nota_sentencas = {}\n",
        "for sentenca in lista_sentencas:\n",
        "  for palavra in nltk.word_tokenize(sentenca.lower()):\n",
        "    if palavra in frequencia_palavras.keys():\n",
        "      if sentenca not in nota_sentencas.keys():\n",
        "        nota_sentencas[sentenca] = frequencia_palavras[palavra]\n",
        "      else:\n",
        "        nota_sentencas[sentenca] += frequencia_palavras[palavra]"
      ],
      "metadata": {
        "id": "Y_-Moi3QerCj"
      },
      "execution_count": 14,
      "outputs": []
    },
    {
      "cell_type": "code",
      "source": [
        "nota_sentencas"
      ],
      "metadata": {
        "colab": {
          "base_uri": "https://localhost:8080/"
        },
        "id": "AIBEgwlEgtYa",
        "outputId": "f9b4d4d3-55d8-49a5-c779-0f826c68460d"
      },
      "execution_count": 15,
      "outputs": [
        {
          "output_type": "execute_result",
          "data": {
            "text/plain": [
              "{'A inteligência artificial é a inteligência similar à humana.': 2.833333333333333,\n",
              " 'Definem como o estudo de agente artificial com inteligência.': 2.0,\n",
              " 'Ciência e engenharia de produzir máquinas com inteligência.': 1.8333333333333333,\n",
              " 'Resolver problemas e possuir inteligência.': 1.5,\n",
              " 'Relacionada ao comportamento inteligente.': 0.5,\n",
              " 'Construção de máquinas para raciocinar.': 0.8333333333333333,\n",
              " 'Aprender com os erros e acertos.': 0.5,\n",
              " 'Inteligência artificial é raciocinar nas situações do cotidiano.': 2.1666666666666665}"
            ]
          },
          "metadata": {},
          "execution_count": 15
        }
      ]
    },
    {
      "cell_type": "code",
      "source": [
        "import heapq\n",
        "melhores_sentencas = heapq.nlargest(3, nota_sentencas, key=nota_sentencas.get)"
      ],
      "metadata": {
        "id": "gMJh8ApohFlK"
      },
      "execution_count": 16,
      "outputs": []
    },
    {
      "cell_type": "code",
      "source": [
        "melhores_sentencas"
      ],
      "metadata": {
        "colab": {
          "base_uri": "https://localhost:8080/"
        },
        "id": "QO_RV0v7hdYC",
        "outputId": "13bdb2d5-07fb-416a-ff12-3e61b9b738a7"
      },
      "execution_count": 17,
      "outputs": [
        {
          "output_type": "execute_result",
          "data": {
            "text/plain": [
              "['A inteligência artificial é a inteligência similar à humana.',\n",
              " 'Inteligência artificial é raciocinar nas situações do cotidiano.',\n",
              " 'Definem como o estudo de agente artificial com inteligência.']"
            ]
          },
          "metadata": {},
          "execution_count": 17
        }
      ]
    },
    {
      "cell_type": "code",
      "source": [
        "resumo = ' '.join(melhores_sentencas)\n",
        "resumo"
      ],
      "metadata": {
        "colab": {
          "base_uri": "https://localhost:8080/",
          "height": 36
        },
        "id": "hCvNbPmMhtZ5",
        "outputId": "b59fae7c-e571-4e5a-e20f-05b2816c81a3"
      },
      "execution_count": 18,
      "outputs": [
        {
          "output_type": "execute_result",
          "data": {
            "text/plain": [
              "'A inteligência artificial é a inteligência similar à humana. Inteligência artificial é raciocinar nas situações do cotidiano. Definem como o estudo de agente artificial com inteligência.'"
            ],
            "application/vnd.google.colaboratory.intrinsic+json": {
              "type": "string"
            }
          },
          "metadata": {},
          "execution_count": 18
        }
      ]
    },
    {
      "cell_type": "markdown",
      "source": [
        "## Vizualização do resumo"
      ],
      "metadata": {
        "id": "mBne2EnHREmx"
      }
    },
    {
      "cell_type": "code",
      "source": [
        "from IPython.core.display import HTML\n",
        "texto = ''\n",
        "\n",
        "display(HTML(f'<h1>Resumo do texto</h1>'))\n",
        "for sentenca in lista_sentencas:\n",
        "  #texto += sentenca\n",
        "  if sentenca in melhores_sentencas:\n",
        "    texto += str(sentenca).replace(sentenca, f'<mark>{sentenca}</mark>')\n",
        "  else:\n",
        "    texto += sentenca\n",
        "display(HTML(f'{texto}'))\n"
      ],
      "metadata": {
        "colab": {
          "base_uri": "https://localhost:8080/",
          "height": 109
        },
        "id": "EQMyhGv4iW6K",
        "outputId": "fcb821fa-0e56-4db7-f107-5e7cbdc615cd"
      },
      "execution_count": 19,
      "outputs": [
        {
          "output_type": "display_data",
          "data": {
            "text/plain": [
              "<IPython.core.display.HTML object>"
            ],
            "text/html": [
              "<h1>Resumo do texto</h1>"
            ]
          },
          "metadata": {}
        },
        {
          "output_type": "display_data",
          "data": {
            "text/plain": [
              "<IPython.core.display.HTML object>"
            ],
            "text/html": [
              "<mark>A inteligência artificial é a inteligência similar à humana.</mark><mark>Definem como o estudo de agente artificial com inteligência.</mark>Ciência e engenharia de produzir máquinas com inteligência.Resolver problemas e possuir inteligência.Relacionada ao comportamento inteligente.Construção de máquinas para raciocinar.Aprender com os erros e acertos.<mark>Inteligência artificial é raciocinar nas situações do cotidiano.</mark>"
            ]
          },
          "metadata": {}
        }
      ]
    },
    {
      "cell_type": "markdown",
      "source": [
        "## Extração de texto da internet"
      ],
      "metadata": {
        "id": "CX2_qsFcRMjr"
      }
    },
    {
      "cell_type": "code",
      "source": [
        "!pip install goose3"
      ],
      "metadata": {
        "colab": {
          "base_uri": "https://localhost:8080/"
        },
        "id": "9MR-3iFWknL5",
        "outputId": "8b8f8984-dfd3-426e-f571-ad93e0170bd2"
      },
      "execution_count": 20,
      "outputs": [
        {
          "output_type": "stream",
          "name": "stdout",
          "text": [
            "Looking in indexes: https://pypi.org/simple, https://us-python.pkg.dev/colab-wheels/public/simple/\n",
            "Collecting goose3\n",
            "  Downloading goose3-3.1.12-py3-none-any.whl (88 kB)\n",
            "\u001b[K     |████████████████████████████████| 88 kB 4.2 MB/s \n",
            "\u001b[?25hCollecting cssselect\n",
            "  Downloading cssselect-1.1.0-py2.py3-none-any.whl (16 kB)\n",
            "Requirement already satisfied: python-dateutil in /usr/local/lib/python3.7/dist-packages (from goose3) (2.8.2)\n",
            "Requirement already satisfied: requests in /usr/local/lib/python3.7/dist-packages (from goose3) (2.23.0)\n",
            "Requirement already satisfied: beautifulsoup4 in /usr/local/lib/python3.7/dist-packages (from goose3) (4.6.3)\n",
            "Collecting pyahocorasick\n",
            "  Downloading pyahocorasick-1.4.4-cp37-cp37m-manylinux_2_17_x86_64.manylinux2014_x86_64.whl (106 kB)\n",
            "\u001b[K     |████████████████████████████████| 106 kB 60.5 MB/s \n",
            "\u001b[?25hRequirement already satisfied: Pillow in /usr/local/lib/python3.7/dist-packages (from goose3) (7.1.2)\n",
            "Collecting langdetect\n",
            "  Downloading langdetect-1.0.9.tar.gz (981 kB)\n",
            "\u001b[K     |████████████████████████████████| 981 kB 65.8 MB/s \n",
            "\u001b[?25hRequirement already satisfied: lxml in /usr/local/lib/python3.7/dist-packages (from goose3) (4.9.1)\n",
            "Requirement already satisfied: six in /usr/local/lib/python3.7/dist-packages (from langdetect->goose3) (1.15.0)\n",
            "Requirement already satisfied: urllib3!=1.25.0,!=1.25.1,<1.26,>=1.21.1 in /usr/local/lib/python3.7/dist-packages (from requests->goose3) (1.24.3)\n",
            "Requirement already satisfied: certifi>=2017.4.17 in /usr/local/lib/python3.7/dist-packages (from requests->goose3) (2022.6.15)\n",
            "Requirement already satisfied: idna<3,>=2.5 in /usr/local/lib/python3.7/dist-packages (from requests->goose3) (2.10)\n",
            "Requirement already satisfied: chardet<4,>=3.0.2 in /usr/local/lib/python3.7/dist-packages (from requests->goose3) (3.0.4)\n",
            "Building wheels for collected packages: langdetect\n",
            "  Building wheel for langdetect (setup.py) ... \u001b[?25l\u001b[?25hdone\n",
            "  Created wheel for langdetect: filename=langdetect-1.0.9-py3-none-any.whl size=993242 sha256=35327767710371925b4cdb4a8f96ba750156edf43a52534ef395257f6473986f\n",
            "  Stored in directory: /root/.cache/pip/wheels/c5/96/8a/f90c59ed25d75e50a8c10a1b1c2d4c402e4dacfa87f3aff36a\n",
            "Successfully built langdetect\n",
            "Installing collected packages: pyahocorasick, langdetect, cssselect, goose3\n",
            "Successfully installed cssselect-1.1.0 goose3-3.1.12 langdetect-1.0.9 pyahocorasick-1.4.4\n"
          ]
        }
      ]
    },
    {
      "cell_type": "code",
      "source": [
        "from goose3 import Goose"
      ],
      "metadata": {
        "id": "DbslDimjk0LJ"
      },
      "execution_count": 21,
      "outputs": []
    },
    {
      "cell_type": "code",
      "source": [
        "g = Goose()\n",
        "url = 'https://iaexpert.academy/2020/11/09/ia-preve-resultado-das-eleicoes-americanas/'\n",
        "artigo = g.extract(url)"
      ],
      "metadata": {
        "id": "VBqDvXYmk4cJ"
      },
      "execution_count": 22,
      "outputs": []
    },
    {
      "cell_type": "code",
      "source": [
        "artigo.cleaned_text"
      ],
      "metadata": {
        "colab": {
          "base_uri": "https://localhost:8080/",
          "height": 105
        },
        "id": "vHidPn0Gl1J5",
        "outputId": "9775b998-b749-4a47-8471-c8dba4d37118"
      },
      "execution_count": 35,
      "outputs": [
        {
          "output_type": "execute_result",
          "data": {
            "text/plain": [
              "'Nas eleições presidenciais americanas de 2016, a maioria das predições apontavam para a vitória de Hillary Clinton. Entretanto, a história nos mostrou o resultado oposto, e Donald Trump foi o presidente nos últimos 4 anos. Desta vez, os estatísticos reexaminaram seus modelos, para aumentar o grau de confiabilidade nos seus resultados. Nesta tentativa de otimização das predições, a inteligência artificial certamente não ficou de fora.\\n\\nO modelo desenvolvido pelo Dr. Hernan Makse, físico estatístico da Universidade da Cidade de Nova York, baseou suas predições em uma rede neural treinada para processar os sentimentos expressos nas redes sociais. O algoritmo fez a análise de cerca de 1 bilhão de tweets para chegar a uma estimativa dos resultados do pleito. No dia da eleição, 3 de novembro, o modelo estava indicando a vitória de Joe Biden.\\n\\nO Dr. Makse disse que seu trabalho começou já na eleição de 2016, e foi testado novamente nas eleições na Argentina ano passado. Desta vez, o modelo está treinando com cerca de 5 vezes mais dados que nas eleições americanas anteriores. O trabalho não depende apenas da coleta dos dados, mas também de um tratamento estatístico adequado para levar em consideração duas variáveis externas: o viés de amostragem e a taxa de comparecimento. O primeiro fator se refere ao fato de que as redes sociais não necessariamente representam a população americana. A participação em redes sociais costuma ser maior nas cidades grandes, que de fato têm preferência por um dos candidatos, e o modelo deve ser corrigido para levar em consideração também a opinião das pessoas que não são ativas neste ambiente virtual. O segundo fator se deve à não-obrigatoriedade de votação nos Estados Unidos, ou seja, por mais que uma pessoa tenha sua preferência, pode ser que ela não compareça aos locais de votação para efetivá-la. Segundo o Dr. Makse, integrar estas duas variáveis em seu modelo é a parte mais importante do trabalho. Ele acredita ser esta uma das razões para que as estimativas da última eleição, baseadas em métodos tradicionais de coleta de informação, terem falhado. Sua equipe acompanhou as tendências apresentadas nas últimas eleições na Europa, e os modelos estão se revelando cada vez melhores.\\n\\nQuando seu modelo foi usado para predizer os resultados da eleição corrente usando dados brutos, Joe Biden apareceu como vencedor com larga vantagem. Após aplicar os mecanismos de correção para os dois vieses identificados, a vantagem diminuiu, mas Biden ainda é indicado como favorito.\\n\\nParece que, desta vez, os algoritmos estão de fato contribuindo para que as predições sejam mais precisas.'"
            ],
            "application/vnd.google.colaboratory.intrinsic+json": {
              "type": "string"
            }
          },
          "metadata": {},
          "execution_count": 35
        }
      ]
    },
    {
      "cell_type": "code",
      "source": [
        "titulo_artigo = artigo.title or 'Sem titulo'\n",
        "artigo_original = artigo.cleaned_text"
      ],
      "metadata": {
        "id": "VoXbe_CVnZNI"
      },
      "execution_count": 24,
      "outputs": []
    },
    {
      "cell_type": "code",
      "source": [
        "def sumarizar(texto):\n",
        "  import heapq\n",
        "  import re\n",
        "  texto_original = texto\n",
        "  texto_original = re.sub(r'\\s+', ' ', texto_original)\n",
        "  texto_formatado = pre_processamento(texto_original)\n",
        "  \n",
        "  frequencia_palavras = nltk.FreqDist(nltk.word_tokenize(texto_formatado))\n",
        "  frequencia_maxima = max(frequencia_palavras.values())\n",
        "  for palavra in frequencia_palavras.keys():\n",
        "    frequencia_palavras[palavra] = (frequencia_palavras[palavra] / frequencia_maxima)\n",
        "    lista_sentencas = nltk.sent_tokenize(texto_original)\n",
        "  quantidade_sentencas = int(len(lista_sentencas) / 3)\n",
        "  notas_sentencas = {}\n",
        "  for sentenca in lista_sentencas:\n",
        "    for palavra in nltk.word_tokenize(sentenca):\n",
        "      if palavra in frequencia_palavras.keys():\n",
        "        if sentenca not in notas_sentencas.keys():\n",
        "          notas_sentencas[sentenca] = frequencia_palavras[sentenca]\n",
        "        else:\n",
        "          notas_sentencas[sentenca] += frequencia_palavras[palavra]\n",
        "  \n",
        "  melhores_sentencas = heapq.nlargest(quantidade_sentencas, notas_sentencas, key=notas_sentencas.get)\n",
        "\n",
        "  return lista_sentencas, melhores_sentencas, frequencia_palavras, notas_sentencas"
      ],
      "metadata": {
        "id": "O9UPnvGgqt1Y"
      },
      "execution_count": 39,
      "outputs": []
    },
    {
      "cell_type": "code",
      "source": [
        "lista_sentencas_sumarizadas, melhores_sentencas_sumarizadas, frequencia_palavras_sumarizadas, nota_sentencas_sumarizadas = sumarizar(artigo_original)"
      ],
      "metadata": {
        "id": "5tJm1iIrtgp_"
      },
      "execution_count": 40,
      "outputs": []
    },
    {
      "cell_type": "code",
      "source": [
        "nota_sentencas_sumarizadas"
      ],
      "metadata": {
        "colab": {
          "base_uri": "https://localhost:8080/"
        },
        "id": "Or8LqE3tu4l_",
        "outputId": "a4df7258-dafd-4c7c-b595-6692d5c61e1b"
      },
      "execution_count": 27,
      "outputs": [
        {
          "output_type": "execute_result",
          "data": {
            "text/plain": [
              "{'Nas eleições presidenciais americanas de 2016, a maioria das predições apontavam para a vitória de Hillary Clinton.': 1.8333333333333333,\n",
              " 'Entretanto, a história nos mostrou o resultado oposto, e Donald Trump foi o presidente nos últimos 4 anos.': 0.9999999999999999,\n",
              " 'Desta vez, os estatísticos reexaminaram seus modelos, para aumentar o grau de confiabilidade nos seus resultados.': 1.6666666666666665,\n",
              " 'Nesta tentativa de otimização das predições, a inteligência artificial certamente não ficou de fora.': 1.5,\n",
              " 'O modelo desenvolvido pelo Dr. Hernan Makse, físico estatístico da Universidade da Cidade de Nova York, baseou suas predições em uma rede neural treinada para processar os sentimentos expressos nas redes sociais.': 3.4999999999999996,\n",
              " 'O algoritmo fez a análise de cerca de 1 bilhão de tweets para chegar a uma estimativa dos resultados do pleito.': 2.0,\n",
              " 'No dia da eleição, 3 de novembro, o modelo estava indicando a vitória de Joe Biden.': 2.3333333333333335,\n",
              " 'O Dr. Makse disse que seu trabalho começou já na eleição de 2016, e foi testado novamente nas eleições na Argentina ano passado.': 2.6666666666666665,\n",
              " 'Desta vez, o modelo está treinando com cerca de 5 vezes mais dados que nas eleições americanas anteriores.': 3.3333333333333335,\n",
              " 'O trabalho não depende apenas da coleta dos dados, mas também de um tratamento estatístico adequado para levar em consideração duas variáveis externas: o viés de amostragem e a taxa de comparecimento.': 3.9999999999999996,\n",
              " 'O primeiro fator se refere ao fato de que as redes sociais não necessariamente representam a população americana.': 2.666666666666666,\n",
              " 'A participação em redes sociais costuma ser maior nas cidades grandes, que de fato têm preferência por um dos candidatos, e o modelo deve ser corrigido para levar em consideração também a opinião das pessoas que não são ativas neste ambiente virtual.': 6.000000000000002,\n",
              " 'O segundo fator se deve à não-obrigatoriedade de votação nos Estados Unidos, ou seja, por mais que uma pessoa tenha sua preferência, pode ser que ela não compareça aos locais de votação para efetivá-la.': 2.6666666666666665,\n",
              " 'Segundo o Dr. Makse, integrar estas duas variáveis em seu modelo é a parte mais importante do trabalho.': 2.5,\n",
              " 'Ele acredita ser esta uma das razões para que as estimativas da última eleição, baseadas em métodos tradicionais de coleta de informação, terem falhado.': 2.4999999999999996,\n",
              " 'Sua equipe acompanhou as tendências apresentadas nas últimas eleições na Europa, e os modelos estão se revelando cada vez melhores.': 2.833333333333333,\n",
              " 'Quando seu modelo foi usado para predizer os resultados da eleição corrente usando dados brutos, Joe Biden apareceu como vencedor com larga vantagem.': 3.333333333333333,\n",
              " 'Após aplicar os mecanismos de correção para os dois vieses identificados, a vantagem diminuiu, mas Biden ainda é indicado como favorito.': 1.8333333333333335,\n",
              " 'Parece que, desta vez, os algoritmos estão de fato contribuindo para que as predições sejam mais precisas.': 2.333333333333333}"
            ]
          },
          "metadata": {},
          "execution_count": 27
        }
      ]
    },
    {
      "cell_type": "code",
      "source": [
        "def visualizar_resumo(titulo, lista_sentencas, melhores_sentencas):\n",
        "  from IPython.core.display import HTML\n",
        "  texto = ''\n",
        "  resumo = ''\n",
        "  display(HTML(f'<h1>{titulo}</h1>'))\n",
        "  display(HTML(f'<h2>Texto com resumo destacado - {titulo}</h2>'))\n",
        "  for sentenca in lista_sentencas:\n",
        "    if sentenca in melhores_sentencas:\n",
        "      texto += str(sentenca).replace(sentenca, f'<mark>{sentenca} </mark>')\n",
        "      resumo += str(sentenca).replace(sentenca, f'{sentenca} ')\n",
        "    else:\n",
        "      texto += f'{sentenca} '\n",
        "  display(HTML(f'{texto}'))\n",
        "  display(HTML(f'<h2>Resumo de - {titulo}</h2>'))\n",
        "  display(HTML(f'{resumo}'))\n"
      ],
      "metadata": {
        "id": "WblU1DFVx0Tv"
      },
      "execution_count": 51,
      "outputs": []
    },
    {
      "cell_type": "code",
      "source": [
        "visualizar_resumo(titulo_artigo, lista_sentencas_sumarizadas, melhores_sentencas_sumarizadas)"
      ],
      "metadata": {
        "colab": {
          "base_uri": "https://localhost:8080/",
          "height": 391
        },
        "id": "RID7g-AMzE6W",
        "outputId": "72186f65-6f46-4511-9c29-60b503a2399e"
      },
      "execution_count": 52,
      "outputs": [
        {
          "output_type": "display_data",
          "data": {
            "text/plain": [
              "<IPython.core.display.HTML object>"
            ],
            "text/html": [
              "<h1>IA prevê resultado das eleições americanas – IA Expert Academy</h1>"
            ]
          },
          "metadata": {}
        },
        {
          "output_type": "display_data",
          "data": {
            "text/plain": [
              "<IPython.core.display.HTML object>"
            ],
            "text/html": [
              "<h2>Texto com resumo destacado - IA prevê resultado das eleições americanas – IA Expert Academy</h2>"
            ]
          },
          "metadata": {}
        },
        {
          "output_type": "display_data",
          "data": {
            "text/plain": [
              "<IPython.core.display.HTML object>"
            ],
            "text/html": [
              "Nas eleições presidenciais americanas de 2016, a maioria das predições apontavam para a vitória de Hillary Clinton. Entretanto, a história nos mostrou o resultado oposto, e Donald Trump foi o presidente nos últimos 4 anos. Desta vez, os estatísticos reexaminaram seus modelos, para aumentar o grau de confiabilidade nos seus resultados. Nesta tentativa de otimização das predições, a inteligência artificial certamente não ficou de fora. <mark>O modelo desenvolvido pelo Dr. Hernan Makse, físico estatístico da Universidade da Cidade de Nova York, baseou suas predições em uma rede neural treinada para processar os sentimentos expressos nas redes sociais. </mark>O algoritmo fez a análise de cerca de 1 bilhão de tweets para chegar a uma estimativa dos resultados do pleito. No dia da eleição, 3 de novembro, o modelo estava indicando a vitória de Joe Biden. O Dr. Makse disse que seu trabalho começou já na eleição de 2016, e foi testado novamente nas eleições na Argentina ano passado. <mark>Desta vez, o modelo está treinando com cerca de 5 vezes mais dados que nas eleições americanas anteriores. </mark><mark>O trabalho não depende apenas da coleta dos dados, mas também de um tratamento estatístico adequado para levar em consideração duas variáveis externas: o viés de amostragem e a taxa de comparecimento. </mark>O primeiro fator se refere ao fato de que as redes sociais não necessariamente representam a população americana. <mark>A participação em redes sociais costuma ser maior nas cidades grandes, que de fato têm preferência por um dos candidatos, e o modelo deve ser corrigido para levar em consideração também a opinião das pessoas que não são ativas neste ambiente virtual. </mark>O segundo fator se deve à não-obrigatoriedade de votação nos Estados Unidos, ou seja, por mais que uma pessoa tenha sua preferência, pode ser que ela não compareça aos locais de votação para efetivá-la. Segundo o Dr. Makse, integrar estas duas variáveis em seu modelo é a parte mais importante do trabalho. Ele acredita ser esta uma das razões para que as estimativas da última eleição, baseadas em métodos tradicionais de coleta de informação, terem falhado. <mark>Sua equipe acompanhou as tendências apresentadas nas últimas eleições na Europa, e os modelos estão se revelando cada vez melhores. </mark><mark>Quando seu modelo foi usado para predizer os resultados da eleição corrente usando dados brutos, Joe Biden apareceu como vencedor com larga vantagem. </mark>Após aplicar os mecanismos de correção para os dois vieses identificados, a vantagem diminuiu, mas Biden ainda é indicado como favorito. Parece que, desta vez, os algoritmos estão de fato contribuindo para que as predições sejam mais precisas. "
            ]
          },
          "metadata": {}
        },
        {
          "output_type": "display_data",
          "data": {
            "text/plain": [
              "<IPython.core.display.HTML object>"
            ],
            "text/html": [
              "<h2>Resumo de - IA prevê resultado das eleições americanas – IA Expert Academy</h2>"
            ]
          },
          "metadata": {}
        },
        {
          "output_type": "display_data",
          "data": {
            "text/plain": [
              "<IPython.core.display.HTML object>"
            ],
            "text/html": [
              "O modelo desenvolvido pelo Dr. Hernan Makse, físico estatístico da Universidade da Cidade de Nova York, baseou suas predições em uma rede neural treinada para processar os sentimentos expressos nas redes sociais. Desta vez, o modelo está treinando com cerca de 5 vezes mais dados que nas eleições americanas anteriores. O trabalho não depende apenas da coleta dos dados, mas também de um tratamento estatístico adequado para levar em consideração duas variáveis externas: o viés de amostragem e a taxa de comparecimento. A participação em redes sociais costuma ser maior nas cidades grandes, que de fato têm preferência por um dos candidatos, e o modelo deve ser corrigido para levar em consideração também a opinião das pessoas que não são ativas neste ambiente virtual. Sua equipe acompanhou as tendências apresentadas nas últimas eleições na Europa, e os modelos estão se revelando cada vez melhores. Quando seu modelo foi usado para predizer os resultados da eleição corrente usando dados brutos, Joe Biden apareceu como vencedor com larga vantagem. "
            ]
          },
          "metadata": {}
        }
      ]
    },
    {
      "cell_type": "markdown",
      "source": [
        "## Sumarização de mais textos"
      ],
      "metadata": {
        "id": "NfPvt4c0SWHK"
      }
    },
    {
      "cell_type": "code",
      "source": [
        "lista_artigos = ['https://iaexpert.academy/2022/09/14/ia-identifica-vocalizacoes-roedores-usam-para-comunicar/',\n",
        "                 'https://iaexpert.academy/2022/09/28/openai-apresenta-whisper-sistema-transcricao-audio-desempenho-humano/',\n",
        "                 'https://iaexpert.academy/2022/09/21/trabalho-expoe-redes-neurais-robustas-arquitetura-diferente-funcionam-forma-similar/',\n",
        "                 'https://iaexpert.academy/2022/09/07/governo-frances-usa-ia-identificar-piscinas-nao-declaradas/',\n",
        "                 'https://iaexpert.academy/2022/08/31/ia-diagnostica-mal-parkinson-a-partir-padrao-respiratorio/',\n",
        "                 'https://iaexpert.academy/2022/08/03/ia-preve-estruturas-rna-base-sua-sequencia/']"
      ],
      "metadata": {
        "id": "D79wboE8iGuT"
      },
      "execution_count": 53,
      "outputs": []
    },
    {
      "cell_type": "code",
      "source": [
        "for url in lista_artigos:\n",
        "  g = Goose()\n",
        "  artigo = g.extract(url)\n",
        "  lista_sentencas, melhores_sentencas, _, _ = sumarizar (artigo.cleaned_text)\n",
        "  visualizar_resumo(artigo.title, lista_sentencas, melhores_sentencas)"
      ],
      "metadata": {
        "colab": {
          "base_uri": "https://localhost:8080/",
          "height": 1000
        },
        "id": "L-9332K3iIDb",
        "outputId": "d3f07755-c586-4d45-d177-0f12e84cc65f"
      },
      "execution_count": 55,
      "outputs": [
        {
          "output_type": "display_data",
          "data": {
            "text/plain": [
              "<IPython.core.display.HTML object>"
            ],
            "text/html": [
              "<h1>IA identifica vocalizações que roedores usam para se comunicar – IA Expert Academy</h1>"
            ]
          },
          "metadata": {}
        },
        {
          "output_type": "display_data",
          "data": {
            "text/plain": [
              "<IPython.core.display.HTML object>"
            ],
            "text/html": [
              "<h2>Texto com resumo destacado - IA identifica vocalizações que roedores usam para se comunicar – IA Expert Academy</h2>"
            ]
          },
          "metadata": {}
        },
        {
          "output_type": "display_data",
          "data": {
            "text/plain": [
              "<IPython.core.display.HTML object>"
            ],
            "text/html": [
              "Apesar de não ter a mesma complexidade da fala humana, os animais costumam usar vocalizações para se comunicar entre si. Muitos dos sons que eles emitem são inclusive fora da faixa de audição humana. <mark>Com o equipamento correto, é possível identificar esses sons, mas em um trabalho de pesquisa, seja em laboratório, seja no ambiente selvagem, anotar sons característicos que ocorrem ao longo do tempo tradicionalmente exige um especialista ouvindo horas de gravações. </mark>Uma equipe da Universidade de Washington desenvolveu uma inteligência artificial capaz de realizar este processo de forma automática. Chamado de DeepSqueak, o sistema foi publicado há 3 anos mas recebeu sua terceira versão mês passado. Ele conta com uma arquitetura de rede neural chamada de convolução regional, que processa sequências contíguas de sinal sonoro na busca de padrões conhecidos pelo sistema. O foco do trabalho tem sido com roedores. <mark>No trabalho original, os autores compararam o DeepSqueak com outros métodos automáticos e com a análise manual, encontrando redução na taxa de falsos positivos, aumento no recall de detecção, redução dramática no tempo de análise, além da possibilidade de otimizar a classificação automática de sílabas e realizar análise sintática automática em vocabulários extensos. </mark>Entretanto, eles são cautelosos afirmando que o método funciona melhor para algumas vocalizações que outras, o que mantém os especialistas como peça fundamental de pesquisas mais complexas. O sistema pode ser facilmente adicionado a um procedimento atual de pesquisa, tendo o potencial de revelar novos insights sobre o comportamento dos animais. <mark>Os pesquisadores agora almejam fundir seu método com outras tecnologias de inteligência artificial que analisam vídeos, já que boa parte da comunicação animal vem da expressão corporal, o que pode se mostrar revolucionário na compreensão de sua vida social. </mark>A análise de vocalizações tem ganhado tração graças ao amadurecimento da inteligência artificial. Pesquisadores do Instituto Oceanográfico Woods Hole, em Massachusetts nos Estados Unidos, estão tentando aplicar o mesmo conceito para estudar corais. <mark>Como o som se propaga muito bem na água, um único sensor seria capaz de cobrir toda uma região de coral, por exemplo, permitindo identificar quais espécies estão presentes, incluindo espécies novas. </mark>"
            ]
          },
          "metadata": {}
        },
        {
          "output_type": "display_data",
          "data": {
            "text/plain": [
              "<IPython.core.display.HTML object>"
            ],
            "text/html": [
              "<h2>Resumo de - IA identifica vocalizações que roedores usam para se comunicar – IA Expert Academy</h2>"
            ]
          },
          "metadata": {}
        },
        {
          "output_type": "display_data",
          "data": {
            "text/plain": [
              "<IPython.core.display.HTML object>"
            ],
            "text/html": [
              "Com o equipamento correto, é possível identificar esses sons, mas em um trabalho de pesquisa, seja em laboratório, seja no ambiente selvagem, anotar sons característicos que ocorrem ao longo do tempo tradicionalmente exige um especialista ouvindo horas de gravações. No trabalho original, os autores compararam o DeepSqueak com outros métodos automáticos e com a análise manual, encontrando redução na taxa de falsos positivos, aumento no recall de detecção, redução dramática no tempo de análise, além da possibilidade de otimizar a classificação automática de sílabas e realizar análise sintática automática em vocabulários extensos. Os pesquisadores agora almejam fundir seu método com outras tecnologias de inteligência artificial que analisam vídeos, já que boa parte da comunicação animal vem da expressão corporal, o que pode se mostrar revolucionário na compreensão de sua vida social. Como o som se propaga muito bem na água, um único sensor seria capaz de cobrir toda uma região de coral, por exemplo, permitindo identificar quais espécies estão presentes, incluindo espécies novas. "
            ]
          },
          "metadata": {}
        },
        {
          "output_type": "display_data",
          "data": {
            "text/plain": [
              "<IPython.core.display.HTML object>"
            ],
            "text/html": [
              "<h1>OpenAI apresenta Whisper, sistema de transcrição de áudio com desempenho humano – IA Expert Academy</h1>"
            ]
          },
          "metadata": {}
        },
        {
          "output_type": "display_data",
          "data": {
            "text/plain": [
              "<IPython.core.display.HTML object>"
            ],
            "text/html": [
              "<h2>Texto com resumo destacado - OpenAI apresenta Whisper, sistema de transcrição de áudio com desempenho humano – IA Expert Academy</h2>"
            ]
          },
          "metadata": {}
        },
        {
          "output_type": "display_data",
          "data": {
            "text/plain": [
              "<IPython.core.display.HTML object>"
            ],
            "text/html": [
              "<mark>Apesar de todo o progresso recente na área de processamento de linguagem natural, as tarefas mais beneficiadas foram aquelas associadas a sistemas de conversação, onde o usuário poderia interagir com a inteligência artificial no formato de texto. </mark>A transcrição de áudio para texto teve desenvolvimento mais lento, e apesar de várias ferramentas já produzirem legendas automaticamente, a qualidade ainda não estava a par dos sistemas conversacionais. Na última semana, a OpenAI mudou este paradigma ao disponibilizar em formato aberto o código para o Whisper, uma rede neural treinada na tarefa de transcrição de áudio. <mark>A arquitetura do modelo segue a abordagem to tipo end-to-end, onde um encoder aprende a codificar o áudio e um decoder aprende a converter o sinal para texto. </mark>Durante o processamento, o áudio de entrada é fragmentado em sequências de 30 segundos e passado para o encoder no formato de um espectrograma, que é uma forma tradicional para representar dados sonoros. <mark>O decoder recebe tokens especiais que direcionam o modelo para realizar uma tarefa específica, como a identificação do idioma, a geração de marcas de tempo, a transcrição do discurso em um idioma desejado, ou a tradução do áudio para a versão em inglês da transcrição. </mark>O sistema treinou com cerca de 680 mil horas de áudio coletados da internet, compreendendo vários idiomas e tarefas diferentes. Os autores acreditam que o tamanho e a diversidade dos dados foram responsáveis pela alta robustez do Whisper com relação a sotaques, sons de fundo e linguagem técnica. O resultado foi um modelo que produz transcrições tão boas quanto aquelas produzidas por um humano. Alguns exemplos podem ser vistos na página de apresentação do sistema. A empresa está disponibilizando o trabalho e o código do Whisper na expectativa de popularizar ainda mais as interfaces de voz de aplicações inovadoras. "
            ]
          },
          "metadata": {}
        },
        {
          "output_type": "display_data",
          "data": {
            "text/plain": [
              "<IPython.core.display.HTML object>"
            ],
            "text/html": [
              "<h2>Resumo de - OpenAI apresenta Whisper, sistema de transcrição de áudio com desempenho humano – IA Expert Academy</h2>"
            ]
          },
          "metadata": {}
        },
        {
          "output_type": "display_data",
          "data": {
            "text/plain": [
              "<IPython.core.display.HTML object>"
            ],
            "text/html": [
              "Apesar de todo o progresso recente na área de processamento de linguagem natural, as tarefas mais beneficiadas foram aquelas associadas a sistemas de conversação, onde o usuário poderia interagir com a inteligência artificial no formato de texto. A arquitetura do modelo segue a abordagem to tipo end-to-end, onde um encoder aprende a codificar o áudio e um decoder aprende a converter o sinal para texto. O decoder recebe tokens especiais que direcionam o modelo para realizar uma tarefa específica, como a identificação do idioma, a geração de marcas de tempo, a transcrição do discurso em um idioma desejado, ou a tradução do áudio para a versão em inglês da transcrição. "
            ]
          },
          "metadata": {}
        },
        {
          "output_type": "display_data",
          "data": {
            "text/plain": [
              "<IPython.core.display.HTML object>"
            ],
            "text/html": [
              "<h1>Trabalho expõe que redes neurais robustas com arquitetura diferente funcionam de forma similar – IA Expert Academy</h1>"
            ]
          },
          "metadata": {}
        },
        {
          "output_type": "display_data",
          "data": {
            "text/plain": [
              "<IPython.core.display.HTML object>"
            ],
            "text/html": [
              "<h2>Texto com resumo destacado - Trabalho expõe que redes neurais robustas com arquitetura diferente funcionam de forma similar – IA Expert Academy</h2>"
            ]
          },
          "metadata": {}
        },
        {
          "output_type": "display_data",
          "data": {
            "text/plain": [
              "<IPython.core.display.HTML object>"
            ],
            "text/html": [
              "As redes neurais são a arquitetura mais aplicada atualmente em inteligência artificial, servindo como base para os sistemas mais avançados à disposição. Apesar de seu sucesso, uma preocupação que permanece é com a baixa explicabilidade dessas estruturas, sendo em muitos casos impossível entender o raciocínio que elas aplicam para produzir um resultado. <mark>Vários métodos têm sido propostos no intuito de comparar a similaridade entre as representações que diferentes redes neurais criam, com o intuito de entender melhor seu funcionamento. </mark>Entretanto, as métricas propostas até então costumam superestimar a similaridade devido à alta correlação entre os dados que elas tratam. Em outras palavras, as redes parecem similares mais por processarem dados similares do que por funcionarem de maneira similar. Pesquisadores do Laboratório Nacional Los Alamos, nos Estados Unidos, acabam de publicar um trabalho propondo uma nova abordagem para comparar redes. <mark>A ideia começou com o levantamento de que redes treinadas com dados de alta qualidade tendem a performar de forma estranha diante de qualquer aberração, como ficou emblemático há alguns anos no caso de sinais de trânsito interpretados de forma errada. </mark><mark>Para garantir a robustez desses modelos, desenvolvedores têm aplicado um regime de treinamento adversarial, onde dados aberrantes são intencionalmente adicionados ao treinamento, forçando a rede a aprender a ignorá-los. </mark><mark>Em vista disso, os pesquisadores de Los Alamos desenvolveram uma métrica para determinar a similaridade entre redes neurais, e observaram que sistemas robustos tendem a convergir para uma mesma solução, ou seja, tendem a apresentar alta similaridade. </mark>Isto indica que, no fundo, mesmo com arquiteturas distintas, redes capazes de distinguir sinais úteis de fatores de confusão estão fazendo a mesma coisa. Esta descoberta é muito interessante, já que desenvolvedores têm atualmente focado na busca da arquitetura correta para resolver determinado problema. O trabalho mostra, entretanto, que a arquitetura em si tem menor relevância do que se imaginava, o que pode diminuir o espaço de busca consideravelmente. A sugestão é que o regime de treinamento pode ter um impacto até então subestimado. Os cientistas acreditam que suas observações podem ter implicações ainda mais profundas, esclarecendo características de aprendizagem até mesmo em animais e humanos, já que o tráfego de informação no cérebro é muito similar ao que ocorre nos processadores de silício. "
            ]
          },
          "metadata": {}
        },
        {
          "output_type": "display_data",
          "data": {
            "text/plain": [
              "<IPython.core.display.HTML object>"
            ],
            "text/html": [
              "<h2>Resumo de - Trabalho expõe que redes neurais robustas com arquitetura diferente funcionam de forma similar – IA Expert Academy</h2>"
            ]
          },
          "metadata": {}
        },
        {
          "output_type": "display_data",
          "data": {
            "text/plain": [
              "<IPython.core.display.HTML object>"
            ],
            "text/html": [
              "Vários métodos têm sido propostos no intuito de comparar a similaridade entre as representações que diferentes redes neurais criam, com o intuito de entender melhor seu funcionamento. A ideia começou com o levantamento de que redes treinadas com dados de alta qualidade tendem a performar de forma estranha diante de qualquer aberração, como ficou emblemático há alguns anos no caso de sinais de trânsito interpretados de forma errada. Para garantir a robustez desses modelos, desenvolvedores têm aplicado um regime de treinamento adversarial, onde dados aberrantes são intencionalmente adicionados ao treinamento, forçando a rede a aprender a ignorá-los. Em vista disso, os pesquisadores de Los Alamos desenvolveram uma métrica para determinar a similaridade entre redes neurais, e observaram que sistemas robustos tendem a convergir para uma mesma solução, ou seja, tendem a apresentar alta similaridade. "
            ]
          },
          "metadata": {}
        },
        {
          "output_type": "display_data",
          "data": {
            "text/plain": [
              "<IPython.core.display.HTML object>"
            ],
            "text/html": [
              "<h1>Governo francês usa IA para identificar piscinas não declaradas – IA Expert Academy</h1>"
            ]
          },
          "metadata": {}
        },
        {
          "output_type": "display_data",
          "data": {
            "text/plain": [
              "<IPython.core.display.HTML object>"
            ],
            "text/html": [
              "<h2>Texto com resumo destacado - Governo francês usa IA para identificar piscinas não declaradas – IA Expert Academy</h2>"
            ]
          },
          "metadata": {}
        },
        {
          "output_type": "display_data",
          "data": {
            "text/plain": [
              "<IPython.core.display.HTML object>"
            ],
            "text/html": [
              "<mark>Na França, não é muito comum que as residências tenham piscina, mas ondas de calor no período de verão dos últimos anos têm tornado as piscinas cada vez mais populares. </mark>Só no último ano, o número de piscinas aumentou cerca de 10%. Como a instalação de uma piscina aumenta o valor do imóvel, o governo reajusta os impostos devidos. <mark>Só que como na maioria dos casos as piscinas ficam na área traseira das casas, escondidas por cercas, muitos residentes não comunicam as autoridades sobre a instalação, e assim não recolhem o novo valor do imposto. </mark><mark>Mas nos últimos meses, a agência fiscal francesa começou a utilizar inteligência artificial para identificar piscinas recentemente instaladas, a partir de imagens de satélite. </mark>O algoritmo foi treinado pela agência em cooperação com a empresa Capgemini, usando bibliotecas de acesso aberto do Google. As imagens são obtidas de bancos públicos. Quando o algoritmo identifica uma piscina, ele compara os resultados com uma base de dados de piscinas declaradas pelos residentes, retornando as eventuais divergências. Por último, um colaborador da agência verifica as imagens levantadas, para evitar falsos positivos. <mark>Os desenvolvedores comentam que mais de 20 mil piscinas não declaradas foram encontradas com o uso da ferramenta no período de testes, e 94% dos residentes contatados confirmaram sua presença, evidenciando a precisão do método. </mark>Agora, a solução será expandida para todo o país. Isto deve permitir a coleta adicional de cerca de 10 milhões de euros anuais. "
            ]
          },
          "metadata": {}
        },
        {
          "output_type": "display_data",
          "data": {
            "text/plain": [
              "<IPython.core.display.HTML object>"
            ],
            "text/html": [
              "<h2>Resumo de - Governo francês usa IA para identificar piscinas não declaradas – IA Expert Academy</h2>"
            ]
          },
          "metadata": {}
        },
        {
          "output_type": "display_data",
          "data": {
            "text/plain": [
              "<IPython.core.display.HTML object>"
            ],
            "text/html": [
              "Na França, não é muito comum que as residências tenham piscina, mas ondas de calor no período de verão dos últimos anos têm tornado as piscinas cada vez mais populares. Só que como na maioria dos casos as piscinas ficam na área traseira das casas, escondidas por cercas, muitos residentes não comunicam as autoridades sobre a instalação, e assim não recolhem o novo valor do imposto. Mas nos últimos meses, a agência fiscal francesa começou a utilizar inteligência artificial para identificar piscinas recentemente instaladas, a partir de imagens de satélite. Os desenvolvedores comentam que mais de 20 mil piscinas não declaradas foram encontradas com o uso da ferramenta no período de testes, e 94% dos residentes contatados confirmaram sua presença, evidenciando a precisão do método. "
            ]
          },
          "metadata": {}
        },
        {
          "output_type": "display_data",
          "data": {
            "text/plain": [
              "<IPython.core.display.HTML object>"
            ],
            "text/html": [
              "<h1>IA diagnostica mal de Parkinson a partir do padrão respiratório – IA Expert Academy</h1>"
            ]
          },
          "metadata": {}
        },
        {
          "output_type": "display_data",
          "data": {
            "text/plain": [
              "<IPython.core.display.HTML object>"
            ],
            "text/html": [
              "<h2>Texto com resumo destacado - IA diagnostica mal de Parkinson a partir do padrão respiratório – IA Expert Academy</h2>"
            ]
          },
          "metadata": {}
        },
        {
          "output_type": "display_data",
          "data": {
            "text/plain": [
              "<IPython.core.display.HTML object>"
            ],
            "text/html": [
              "O mal de Parkinson é uma doença de difícil diagnóstico, o que limita sua descoberta precoce e dificulta o monitoramento de seu progresso. Tradicionalmente, os médicos utilizam o aparecimento de sintomas motores, como tremores, enrijecimento e lentidão, para estabelecer um tratamento. Entretanto, esses sintomas aparecem num estágio relativamente avançado da doença. O diagnóstico precoce é essencial para frear o seu avanço, por isso alguns métodos alternativos têm sido propostos. <mark>Os de maior destaque envolvem a análise do fluido cerebrospinal e exames de neuroimagem, mas sua desvantagem é a natureza invasiva, o alto custo e a necessidade de equipamentos especializados e pessoal técnico, inviabilizando em muitos casos uma rotina de testagem capaz de providenciar o diagnóstico precoce e acompanhar a progressão da doença. </mark>Dados esses problemas, pesquisadores do Instituto de Tecnologia de Massachusetts (MIT), nos Estados Unidos, observaram que a literatura sobre a doença reportava uma relação entre o mal de Parkinson e a respiração dos pacientes. Não só isso, as alterações respiratórias costumam aparecer anos antes dos sintomas motores. <mark>Então, eles desenvolveram um equipamento capaz de registrar o padrão de respiração de pessoas enquanto elas estão dormindo, e treinaram uma rede neural para analisar este padrão e entregar um diagnóstico. </mark><mark>O equipamento, que se parece com um roteador, emite ondas de rádio, cujo sinal pode ser usado para construir o padrão de respiração, com o benefício de não exigir esforço do paciente e sequer tocar seu corpo. </mark>O modelo foi avaliado com um dataset de mais de 7500 pessoas, atingindo uma métrica AUC de 0,90. Os autores ainda compararam os resultados obtidos com o emissor de ondas de rádio com aqueles produzidos por uma cinta, sendo o método sem fio superior. O modelo, por sua vez, foi capaz de estimar a severidade e a progressão da doença de acordo com uma escala unificada, atingindo correlação de 0,94. <mark>O estudo traz importantes implicações tanto para o desenvolvimento de medicamentos quanto no cuidado clínico, possibilitando estudos mais rápidos e com menos pacientes, e habilitando pacientes ao monitoramento contínuo, o que é especialmente relevante em situações onde o tratamento tradicional é ineficiente, como para pacientes com dificuldade de locomoção ou que moram em áreas afastadas. </mark>O trabalho publicado está disponível para consulta. "
            ]
          },
          "metadata": {}
        },
        {
          "output_type": "display_data",
          "data": {
            "text/plain": [
              "<IPython.core.display.HTML object>"
            ],
            "text/html": [
              "<h2>Resumo de - IA diagnostica mal de Parkinson a partir do padrão respiratório – IA Expert Academy</h2>"
            ]
          },
          "metadata": {}
        },
        {
          "output_type": "display_data",
          "data": {
            "text/plain": [
              "<IPython.core.display.HTML object>"
            ],
            "text/html": [
              "Os de maior destaque envolvem a análise do fluido cerebrospinal e exames de neuroimagem, mas sua desvantagem é a natureza invasiva, o alto custo e a necessidade de equipamentos especializados e pessoal técnico, inviabilizando em muitos casos uma rotina de testagem capaz de providenciar o diagnóstico precoce e acompanhar a progressão da doença. Então, eles desenvolveram um equipamento capaz de registrar o padrão de respiração de pessoas enquanto elas estão dormindo, e treinaram uma rede neural para analisar este padrão e entregar um diagnóstico. O equipamento, que se parece com um roteador, emite ondas de rádio, cujo sinal pode ser usado para construir o padrão de respiração, com o benefício de não exigir esforço do paciente e sequer tocar seu corpo. O estudo traz importantes implicações tanto para o desenvolvimento de medicamentos quanto no cuidado clínico, possibilitando estudos mais rápidos e com menos pacientes, e habilitando pacientes ao monitoramento contínuo, o que é especialmente relevante em situações onde o tratamento tradicional é ineficiente, como para pacientes com dificuldade de locomoção ou que moram em áreas afastadas. "
            ]
          },
          "metadata": {}
        },
        {
          "output_type": "stream",
          "name": "stderr",
          "text": [
            "WARNING:goose3.crawler:Publish date 26 de agosto de 2022 em 14:41 could not be resolved to UTC\n"
          ]
        },
        {
          "output_type": "display_data",
          "data": {
            "text/plain": [
              "<IPython.core.display.HTML object>"
            ],
            "text/html": [
              "<h1>IA prevê estruturas de RNA com base em sua sequência – IA Expert Academy</h1>"
            ]
          },
          "metadata": {}
        },
        {
          "output_type": "display_data",
          "data": {
            "text/plain": [
              "<IPython.core.display.HTML object>"
            ],
            "text/html": [
              "<h2>Texto com resumo destacado - IA prevê estruturas de RNA com base em sua sequência – IA Expert Academy</h2>"
            ]
          },
          "metadata": {}
        },
        {
          "output_type": "display_data",
          "data": {
            "text/plain": [
              "<IPython.core.display.HTML object>"
            ],
            "text/html": [
              "<mark>Em 2020, o grupo DeepMind da empresa Alphabet impressionou os cientistas da área biológica ao anunciar o AlphaFold, uma inteligência artificial capaz de predizer a estrutura tridimensional de proteínas com base em sua sequência de aminoácidos. </mark>Esta não foi uma tarefa trivial, já que cada aminoácido contribui de forma individual e complexa nesta estrutura final. O formato tridimensional é essencial para a atividade que as proteínas exercem dentro das células. Mas não são só as proteínas que têm esta propriedade. Muitas outras moléculas formam estruturas tridimensionais que auxiliam em sua função. É o caso do RNA. <mark>Tradicionalmente, o RNA é visto como um intermediário entre o DNA e as proteínas, já que ele é sintetizado a partir do material genético e serve como “receita” para a produção de proteínas, mas muitas sequências de RNA também exercem outras funções celulares. </mark><mark>Agora, graças ao trabalho de pesquisadores da Universidade Ruhr Bochum, na Alemanha, a estrutura tridimensional dessas moléculas também pode ser predita com base em sua simples sequência, o que foi possível mais uma vez com o emprego de inteligência artificial. </mark>Os cientistas comentam que, apesar de haverem modelos biofísicos capazes de realizar esta tarefa, eles não são capazes de levar em consideração o ambiente celular onde a molécula de RNA está sendo gerada, o que tem impacto significativo em seu formato final. Foi este o problema que a inteligência artificial resolveu, aprendendo os padrões sutis deste ambiente com base em estruturas conhecidas. Mas, ao contrário do trabalho do DeepMind, neste caso havia uma escassez de dados para treinamento. <mark>Os pesquisadores resolveram isso através de um processo de “engenharia reversa”, onde eles usaram sub-estruturas conhecidas do RNA para determinar as possíveis sequências que resultariam nelas, assim aumentando a quantidade de dados disponíveis para o treinamento. </mark>Na validação do modelo, ele foi aplicado para prever a estrutura de moléculas de RNA bacteriano. Os resultados foram considerados suficientemente similares às moléculas com dados experimentais disponíveis. <mark>Dado o atraso de desenvolvimento em relação ao AlphaFold, e as particularidades do processo de formação de RNA, este é apenas o início deste desenvolvimento, mas uma vez mais fica demonstrado o sucesso na convergência entre a ciência e as ferramentas possibilitadas pela inteligência artificial. </mark>"
            ]
          },
          "metadata": {}
        },
        {
          "output_type": "display_data",
          "data": {
            "text/plain": [
              "<IPython.core.display.HTML object>"
            ],
            "text/html": [
              "<h2>Resumo de - IA prevê estruturas de RNA com base em sua sequência – IA Expert Academy</h2>"
            ]
          },
          "metadata": {}
        },
        {
          "output_type": "display_data",
          "data": {
            "text/plain": [
              "<IPython.core.display.HTML object>"
            ],
            "text/html": [
              "Em 2020, o grupo DeepMind da empresa Alphabet impressionou os cientistas da área biológica ao anunciar o AlphaFold, uma inteligência artificial capaz de predizer a estrutura tridimensional de proteínas com base em sua sequência de aminoácidos. Tradicionalmente, o RNA é visto como um intermediário entre o DNA e as proteínas, já que ele é sintetizado a partir do material genético e serve como “receita” para a produção de proteínas, mas muitas sequências de RNA também exercem outras funções celulares. Agora, graças ao trabalho de pesquisadores da Universidade Ruhr Bochum, na Alemanha, a estrutura tridimensional dessas moléculas também pode ser predita com base em sua simples sequência, o que foi possível mais uma vez com o emprego de inteligência artificial. Os pesquisadores resolveram isso através de um processo de “engenharia reversa”, onde eles usaram sub-estruturas conhecidas do RNA para determinar as possíveis sequências que resultariam nelas, assim aumentando a quantidade de dados disponíveis para o treinamento. Dado o atraso de desenvolvimento em relação ao AlphaFold, e as particularidades do processo de formação de RNA, este é apenas o início deste desenvolvimento, mas uma vez mais fica demonstrado o sucesso na convergência entre a ciência e as ferramentas possibilitadas pela inteligência artificial. "
            ]
          },
          "metadata": {}
        }
      ]
    },
    {
      "cell_type": "markdown",
      "source": [
        "## Exercício de lematização"
      ],
      "metadata": {
        "id": "ZPXDJ9U_SaLy"
      }
    },
    {
      "cell_type": "code",
      "source": [
        "import spacy"
      ],
      "metadata": {
        "id": "dwuHXUjGoeog"
      },
      "execution_count": 56,
      "outputs": []
    },
    {
      "cell_type": "code",
      "source": [
        "!python -m spacy download pt_core_news_sm"
      ],
      "metadata": {
        "colab": {
          "base_uri": "https://localhost:8080/"
        },
        "id": "ySwyaE_bohvo",
        "outputId": "b5353c8a-fbf5-48ba-c840-acc5eb34aa11"
      },
      "execution_count": 58,
      "outputs": [
        {
          "output_type": "stream",
          "name": "stdout",
          "text": [
            "2022-10-01 22:20:50.983058: E tensorflow/stream_executor/cuda/cuda_driver.cc:271] failed call to cuInit: CUDA_ERROR_NO_DEVICE: no CUDA-capable device is detected\n",
            "Looking in indexes: https://pypi.org/simple, https://us-python.pkg.dev/colab-wheels/public/simple/\n",
            "Collecting pt-core-news-sm==3.4.0\n",
            "  Using cached https://github.com/explosion/spacy-models/releases/download/pt_core_news_sm-3.4.0/pt_core_news_sm-3.4.0-py3-none-any.whl (13.0 MB)\n",
            "Requirement already satisfied: spacy<3.5.0,>=3.4.0 in /usr/local/lib/python3.7/dist-packages (from pt-core-news-sm==3.4.0) (3.4.1)\n",
            "Requirement already satisfied: wasabi<1.1.0,>=0.9.1 in /usr/local/lib/python3.7/dist-packages (from spacy<3.5.0,>=3.4.0->pt-core-news-sm==3.4.0) (0.10.1)\n",
            "Requirement already satisfied: typing-extensions<4.2.0,>=3.7.4 in /usr/local/lib/python3.7/dist-packages (from spacy<3.5.0,>=3.4.0->pt-core-news-sm==3.4.0) (4.1.1)\n",
            "Requirement already satisfied: numpy>=1.15.0 in /usr/local/lib/python3.7/dist-packages (from spacy<3.5.0,>=3.4.0->pt-core-news-sm==3.4.0) (1.21.6)\n",
            "Requirement already satisfied: jinja2 in /usr/local/lib/python3.7/dist-packages (from spacy<3.5.0,>=3.4.0->pt-core-news-sm==3.4.0) (2.11.3)\n",
            "Requirement already satisfied: murmurhash<1.1.0,>=0.28.0 in /usr/local/lib/python3.7/dist-packages (from spacy<3.5.0,>=3.4.0->pt-core-news-sm==3.4.0) (1.0.8)\n",
            "Requirement already satisfied: setuptools in /usr/local/lib/python3.7/dist-packages (from spacy<3.5.0,>=3.4.0->pt-core-news-sm==3.4.0) (57.4.0)\n",
            "Requirement already satisfied: catalogue<2.1.0,>=2.0.6 in /usr/local/lib/python3.7/dist-packages (from spacy<3.5.0,>=3.4.0->pt-core-news-sm==3.4.0) (2.0.8)\n",
            "Requirement already satisfied: preshed<3.1.0,>=3.0.2 in /usr/local/lib/python3.7/dist-packages (from spacy<3.5.0,>=3.4.0->pt-core-news-sm==3.4.0) (3.0.7)\n",
            "Requirement already satisfied: pathy>=0.3.5 in /usr/local/lib/python3.7/dist-packages (from spacy<3.5.0,>=3.4.0->pt-core-news-sm==3.4.0) (0.6.2)\n",
            "Requirement already satisfied: spacy-loggers<2.0.0,>=1.0.0 in /usr/local/lib/python3.7/dist-packages (from spacy<3.5.0,>=3.4.0->pt-core-news-sm==3.4.0) (1.0.3)\n",
            "Requirement already satisfied: thinc<8.2.0,>=8.1.0 in /usr/local/lib/python3.7/dist-packages (from spacy<3.5.0,>=3.4.0->pt-core-news-sm==3.4.0) (8.1.0)\n",
            "Requirement already satisfied: spacy-legacy<3.1.0,>=3.0.9 in /usr/local/lib/python3.7/dist-packages (from spacy<3.5.0,>=3.4.0->pt-core-news-sm==3.4.0) (3.0.10)\n",
            "Requirement already satisfied: langcodes<4.0.0,>=3.2.0 in /usr/local/lib/python3.7/dist-packages (from spacy<3.5.0,>=3.4.0->pt-core-news-sm==3.4.0) (3.3.0)\n",
            "Requirement already satisfied: tqdm<5.0.0,>=4.38.0 in /usr/local/lib/python3.7/dist-packages (from spacy<3.5.0,>=3.4.0->pt-core-news-sm==3.4.0) (4.64.1)\n",
            "Requirement already satisfied: srsly<3.0.0,>=2.4.3 in /usr/local/lib/python3.7/dist-packages (from spacy<3.5.0,>=3.4.0->pt-core-news-sm==3.4.0) (2.4.4)\n",
            "Requirement already satisfied: typer<0.5.0,>=0.3.0 in /usr/local/lib/python3.7/dist-packages (from spacy<3.5.0,>=3.4.0->pt-core-news-sm==3.4.0) (0.4.2)\n",
            "Requirement already satisfied: packaging>=20.0 in /usr/local/lib/python3.7/dist-packages (from spacy<3.5.0,>=3.4.0->pt-core-news-sm==3.4.0) (21.3)\n",
            "Requirement already satisfied: pydantic!=1.8,!=1.8.1,<1.10.0,>=1.7.4 in /usr/local/lib/python3.7/dist-packages (from spacy<3.5.0,>=3.4.0->pt-core-news-sm==3.4.0) (1.9.2)\n",
            "Requirement already satisfied: requests<3.0.0,>=2.13.0 in /usr/local/lib/python3.7/dist-packages (from spacy<3.5.0,>=3.4.0->pt-core-news-sm==3.4.0) (2.23.0)\n",
            "Requirement already satisfied: cymem<2.1.0,>=2.0.2 in /usr/local/lib/python3.7/dist-packages (from spacy<3.5.0,>=3.4.0->pt-core-news-sm==3.4.0) (2.0.6)\n",
            "Requirement already satisfied: zipp>=0.5 in /usr/local/lib/python3.7/dist-packages (from catalogue<2.1.0,>=2.0.6->spacy<3.5.0,>=3.4.0->pt-core-news-sm==3.4.0) (3.8.1)\n",
            "Requirement already satisfied: pyparsing!=3.0.5,>=2.0.2 in /usr/local/lib/python3.7/dist-packages (from packaging>=20.0->spacy<3.5.0,>=3.4.0->pt-core-news-sm==3.4.0) (3.0.9)\n",
            "Requirement already satisfied: smart-open<6.0.0,>=5.2.1 in /usr/local/lib/python3.7/dist-packages (from pathy>=0.3.5->spacy<3.5.0,>=3.4.0->pt-core-news-sm==3.4.0) (5.2.1)\n",
            "Requirement already satisfied: chardet<4,>=3.0.2 in /usr/local/lib/python3.7/dist-packages (from requests<3.0.0,>=2.13.0->spacy<3.5.0,>=3.4.0->pt-core-news-sm==3.4.0) (3.0.4)\n",
            "Requirement already satisfied: idna<3,>=2.5 in /usr/local/lib/python3.7/dist-packages (from requests<3.0.0,>=2.13.0->spacy<3.5.0,>=3.4.0->pt-core-news-sm==3.4.0) (2.10)\n",
            "Requirement already satisfied: certifi>=2017.4.17 in /usr/local/lib/python3.7/dist-packages (from requests<3.0.0,>=2.13.0->spacy<3.5.0,>=3.4.0->pt-core-news-sm==3.4.0) (2022.6.15)\n",
            "Requirement already satisfied: urllib3!=1.25.0,!=1.25.1,<1.26,>=1.21.1 in /usr/local/lib/python3.7/dist-packages (from requests<3.0.0,>=2.13.0->spacy<3.5.0,>=3.4.0->pt-core-news-sm==3.4.0) (1.24.3)\n",
            "Requirement already satisfied: blis<0.8.0,>=0.7.8 in /usr/local/lib/python3.7/dist-packages (from thinc<8.2.0,>=8.1.0->spacy<3.5.0,>=3.4.0->pt-core-news-sm==3.4.0) (0.7.8)\n",
            "Requirement already satisfied: click<9.0.0,>=7.1.1 in /usr/local/lib/python3.7/dist-packages (from typer<0.5.0,>=0.3.0->spacy<3.5.0,>=3.4.0->pt-core-news-sm==3.4.0) (7.1.2)\n",
            "Requirement already satisfied: MarkupSafe>=0.23 in /usr/local/lib/python3.7/dist-packages (from jinja2->spacy<3.5.0,>=3.4.0->pt-core-news-sm==3.4.0) (2.0.1)\n",
            "\u001b[38;5;2m✔ Download and installation successful\u001b[0m\n",
            "You can now load the package via spacy.load('pt_core_news_sm')\n"
          ]
        }
      ]
    },
    {
      "cell_type": "code",
      "source": [
        "pln = spacy.load('pt_core_news_sm')"
      ],
      "metadata": {
        "colab": {
          "base_uri": "https://localhost:8080/"
        },
        "id": "byI4YAE_o43w",
        "outputId": "6906be14-82cd-4a00-a750-8e29cbb3f1f0"
      },
      "execution_count": 59,
      "outputs": [
        {
          "output_type": "execute_result",
          "data": {
            "text/plain": [
              "<spacy.lang.pt.Portuguese at 0x7f8090f1ce90>"
            ]
          },
          "metadata": {},
          "execution_count": 59
        }
      ]
    },
    {
      "cell_type": "code",
      "source": [
        "def pre_processamento_lematizacao(texto):\n",
        "  texto = texto.lower()\n",
        "  texto = re.sub(\" +\", ' ', texto)\n",
        "  documento = pln(texto)\n",
        "  tokens = []\n",
        "  for token in documento:\n",
        "    tokens.append(token.lemma_)\n",
        "  tokens = [palavra for palavra in tokens if palavra not in stop_words and palavra not in string.punctuation]\n",
        "  texto_formatado = ' '.join([str(elemento) for elemento in tokens if not elemento.isdigit()])\n",
        "  return texto_formatado"
      ],
      "metadata": {
        "id": "Tu7LWfKBpDTA"
      },
      "execution_count": 60,
      "outputs": []
    },
    {
      "cell_type": "code",
      "source": [
        "def sumarizar_lematizacao(texto):\n",
        "  import heapq\n",
        "  import re\n",
        "  texto_original = texto\n",
        "  texto_original = re.sub(r'\\s+', ' ', texto_original)\n",
        "  texto_formatado = pre_processamento_lematizacao(texto_original)\n",
        "  \n",
        "  frequencia_palavras = nltk.FreqDist(nltk.word_tokenize(texto_formatado))\n",
        "  frequencia_maxima = max(frequencia_palavras.values())\n",
        "  for palavra in frequencia_palavras.keys():\n",
        "    frequencia_palavras[palavra] = (frequencia_palavras[palavra] / frequencia_maxima)\n",
        "    lista_sentencas = nltk.sent_tokenize(texto_original)\n",
        "  quantidade_sentencas = int(len(lista_sentencas) / 3)\n",
        "  notas_sentencas = {}\n",
        "  for sentenca in lista_sentencas:\n",
        "    for palavra in nltk.word_tokenize(sentenca):\n",
        "      if palavra in frequencia_palavras.keys():\n",
        "        if sentenca not in notas_sentencas.keys():\n",
        "          notas_sentencas[sentenca] = frequencia_palavras[sentenca]\n",
        "        else:\n",
        "          notas_sentencas[sentenca] += frequencia_palavras[palavra]\n",
        "  \n",
        "  melhores_sentencas = heapq.nlargest(quantidade_sentencas, notas_sentencas, key=notas_sentencas.get)\n",
        "\n",
        "  return lista_sentencas, melhores_sentencas, frequencia_palavras, notas_sentencas"
      ],
      "metadata": {
        "id": "bC2IPUW2vLw2"
      },
      "execution_count": 63,
      "outputs": []
    },
    {
      "cell_type": "code",
      "source": [
        "for url in lista_artigos:\n",
        "  g = Goose()\n",
        "  artigo = g.extract(url)\n",
        "  lista_sentencas, melhores_sentencas, _, _ = sumarizar_lematizacao(artigo.cleaned_text)\n",
        "  visualizar_resumo(artigo.title, lista_sentencas, melhores_sentencas)"
      ],
      "metadata": {
        "colab": {
          "base_uri": "https://localhost:8080/",
          "height": 1000
        },
        "id": "x2BWsAmOyHOU",
        "outputId": "26ec2b5b-7afc-4efc-a382-ca73cffc02e6"
      },
      "execution_count": 64,
      "outputs": [
        {
          "output_type": "display_data",
          "data": {
            "text/plain": [
              "<IPython.core.display.HTML object>"
            ],
            "text/html": [
              "<h1>IA identifica vocalizações que roedores usam para se comunicar – IA Expert Academy</h1>"
            ]
          },
          "metadata": {}
        },
        {
          "output_type": "display_data",
          "data": {
            "text/plain": [
              "<IPython.core.display.HTML object>"
            ],
            "text/html": [
              "<h2>Texto com resumo destacado - IA identifica vocalizações que roedores usam para se comunicar – IA Expert Academy</h2>"
            ]
          },
          "metadata": {}
        },
        {
          "output_type": "display_data",
          "data": {
            "text/plain": [
              "<IPython.core.display.HTML object>"
            ],
            "text/html": [
              "Apesar de não ter a mesma complexidade da fala humana, os animais costumam usar vocalizações para se comunicar entre si. Muitos dos sons que eles emitem são inclusive fora da faixa de audição humana. <mark>Com o equipamento correto, é possível identificar esses sons, mas em um trabalho de pesquisa, seja em laboratório, seja no ambiente selvagem, anotar sons característicos que ocorrem ao longo do tempo tradicionalmente exige um especialista ouvindo horas de gravações. </mark>Uma equipe da Universidade de Washington desenvolveu uma inteligência artificial capaz de realizar este processo de forma automática. Chamado de DeepSqueak, o sistema foi publicado há 3 anos mas recebeu sua terceira versão mês passado. Ele conta com uma arquitetura de rede neural chamada de convolução regional, que processa sequências contíguas de sinal sonoro na busca de padrões conhecidos pelo sistema. O foco do trabalho tem sido com roedores. <mark>No trabalho original, os autores compararam o DeepSqueak com outros métodos automáticos e com a análise manual, encontrando redução na taxa de falsos positivos, aumento no recall de detecção, redução dramática no tempo de análise, além da possibilidade de otimizar a classificação automática de sílabas e realizar análise sintática automática em vocabulários extensos. </mark>Entretanto, eles são cautelosos afirmando que o método funciona melhor para algumas vocalizações que outras, o que mantém os especialistas como peça fundamental de pesquisas mais complexas. <mark>O sistema pode ser facilmente adicionado a um procedimento atual de pesquisa, tendo o potencial de revelar novos insights sobre o comportamento dos animais. </mark><mark>Os pesquisadores agora almejam fundir seu método com outras tecnologias de inteligência artificial que analisam vídeos, já que boa parte da comunicação animal vem da expressão corporal, o que pode se mostrar revolucionário na compreensão de sua vida social. </mark>A análise de vocalizações tem ganhado tração graças ao amadurecimento da inteligência artificial. Pesquisadores do Instituto Oceanográfico Woods Hole, em Massachusetts nos Estados Unidos, estão tentando aplicar o mesmo conceito para estudar corais. Como o som se propaga muito bem na água, um único sensor seria capaz de cobrir toda uma região de coral, por exemplo, permitindo identificar quais espécies estão presentes, incluindo espécies novas. "
            ]
          },
          "metadata": {}
        },
        {
          "output_type": "display_data",
          "data": {
            "text/plain": [
              "<IPython.core.display.HTML object>"
            ],
            "text/html": [
              "<h2>Resumo de - IA identifica vocalizações que roedores usam para se comunicar – IA Expert Academy</h2>"
            ]
          },
          "metadata": {}
        },
        {
          "output_type": "display_data",
          "data": {
            "text/plain": [
              "<IPython.core.display.HTML object>"
            ],
            "text/html": [
              "Com o equipamento correto, é possível identificar esses sons, mas em um trabalho de pesquisa, seja em laboratório, seja no ambiente selvagem, anotar sons característicos que ocorrem ao longo do tempo tradicionalmente exige um especialista ouvindo horas de gravações. No trabalho original, os autores compararam o DeepSqueak com outros métodos automáticos e com a análise manual, encontrando redução na taxa de falsos positivos, aumento no recall de detecção, redução dramática no tempo de análise, além da possibilidade de otimizar a classificação automática de sílabas e realizar análise sintática automática em vocabulários extensos. O sistema pode ser facilmente adicionado a um procedimento atual de pesquisa, tendo o potencial de revelar novos insights sobre o comportamento dos animais. Os pesquisadores agora almejam fundir seu método com outras tecnologias de inteligência artificial que analisam vídeos, já que boa parte da comunicação animal vem da expressão corporal, o que pode se mostrar revolucionário na compreensão de sua vida social. "
            ]
          },
          "metadata": {}
        },
        {
          "output_type": "display_data",
          "data": {
            "text/plain": [
              "<IPython.core.display.HTML object>"
            ],
            "text/html": [
              "<h1>OpenAI apresenta Whisper, sistema de transcrição de áudio com desempenho humano – IA Expert Academy</h1>"
            ]
          },
          "metadata": {}
        },
        {
          "output_type": "display_data",
          "data": {
            "text/plain": [
              "<IPython.core.display.HTML object>"
            ],
            "text/html": [
              "<h2>Texto com resumo destacado - OpenAI apresenta Whisper, sistema de transcrição de áudio com desempenho humano – IA Expert Academy</h2>"
            ]
          },
          "metadata": {}
        },
        {
          "output_type": "display_data",
          "data": {
            "text/plain": [
              "<IPython.core.display.HTML object>"
            ],
            "text/html": [
              "<mark>Apesar de todo o progresso recente na área de processamento de linguagem natural, as tarefas mais beneficiadas foram aquelas associadas a sistemas de conversação, onde o usuário poderia interagir com a inteligência artificial no formato de texto. </mark>A transcrição de áudio para texto teve desenvolvimento mais lento, e apesar de várias ferramentas já produzirem legendas automaticamente, a qualidade ainda não estava a par dos sistemas conversacionais. Na última semana, a OpenAI mudou este paradigma ao disponibilizar em formato aberto o código para o Whisper, uma rede neural treinada na tarefa de transcrição de áudio. A arquitetura do modelo segue a abordagem to tipo end-to-end, onde um encoder aprende a codificar o áudio e um decoder aprende a converter o sinal para texto. <mark>Durante o processamento, o áudio de entrada é fragmentado em sequências de 30 segundos e passado para o encoder no formato de um espectrograma, que é uma forma tradicional para representar dados sonoros. </mark><mark>O decoder recebe tokens especiais que direcionam o modelo para realizar uma tarefa específica, como a identificação do idioma, a geração de marcas de tempo, a transcrição do discurso em um idioma desejado, ou a tradução do áudio para a versão em inglês da transcrição. </mark>O sistema treinou com cerca de 680 mil horas de áudio coletados da internet, compreendendo vários idiomas e tarefas diferentes. Os autores acreditam que o tamanho e a diversidade dos dados foram responsáveis pela alta robustez do Whisper com relação a sotaques, sons de fundo e linguagem técnica. O resultado foi um modelo que produz transcrições tão boas quanto aquelas produzidas por um humano. Alguns exemplos podem ser vistos na página de apresentação do sistema. A empresa está disponibilizando o trabalho e o código do Whisper na expectativa de popularizar ainda mais as interfaces de voz de aplicações inovadoras. "
            ]
          },
          "metadata": {}
        },
        {
          "output_type": "display_data",
          "data": {
            "text/plain": [
              "<IPython.core.display.HTML object>"
            ],
            "text/html": [
              "<h2>Resumo de - OpenAI apresenta Whisper, sistema de transcrição de áudio com desempenho humano – IA Expert Academy</h2>"
            ]
          },
          "metadata": {}
        },
        {
          "output_type": "display_data",
          "data": {
            "text/plain": [
              "<IPython.core.display.HTML object>"
            ],
            "text/html": [
              "Apesar de todo o progresso recente na área de processamento de linguagem natural, as tarefas mais beneficiadas foram aquelas associadas a sistemas de conversação, onde o usuário poderia interagir com a inteligência artificial no formato de texto. Durante o processamento, o áudio de entrada é fragmentado em sequências de 30 segundos e passado para o encoder no formato de um espectrograma, que é uma forma tradicional para representar dados sonoros. O decoder recebe tokens especiais que direcionam o modelo para realizar uma tarefa específica, como a identificação do idioma, a geração de marcas de tempo, a transcrição do discurso em um idioma desejado, ou a tradução do áudio para a versão em inglês da transcrição. "
            ]
          },
          "metadata": {}
        },
        {
          "output_type": "display_data",
          "data": {
            "text/plain": [
              "<IPython.core.display.HTML object>"
            ],
            "text/html": [
              "<h1>Trabalho expõe que redes neurais robustas com arquitetura diferente funcionam de forma similar – IA Expert Academy</h1>"
            ]
          },
          "metadata": {}
        },
        {
          "output_type": "display_data",
          "data": {
            "text/plain": [
              "<IPython.core.display.HTML object>"
            ],
            "text/html": [
              "<h2>Texto com resumo destacado - Trabalho expõe que redes neurais robustas com arquitetura diferente funcionam de forma similar – IA Expert Academy</h2>"
            ]
          },
          "metadata": {}
        },
        {
          "output_type": "display_data",
          "data": {
            "text/plain": [
              "<IPython.core.display.HTML object>"
            ],
            "text/html": [
              "As redes neurais são a arquitetura mais aplicada atualmente em inteligência artificial, servindo como base para os sistemas mais avançados à disposição. Apesar de seu sucesso, uma preocupação que permanece é com a baixa explicabilidade dessas estruturas, sendo em muitos casos impossível entender o raciocínio que elas aplicam para produzir um resultado. <mark>Vários métodos têm sido propostos no intuito de comparar a similaridade entre as representações que diferentes redes neurais criam, com o intuito de entender melhor seu funcionamento. </mark>Entretanto, as métricas propostas até então costumam superestimar a similaridade devido à alta correlação entre os dados que elas tratam. Em outras palavras, as redes parecem similares mais por processarem dados similares do que por funcionarem de maneira similar. Pesquisadores do Laboratório Nacional Los Alamos, nos Estados Unidos, acabam de publicar um trabalho propondo uma nova abordagem para comparar redes. <mark>A ideia começou com o levantamento de que redes treinadas com dados de alta qualidade tendem a performar de forma estranha diante de qualquer aberração, como ficou emblemático há alguns anos no caso de sinais de trânsito interpretados de forma errada. </mark>Para garantir a robustez desses modelos, desenvolvedores têm aplicado um regime de treinamento adversarial, onde dados aberrantes são intencionalmente adicionados ao treinamento, forçando a rede a aprender a ignorá-los. Em vista disso, os pesquisadores de Los Alamos desenvolveram uma métrica para determinar a similaridade entre redes neurais, e observaram que sistemas robustos tendem a convergir para uma mesma solução, ou seja, tendem a apresentar alta similaridade. Isto indica que, no fundo, mesmo com arquiteturas distintas, redes capazes de distinguir sinais úteis de fatores de confusão estão fazendo a mesma coisa. Esta descoberta é muito interessante, já que desenvolvedores têm atualmente focado na busca da arquitetura correta para resolver determinado problema. <mark>O trabalho mostra, entretanto, que a arquitetura em si tem menor relevância do que se imaginava, o que pode diminuir o espaço de busca consideravelmente. </mark>A sugestão é que o regime de treinamento pode ter um impacto até então subestimado. <mark>Os cientistas acreditam que suas observações podem ter implicações ainda mais profundas, esclarecendo características de aprendizagem até mesmo em animais e humanos, já que o tráfego de informação no cérebro é muito similar ao que ocorre nos processadores de silício. </mark>"
            ]
          },
          "metadata": {}
        },
        {
          "output_type": "display_data",
          "data": {
            "text/plain": [
              "<IPython.core.display.HTML object>"
            ],
            "text/html": [
              "<h2>Resumo de - Trabalho expõe que redes neurais robustas com arquitetura diferente funcionam de forma similar – IA Expert Academy</h2>"
            ]
          },
          "metadata": {}
        },
        {
          "output_type": "display_data",
          "data": {
            "text/plain": [
              "<IPython.core.display.HTML object>"
            ],
            "text/html": [
              "Vários métodos têm sido propostos no intuito de comparar a similaridade entre as representações que diferentes redes neurais criam, com o intuito de entender melhor seu funcionamento. A ideia começou com o levantamento de que redes treinadas com dados de alta qualidade tendem a performar de forma estranha diante de qualquer aberração, como ficou emblemático há alguns anos no caso de sinais de trânsito interpretados de forma errada. O trabalho mostra, entretanto, que a arquitetura em si tem menor relevância do que se imaginava, o que pode diminuir o espaço de busca consideravelmente. Os cientistas acreditam que suas observações podem ter implicações ainda mais profundas, esclarecendo características de aprendizagem até mesmo em animais e humanos, já que o tráfego de informação no cérebro é muito similar ao que ocorre nos processadores de silício. "
            ]
          },
          "metadata": {}
        },
        {
          "output_type": "display_data",
          "data": {
            "text/plain": [
              "<IPython.core.display.HTML object>"
            ],
            "text/html": [
              "<h1>Governo francês usa IA para identificar piscinas não declaradas – IA Expert Academy</h1>"
            ]
          },
          "metadata": {}
        },
        {
          "output_type": "display_data",
          "data": {
            "text/plain": [
              "<IPython.core.display.HTML object>"
            ],
            "text/html": [
              "<h2>Texto com resumo destacado - Governo francês usa IA para identificar piscinas não declaradas – IA Expert Academy</h2>"
            ]
          },
          "metadata": {}
        },
        {
          "output_type": "display_data",
          "data": {
            "text/plain": [
              "<IPython.core.display.HTML object>"
            ],
            "text/html": [
              "<mark>Na França, não é muito comum que as residências tenham piscina, mas ondas de calor no período de verão dos últimos anos têm tornado as piscinas cada vez mais populares. </mark><mark>Só no último ano, o número de piscinas aumentou cerca de 10%. </mark><mark>Como a instalação de uma piscina aumenta o valor do imóvel, o governo reajusta os impostos devidos. </mark>Só que como na maioria dos casos as piscinas ficam na área traseira das casas, escondidas por cercas, muitos residentes não comunicam as autoridades sobre a instalação, e assim não recolhem o novo valor do imposto. Mas nos últimos meses, a agência fiscal francesa começou a utilizar inteligência artificial para identificar piscinas recentemente instaladas, a partir de imagens de satélite. O algoritmo foi treinado pela agência em cooperação com a empresa Capgemini, usando bibliotecas de acesso aberto do Google. As imagens são obtidas de bancos públicos. Quando o algoritmo identifica uma piscina, ele compara os resultados com uma base de dados de piscinas declaradas pelos residentes, retornando as eventuais divergências. Por último, um colaborador da agência verifica as imagens levantadas, para evitar falsos positivos. <mark>Os desenvolvedores comentam que mais de 20 mil piscinas não declaradas foram encontradas com o uso da ferramenta no período de testes, e 94% dos residentes contatados confirmaram sua presença, evidenciando a precisão do método. </mark>Agora, a solução será expandida para todo o país. Isto deve permitir a coleta adicional de cerca de 10 milhões de euros anuais. "
            ]
          },
          "metadata": {}
        },
        {
          "output_type": "display_data",
          "data": {
            "text/plain": [
              "<IPython.core.display.HTML object>"
            ],
            "text/html": [
              "<h2>Resumo de - Governo francês usa IA para identificar piscinas não declaradas – IA Expert Academy</h2>"
            ]
          },
          "metadata": {}
        },
        {
          "output_type": "display_data",
          "data": {
            "text/plain": [
              "<IPython.core.display.HTML object>"
            ],
            "text/html": [
              "Na França, não é muito comum que as residências tenham piscina, mas ondas de calor no período de verão dos últimos anos têm tornado as piscinas cada vez mais populares. Só no último ano, o número de piscinas aumentou cerca de 10%. Como a instalação de uma piscina aumenta o valor do imóvel, o governo reajusta os impostos devidos. Os desenvolvedores comentam que mais de 20 mil piscinas não declaradas foram encontradas com o uso da ferramenta no período de testes, e 94% dos residentes contatados confirmaram sua presença, evidenciando a precisão do método. "
            ]
          },
          "metadata": {}
        },
        {
          "output_type": "display_data",
          "data": {
            "text/plain": [
              "<IPython.core.display.HTML object>"
            ],
            "text/html": [
              "<h1>IA diagnostica mal de Parkinson a partir do padrão respiratório – IA Expert Academy</h1>"
            ]
          },
          "metadata": {}
        },
        {
          "output_type": "display_data",
          "data": {
            "text/plain": [
              "<IPython.core.display.HTML object>"
            ],
            "text/html": [
              "<h2>Texto com resumo destacado - IA diagnostica mal de Parkinson a partir do padrão respiratório – IA Expert Academy</h2>"
            ]
          },
          "metadata": {}
        },
        {
          "output_type": "display_data",
          "data": {
            "text/plain": [
              "<IPython.core.display.HTML object>"
            ],
            "text/html": [
              "<mark>O mal de Parkinson é uma doença de difícil diagnóstico, o que limita sua descoberta precoce e dificulta o monitoramento de seu progresso. </mark>Tradicionalmente, os médicos utilizam o aparecimento de sintomas motores, como tremores, enrijecimento e lentidão, para estabelecer um tratamento. Entretanto, esses sintomas aparecem num estágio relativamente avançado da doença. O diagnóstico precoce é essencial para frear o seu avanço, por isso alguns métodos alternativos têm sido propostos. <mark>Os de maior destaque envolvem a análise do fluido cerebrospinal e exames de neuroimagem, mas sua desvantagem é a natureza invasiva, o alto custo e a necessidade de equipamentos especializados e pessoal técnico, inviabilizando em muitos casos uma rotina de testagem capaz de providenciar o diagnóstico precoce e acompanhar a progressão da doença. </mark>Dados esses problemas, pesquisadores do Instituto de Tecnologia de Massachusetts (MIT), nos Estados Unidos, observaram que a literatura sobre a doença reportava uma relação entre o mal de Parkinson e a respiração dos pacientes. Não só isso, as alterações respiratórias costumam aparecer anos antes dos sintomas motores. Então, eles desenvolveram um equipamento capaz de registrar o padrão de respiração de pessoas enquanto elas estão dormindo, e treinaram uma rede neural para analisar este padrão e entregar um diagnóstico. <mark>O equipamento, que se parece com um roteador, emite ondas de rádio, cujo sinal pode ser usado para construir o padrão de respiração, com o benefício de não exigir esforço do paciente e sequer tocar seu corpo. </mark>O modelo foi avaliado com um dataset de mais de 7500 pessoas, atingindo uma métrica AUC de 0,90. Os autores ainda compararam os resultados obtidos com o emissor de ondas de rádio com aqueles produzidos por uma cinta, sendo o método sem fio superior. O modelo, por sua vez, foi capaz de estimar a severidade e a progressão da doença de acordo com uma escala unificada, atingindo correlação de 0,94. <mark>O estudo traz importantes implicações tanto para o desenvolvimento de medicamentos quanto no cuidado clínico, possibilitando estudos mais rápidos e com menos pacientes, e habilitando pacientes ao monitoramento contínuo, o que é especialmente relevante em situações onde o tratamento tradicional é ineficiente, como para pacientes com dificuldade de locomoção ou que moram em áreas afastadas. </mark>O trabalho publicado está disponível para consulta. "
            ]
          },
          "metadata": {}
        },
        {
          "output_type": "display_data",
          "data": {
            "text/plain": [
              "<IPython.core.display.HTML object>"
            ],
            "text/html": [
              "<h2>Resumo de - IA diagnostica mal de Parkinson a partir do padrão respiratório – IA Expert Academy</h2>"
            ]
          },
          "metadata": {}
        },
        {
          "output_type": "display_data",
          "data": {
            "text/plain": [
              "<IPython.core.display.HTML object>"
            ],
            "text/html": [
              "O mal de Parkinson é uma doença de difícil diagnóstico, o que limita sua descoberta precoce e dificulta o monitoramento de seu progresso. Os de maior destaque envolvem a análise do fluido cerebrospinal e exames de neuroimagem, mas sua desvantagem é a natureza invasiva, o alto custo e a necessidade de equipamentos especializados e pessoal técnico, inviabilizando em muitos casos uma rotina de testagem capaz de providenciar o diagnóstico precoce e acompanhar a progressão da doença. O equipamento, que se parece com um roteador, emite ondas de rádio, cujo sinal pode ser usado para construir o padrão de respiração, com o benefício de não exigir esforço do paciente e sequer tocar seu corpo. O estudo traz importantes implicações tanto para o desenvolvimento de medicamentos quanto no cuidado clínico, possibilitando estudos mais rápidos e com menos pacientes, e habilitando pacientes ao monitoramento contínuo, o que é especialmente relevante em situações onde o tratamento tradicional é ineficiente, como para pacientes com dificuldade de locomoção ou que moram em áreas afastadas. "
            ]
          },
          "metadata": {}
        },
        {
          "output_type": "stream",
          "name": "stderr",
          "text": [
            "WARNING:goose3.crawler:Publish date 26 de agosto de 2022 em 14:41 could not be resolved to UTC\n"
          ]
        },
        {
          "output_type": "display_data",
          "data": {
            "text/plain": [
              "<IPython.core.display.HTML object>"
            ],
            "text/html": [
              "<h1>IA prevê estruturas de RNA com base em sua sequência – IA Expert Academy</h1>"
            ]
          },
          "metadata": {}
        },
        {
          "output_type": "display_data",
          "data": {
            "text/plain": [
              "<IPython.core.display.HTML object>"
            ],
            "text/html": [
              "<h2>Texto com resumo destacado - IA prevê estruturas de RNA com base em sua sequência – IA Expert Academy</h2>"
            ]
          },
          "metadata": {}
        },
        {
          "output_type": "display_data",
          "data": {
            "text/plain": [
              "<IPython.core.display.HTML object>"
            ],
            "text/html": [
              "<mark>Em 2020, o grupo DeepMind da empresa Alphabet impressionou os cientistas da área biológica ao anunciar o AlphaFold, uma inteligência artificial capaz de predizer a estrutura tridimensional de proteínas com base em sua sequência de aminoácidos. </mark>Esta não foi uma tarefa trivial, já que cada aminoácido contribui de forma individual e complexa nesta estrutura final. O formato tridimensional é essencial para a atividade que as proteínas exercem dentro das células. Mas não são só as proteínas que têm esta propriedade. Muitas outras moléculas formam estruturas tridimensionais que auxiliam em sua função. É o caso do RNA. Tradicionalmente, o RNA é visto como um intermediário entre o DNA e as proteínas, já que ele é sintetizado a partir do material genético e serve como “receita” para a produção de proteínas, mas muitas sequências de RNA também exercem outras funções celulares. <mark>Agora, graças ao trabalho de pesquisadores da Universidade Ruhr Bochum, na Alemanha, a estrutura tridimensional dessas moléculas também pode ser predita com base em sua simples sequência, o que foi possível mais uma vez com o emprego de inteligência artificial. </mark><mark>Os cientistas comentam que, apesar de haverem modelos biofísicos capazes de realizar esta tarefa, eles não são capazes de levar em consideração o ambiente celular onde a molécula de RNA está sendo gerada, o que tem impacto significativo em seu formato final. </mark>Foi este o problema que a inteligência artificial resolveu, aprendendo os padrões sutis deste ambiente com base em estruturas conhecidas. Mas, ao contrário do trabalho do DeepMind, neste caso havia uma escassez de dados para treinamento. <mark>Os pesquisadores resolveram isso através de um processo de “engenharia reversa”, onde eles usaram sub-estruturas conhecidas do RNA para determinar as possíveis sequências que resultariam nelas, assim aumentando a quantidade de dados disponíveis para o treinamento. </mark>Na validação do modelo, ele foi aplicado para prever a estrutura de moléculas de RNA bacteriano. Os resultados foram considerados suficientemente similares às moléculas com dados experimentais disponíveis. <mark>Dado o atraso de desenvolvimento em relação ao AlphaFold, e as particularidades do processo de formação de RNA, este é apenas o início deste desenvolvimento, mas uma vez mais fica demonstrado o sucesso na convergência entre a ciência e as ferramentas possibilitadas pela inteligência artificial. </mark>"
            ]
          },
          "metadata": {}
        },
        {
          "output_type": "display_data",
          "data": {
            "text/plain": [
              "<IPython.core.display.HTML object>"
            ],
            "text/html": [
              "<h2>Resumo de - IA prevê estruturas de RNA com base em sua sequência – IA Expert Academy</h2>"
            ]
          },
          "metadata": {}
        },
        {
          "output_type": "display_data",
          "data": {
            "text/plain": [
              "<IPython.core.display.HTML object>"
            ],
            "text/html": [
              "Em 2020, o grupo DeepMind da empresa Alphabet impressionou os cientistas da área biológica ao anunciar o AlphaFold, uma inteligência artificial capaz de predizer a estrutura tridimensional de proteínas com base em sua sequência de aminoácidos. Agora, graças ao trabalho de pesquisadores da Universidade Ruhr Bochum, na Alemanha, a estrutura tridimensional dessas moléculas também pode ser predita com base em sua simples sequência, o que foi possível mais uma vez com o emprego de inteligência artificial. Os cientistas comentam que, apesar de haverem modelos biofísicos capazes de realizar esta tarefa, eles não são capazes de levar em consideração o ambiente celular onde a molécula de RNA está sendo gerada, o que tem impacto significativo em seu formato final. Os pesquisadores resolveram isso através de um processo de “engenharia reversa”, onde eles usaram sub-estruturas conhecidas do RNA para determinar as possíveis sequências que resultariam nelas, assim aumentando a quantidade de dados disponíveis para o treinamento. Dado o atraso de desenvolvimento em relação ao AlphaFold, e as particularidades do processo de formação de RNA, este é apenas o início deste desenvolvimento, mas uma vez mais fica demonstrado o sucesso na convergência entre a ciência e as ferramentas possibilitadas pela inteligência artificial. "
            ]
          },
          "metadata": {}
        }
      ]
    }
  ]
}