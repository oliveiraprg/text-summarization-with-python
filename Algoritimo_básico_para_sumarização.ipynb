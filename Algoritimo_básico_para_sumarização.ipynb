{
  "nbformat": 4,
  "nbformat_minor": 0,
  "metadata": {
    "colab": {
      "provenance": [],
      "authorship_tag": "ABX9TyP2dOkAVj9RAASjE5Q50W+p",
      "include_colab_link": true
    },
    "kernelspec": {
      "name": "python3",
      "display_name": "Python 3"
    },
    "language_info": {
      "name": "python"
    }
  },
  "cells": [
    {
      "cell_type": "markdown",
      "metadata": {
        "id": "view-in-github",
        "colab_type": "text"
      },
      "source": [
        "<a href=\"https://colab.research.google.com/github/oliveiraprg/text-summarization-with-python/blob/main/Algoritimo_b%C3%A1sico_para_sumariza%C3%A7%C3%A3o.ipynb\" target=\"_parent\"><img src=\"https://colab.research.google.com/assets/colab-badge.svg\" alt=\"Open In Colab\"/></a>"
      ]
    },
    {
      "cell_type": "markdown",
      "source": [
        "# Sumarização de textos com processamento de linguagem natural"
      ],
      "metadata": {
        "id": "o4Y8HguVPkzy"
      }
    },
    {
      "cell_type": "markdown",
      "source": [
        "## Pré-processamento do texto"
      ],
      "metadata": {
        "id": "v6vUVetpP0_a"
      }
    },
    {
      "cell_type": "markdown",
      "source": [
        "## Frência das palavras"
      ],
      "metadata": {
        "id": "vJWw45JyQulK"
      }
    },
    {
      "cell_type": "markdown",
      "source": [
        "## Tokenização de sentenças"
      ],
      "metadata": {
        "id": "TiGSk-8dQ0Ki"
      }
    },
    {
      "cell_type": "markdown",
      "source": [
        "## Geração do resumo (nota para as sentenças)"
      ],
      "metadata": {
        "id": "Xp40wzZNQ7s5"
      }
    },
    {
      "cell_type": "markdown",
      "source": [
        "## Vizualização do resumo"
      ],
      "metadata": {
        "id": "mBne2EnHREmx"
      }
    },
    {
      "cell_type": "markdown",
      "source": [
        "## Extração de texto da internet"
      ],
      "metadata": {
        "id": "CX2_qsFcRMjr"
      }
    }
  ]
}