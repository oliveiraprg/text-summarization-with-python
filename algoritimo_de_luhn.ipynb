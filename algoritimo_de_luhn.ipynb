{
  "nbformat": 4,
  "nbformat_minor": 0,
  "metadata": {
    "colab": {
      "provenance": [],
      "collapsed_sections": [],
      "toc_visible": true,
      "authorship_tag": "ABX9TyNIIwn7iSu76dReRS1jrBgK",
      "include_colab_link": true
    },
    "kernelspec": {
      "name": "python3",
      "display_name": "Python 3"
    },
    "language_info": {
      "name": "python"
    }
  },
  "cells": [
    {
      "cell_type": "markdown",
      "metadata": {
        "id": "view-in-github",
        "colab_type": "text"
      },
      "source": [
        "<a href=\"https://colab.research.google.com/github/oliveiraprg/text-summarization-with-python/blob/main/algoritimo_de_luhn.ipynb\" target=\"_parent\"><img src=\"https://colab.research.google.com/assets/colab-badge.svg\" alt=\"Open In Colab\"/></a>"
      ]
    },
    {
      "cell_type": "markdown",
      "source": [
        "# Sumarização de textos com o Algoritimo de Luhn "
      ],
      "metadata": {
        "id": "t_Q2PWyXgeMW"
      }
    },
    {
      "cell_type": "markdown",
      "source": [
        "\n",
        "\n",
        "*  [ https://courses.ischool.berkeley.edu/i256/f06/papers/luhn58.pdf](https://courses.ischool.berkeley.edu/i256/f06/papers/luhn58.pdf)\n",
        "\n",
        "\n"
      ],
      "metadata": {
        "id": "mTIUwd02grEd"
      }
    },
    {
      "cell_type": "markdown",
      "source": [
        "## Preparação do texto de exemplo"
      ],
      "metadata": {
        "id": "XtUbvFY-h7lk"
      }
    },
    {
      "cell_type": "code",
      "source": [
        "import re\n",
        "import nltk\n",
        "import numpy\n",
        "import string\n",
        "import heapq"
      ],
      "metadata": {
        "id": "JDsDTuMyh-aE"
      },
      "execution_count": 1,
      "outputs": []
    },
    {
      "cell_type": "code",
      "source": [
        "nltk.download('punkt')"
      ],
      "metadata": {
        "colab": {
          "base_uri": "https://localhost:8080/"
        },
        "id": "pc-4uI3fiLGE",
        "outputId": "cd0dc785-f943-46f3-da26-0ae8e28064b0"
      },
      "execution_count": 2,
      "outputs": [
        {
          "output_type": "stream",
          "name": "stderr",
          "text": [
            "[nltk_data] Downloading package punkt to /root/nltk_data...\n",
            "[nltk_data]   Unzipping tokenizers/punkt.zip.\n"
          ]
        },
        {
          "output_type": "execute_result",
          "data": {
            "text/plain": [
              "True"
            ]
          },
          "metadata": {},
          "execution_count": 2
        }
      ]
    },
    {
      "cell_type": "code",
      "source": [
        "nltk.download('stopwords')"
      ],
      "metadata": {
        "colab": {
          "base_uri": "https://localhost:8080/"
        },
        "id": "YYrnHuR_iTLs",
        "outputId": "4858f95b-b5fc-4d0b-d47e-60ae508b0a1c"
      },
      "execution_count": 3,
      "outputs": [
        {
          "output_type": "stream",
          "name": "stderr",
          "text": [
            "[nltk_data] Downloading package stopwords to /root/nltk_data...\n",
            "[nltk_data]   Unzipping corpora/stopwords.zip.\n"
          ]
        },
        {
          "output_type": "execute_result",
          "data": {
            "text/plain": [
              "True"
            ]
          },
          "metadata": {},
          "execution_count": 3
        }
      ]
    },
    {
      "cell_type": "code",
      "source": [
        "texto_original = \"\"\"A inteligência artificial é a inteligência similar à humana máquinas.\n",
        "                    Definem como o estudo de agente artificial com inteligência.\n",
        "                    Ciência e engenharia de produzir máquinas com inteligência.\n",
        "                    Resolver problemas e possuir inteligência. \n",
        "                    Relacionada ao comportamento inteligente. \n",
        "                    Construção de máquinas para raciocinar. \n",
        "                    Aprender com os erros e acertos. \n",
        "                    Inteligência artificial é raciocinar nas situações do cotidiano.\"\"\""
      ],
      "metadata": {
        "id": "kdourZmjiXyD"
      },
      "execution_count": 4,
      "outputs": []
    },
    {
      "cell_type": "code",
      "source": [
        "texto_original = re.sub(r'\\s+', ' ', texto_original)"
      ],
      "metadata": {
        "id": "cTCO0sL_i8MM"
      },
      "execution_count": 5,
      "outputs": []
    },
    {
      "cell_type": "code",
      "source": [
        "stop_words = nltk.corpus.stopwords.words('portuguese')"
      ],
      "metadata": {
        "id": "JqEyocXejaCc"
      },
      "execution_count": 6,
      "outputs": []
    },
    {
      "cell_type": "code",
      "source": [
        "def pre_processamento(texto):\n",
        "  texto_formatado = texto.lower()\n",
        "  tokens = []\n",
        "  for token in nltk.word_tokenize(texto_formatado):\n",
        "    tokens.append(token)\n",
        "  tokens = [palavra for palavra in tokens if palavra not in stop_words and palavra not in string.punctuation]\n",
        "  texto_formatado = ' '.join([str(elemento) for elemento in tokens if not elemento.isdigit()])\n",
        "\n",
        "  return texto_formatado"
      ],
      "metadata": {
        "id": "Bj1fz8ScjbUL"
      },
      "execution_count": 7,
      "outputs": []
    },
    {
      "cell_type": "markdown",
      "source": [
        "## Função para calcular a nota das sentenças"
      ],
      "metadata": {
        "id": "wPfCOT9XkyvT"
      }
    },
    {
      "cell_type": "code",
      "source": [
        "def calcula_nota_sentenca(sentencas, palavras_importantes, distancia):\n",
        "  notas = []\n",
        "  indice_sentenca = 0\n",
        "\n",
        "  for sentenca in [nltk.word_tokenize(sentenca.lower()) for sentenca in sentencas]:\n",
        "    indice_palavra = []\n",
        "    for palavra in palavras_importantes:\n",
        "      try:\n",
        "        indice_palavra.append(sentenca.index(palavra))\n",
        "      except ValueError:\n",
        "        pass\n",
        "    indice_palavra.sort()\n",
        "    if len(indice_palavra) == 0:\n",
        "      continue\n",
        "    \n",
        "    lista_grupos = []\n",
        "    grupo_palavras = [indice_palavra[0]]\n",
        "    i = 1\n",
        "    while i < len(indice_palavra):\n",
        "      if indice_palavra[i] - indice_palavra[i-1] < distancia:\n",
        "        grupo_palavras.append(indice_palavra[i])\n",
        "      else:\n",
        "        lista_grupos.append(grupo_palavras[:])\n",
        "        grupo_palavras = [indice_palavra[i]]\n",
        "      i += 1\n",
        "    lista_grupos.append(grupo_palavras)\n",
        "    nota_maxima_grupo = 0\n",
        "    for grupo in lista_grupos:\n",
        "      palavras_importantes_no_grupo = len(grupo)\n",
        "      total_palavras_no_grupo = grupo[-1] - grupo[0] + 1\n",
        "      nota = 1.0 * palavras_importantes_no_grupo**2/total_palavras_no_grupo\n",
        "      if nota > nota_maxima_grupo:\n",
        "        nota_maxima_grupo = nota\n",
        "    notas.append((nota_maxima_grupo, indice_sentenca))\n",
        "    indice_sentenca += 1\n",
        "    return notas\n"
      ],
      "metadata": {
        "id": "YmCIa8M24Trj"
      },
      "execution_count": 35,
      "outputs": []
    },
    {
      "cell_type": "markdown",
      "source": [
        "## Função para sumarizar os textos"
      ],
      "metadata": {
        "id": "Naj_EJkQlMmE"
      }
    },
    {
      "cell_type": "code",
      "source": [
        "def sumarizar(texto, top_n_palavras, distancia):\n",
        "  sentencas_originais = [sentenca for sentenca in nltk.sent_tokenize(texto)]\n",
        "  sentencas_formatadas = [pre_processamento(sentenca_original) for sentenca_original in sentencas_originais]\n",
        "  palavras = [palavra for sentenca in sentencas_formatadas for palavra in nltk.word_tokenize(sentenca)]\n",
        "  frequencia = nltk.FreqDist(palavras)\n",
        "  top_n_palavras = [palavra[0] for palavra in frequencia.most_common(top_n_palavras )]\n",
        "  calcula_nota_sentenca(sentencas_formatadas, top_n_palavras, distancia)\n",
        "  return frequencia"
      ],
      "metadata": {
        "id": "AeMPdgrzlW9j"
      },
      "execution_count": 36,
      "outputs": []
    },
    {
      "cell_type": "code",
      "source": [
        "sumarizar(texto_original, 5, 2)"
      ],
      "metadata": {
        "colab": {
          "base_uri": "https://localhost:8080/"
        },
        "id": "h-iR5evUl0pI",
        "outputId": "864e0e2c-7dcd-4902-c26f-a99365591972"
      },
      "execution_count": 37,
      "outputs": [
        {
          "output_type": "execute_result",
          "data": {
            "text/plain": [
              "FreqDist({'inteligência': 6, 'artificial': 3, 'máquinas': 3, 'raciocinar': 2, 'similar': 1, 'humana': 1, 'definem': 1, 'estudo': 1, 'agente': 1, 'ciência': 1, ...})"
            ]
          },
          "metadata": {},
          "execution_count": 37
        }
      ]
    }
  ]
}