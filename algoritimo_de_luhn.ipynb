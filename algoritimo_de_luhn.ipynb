{
  "nbformat": 4,
  "nbformat_minor": 0,
  "metadata": {
    "colab": {
      "provenance": [],
      "collapsed_sections": [],
      "toc_visible": true,
      "authorship_tag": "ABX9TyMyMTmqN2iNHv6LwTJpukQG",
      "include_colab_link": true
    },
    "kernelspec": {
      "name": "python3",
      "display_name": "Python 3"
    },
    "language_info": {
      "name": "python"
    }
  },
  "cells": [
    {
      "cell_type": "markdown",
      "metadata": {
        "id": "view-in-github",
        "colab_type": "text"
      },
      "source": [
        "<a href=\"https://colab.research.google.com/github/oliveiraprg/text-summarization-with-python/blob/main/algoritimo_de_luhn.ipynb\" target=\"_parent\"><img src=\"https://colab.research.google.com/assets/colab-badge.svg\" alt=\"Open In Colab\"/></a>"
      ]
    },
    {
      "cell_type": "markdown",
      "source": [
        "# Sumarização de textos com o Algoritimo de Luhn "
      ],
      "metadata": {
        "id": "t_Q2PWyXgeMW"
      }
    },
    {
      "cell_type": "markdown",
      "source": [
        "\n",
        "\n",
        "*  [ https://courses.ischool.berkeley.edu/i256/f06/papers/luhn58.pdf](https://courses.ischool.berkeley.edu/i256/f06/papers/luhn58.pdf)\n",
        "\n",
        "\n"
      ],
      "metadata": {
        "id": "mTIUwd02grEd"
      }
    },
    {
      "cell_type": "markdown",
      "source": [
        "## Preparação do texto de exemplo"
      ],
      "metadata": {
        "id": "XtUbvFY-h7lk"
      }
    },
    {
      "cell_type": "code",
      "source": [
        "import re\n",
        "import nltk\n",
        "import numpy\n",
        "import string\n",
        "import heapq"
      ],
      "metadata": {
        "id": "JDsDTuMyh-aE"
      },
      "execution_count": 69,
      "outputs": []
    },
    {
      "cell_type": "code",
      "source": [
        "nltk.download('punkt')"
      ],
      "metadata": {
        "colab": {
          "base_uri": "https://localhost:8080/"
        },
        "id": "pc-4uI3fiLGE",
        "outputId": "dd1d9103-37f0-476d-83c5-545d0fdb98b8"
      },
      "execution_count": 70,
      "outputs": [
        {
          "output_type": "stream",
          "name": "stderr",
          "text": [
            "[nltk_data] Downloading package punkt to /root/nltk_data...\n",
            "[nltk_data]   Package punkt is already up-to-date!\n"
          ]
        },
        {
          "output_type": "execute_result",
          "data": {
            "text/plain": [
              "True"
            ]
          },
          "metadata": {},
          "execution_count": 70
        }
      ]
    },
    {
      "cell_type": "code",
      "source": [
        "nltk.download('stopwords')"
      ],
      "metadata": {
        "colab": {
          "base_uri": "https://localhost:8080/"
        },
        "id": "YYrnHuR_iTLs",
        "outputId": "ea98119f-0979-4ba7-dc58-7d0a42e2b5a2"
      },
      "execution_count": 71,
      "outputs": [
        {
          "output_type": "stream",
          "name": "stderr",
          "text": [
            "[nltk_data] Downloading package stopwords to /root/nltk_data...\n",
            "[nltk_data]   Package stopwords is already up-to-date!\n"
          ]
        },
        {
          "output_type": "execute_result",
          "data": {
            "text/plain": [
              "True"
            ]
          },
          "metadata": {},
          "execution_count": 71
        }
      ]
    },
    {
      "cell_type": "code",
      "source": [
        "texto_original = \"\"\"A inteligência artificial é a inteligência similar à humana máquinas.\n",
        "                    Definem como o estudo de agente artificial com inteligência.\n",
        "                    Ciência e engenharia de produzir máquinas com inteligência.\n",
        "                    Resolver problemas e possuir inteligência. \n",
        "                    Relacionada ao comportamento inteligente. \n",
        "                    Construção de máquinas para raciocinar. \n",
        "                    Aprender com os erros e acertos. \n",
        "                    Inteligência artificial é raciocinar nas situações do cotidiano.\"\"\""
      ],
      "metadata": {
        "id": "kdourZmjiXyD"
      },
      "execution_count": 72,
      "outputs": []
    },
    {
      "cell_type": "code",
      "source": [
        "texto_original = re.sub(r'\\s+', ' ', texto_original)"
      ],
      "metadata": {
        "id": "cTCO0sL_i8MM"
      },
      "execution_count": 73,
      "outputs": []
    },
    {
      "cell_type": "code",
      "source": [
        "stop_words = nltk.corpus.stopwords.words('portuguese')"
      ],
      "metadata": {
        "id": "JqEyocXejaCc"
      },
      "execution_count": 74,
      "outputs": []
    },
    {
      "cell_type": "code",
      "source": [
        "def pre_processamento(texto):\n",
        "  texto_formatado = texto.lower()\n",
        "  tokens = []\n",
        "  for token in nltk.word_tokenize(texto_formatado):\n",
        "    tokens.append(token)\n",
        "  tokens = [palavra for palavra in tokens if palavra not in stop_words and palavra not in string.punctuation]\n",
        "  texto_formatado = ' '.join([str(elemento) for elemento in tokens if not elemento.isdigit()])\n",
        "\n",
        "  return texto_formatado"
      ],
      "metadata": {
        "id": "Bj1fz8ScjbUL"
      },
      "execution_count": 75,
      "outputs": []
    },
    {
      "cell_type": "markdown",
      "source": [
        "## Função para calcular a nota das sentenças"
      ],
      "metadata": {
        "id": "wPfCOT9XkyvT"
      }
    },
    {
      "cell_type": "code",
      "source": [
        "def calcula_nota_sentenca(sentencas, palavras_importantes, distancia):\n",
        "  notas = []\n",
        "  indice_sentenca = 0\n",
        "\n",
        "  for sentenca in [nltk.word_tokenize(sentenca.lower()) for sentenca in sentencas]:\n",
        "    indice_palavra = []\n",
        "    for palavra in palavras_importantes:\n",
        "      try:\n",
        "        indice_palavra.append(sentenca.index(palavra))\n",
        "      except ValueError:\n",
        "        pass\n",
        "    indice_palavra.sort()\n",
        "    if len(indice_palavra) == 0:\n",
        "      continue\n",
        "    \n",
        "    lista_grupos = []\n",
        "    grupo_palavras = [indice_palavra[0]]\n",
        "    i = 1\n",
        "    while i < len(indice_palavra):\n",
        "      if indice_palavra[i] - indice_palavra[i-1] < distancia:\n",
        "        grupo_palavras.append(indice_palavra[i])\n",
        "      else:\n",
        "        lista_grupos.append(grupo_palavras[:])\n",
        "        grupo_palavras = [indice_palavra[i]]\n",
        "      i += 1\n",
        "    lista_grupos.append(grupo_palavras)\n",
        "    nota_maxima_grupo = 0\n",
        "    for grupo in lista_grupos:\n",
        "      palavras_importantes_no_grupo = len(grupo)\n",
        "      total_palavras_no_grupo = grupo[-1] - grupo[0] + 1\n",
        "      nota = 1.0 * palavras_importantes_no_grupo**2 / total_palavras_no_grupo\n",
        "      if nota > nota_maxima_grupo:\n",
        "        nota_maxima_grupo = nota\n",
        "    notas.append((nota_maxima_grupo, indice_sentenca))\n",
        "    indice_sentenca += 1\n",
        "  return notas\n"
      ],
      "metadata": {
        "id": "YmCIa8M24Trj"
      },
      "execution_count": 84,
      "outputs": []
    },
    {
      "cell_type": "markdown",
      "source": [
        "## Função para sumarizar os textos"
      ],
      "metadata": {
        "id": "Naj_EJkQlMmE"
      }
    },
    {
      "cell_type": "code",
      "source": [
        "def sumarizar(texto, top_n_palavras, distancia, quantidade_sentencas):\n",
        "  sentencas_originais = [sentenca for sentenca in nltk.sent_tokenize(texto)]\n",
        "  sentencas_formatadas = [pre_processamento(sentenca_original) for sentenca_original in sentencas_originais]\n",
        "  palavras = [palavra for sentenca in sentencas_formatadas for palavra in nltk.word_tokenize(sentenca)]\n",
        "  frequencia = nltk.FreqDist(palavras)\n",
        "  top_n_palavras = [palavra[0] for palavra in frequencia.most_common(top_n_palavras )]\n",
        "  calcula_nota_sentenca(sentencas_formatadas, top_n_palavras, distancia)\n",
        "  notas_sentencas = calcula_nota_sentenca(sentencas_formatadas, top_n_palavras, distancia)\n",
        "  melhores_sentencas = heapq.nlargest(quantidade_sentencas, notas_sentencas)\n",
        "  melhores_sentencas = [sentencas_originais[i] for (nota, i) in melhores_sentencas]\n",
        "  return sentencas_originais, melhores_sentencas, notas_sentencas"
      ],
      "metadata": {
        "id": "AeMPdgrzlW9j"
      },
      "execution_count": 87,
      "outputs": []
    },
    {
      "cell_type": "code",
      "source": [
        "sentencas_originais, melhores_sentencas, notas_sentencas = sumarizar(texto_original, 5, 3, 3)"
      ],
      "metadata": {
        "id": "h-iR5evUl0pI"
      },
      "execution_count": 90,
      "outputs": []
    },
    {
      "cell_type": "code",
      "source": [
        "sentencas_originais, melhores_sentencas, notas_sentencas"
      ],
      "metadata": {
        "colab": {
          "base_uri": "https://localhost:8080/"
        },
        "id": "50MFhfpVx2Qr",
        "outputId": "8887d6ba-247c-4f50-df3b-97fc6ad983b6"
      },
      "execution_count": 91,
      "outputs": [
        {
          "output_type": "execute_result",
          "data": {
            "text/plain": [
              "(['A inteligência artificial é a inteligência similar à humana máquinas.',\n",
              "  'Definem como o estudo de agente artificial com inteligência.',\n",
              "  'Ciência e engenharia de produzir máquinas com inteligência.',\n",
              "  'Resolver problemas e possuir inteligência.',\n",
              "  'Relacionada ao comportamento inteligente.',\n",
              "  'Construção de máquinas para raciocinar.',\n",
              "  'Aprender com os erros e acertos.',\n",
              "  'Inteligência artificial é raciocinar nas situações do cotidiano.'],\n",
              " ['Construção de máquinas para raciocinar.',\n",
              "  'A inteligência artificial é a inteligência similar à humana máquinas.',\n",
              "  'Relacionada ao comportamento inteligente.'],\n",
              " [(2.6666666666666665, 0), (2.0, 1), (2.0, 2), (1.0, 3), (2.0, 4), (3.0, 5)])"
            ]
          },
          "metadata": {},
          "execution_count": 91
        }
      ]
    }
  ]
}