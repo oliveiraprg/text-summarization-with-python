{
  "nbformat": 4,
  "nbformat_minor": 0,
  "metadata": {
    "colab": {
      "provenance": [],
      "collapsed_sections": [],
      "authorship_tag": "ABX9TyOtiohg2q6SlfB04o0mL0lp",
      "include_colab_link": true
    },
    "kernelspec": {
      "name": "python3",
      "display_name": "Python 3"
    },
    "language_info": {
      "name": "python"
    }
  },
  "cells": [
    {
      "cell_type": "markdown",
      "metadata": {
        "id": "view-in-github",
        "colab_type": "text"
      },
      "source": [
        "<a href=\"https://colab.research.google.com/github/oliveiraprg/text-summarization-with-python/blob/main/algoritimo_de_luhn.ipynb\" target=\"_parent\"><img src=\"https://colab.research.google.com/assets/colab-badge.svg\" alt=\"Open In Colab\"/></a>"
      ]
    },
    {
      "cell_type": "markdown",
      "source": [
        "# Sumarização de textos com o Algoritimo de Luhn "
      ],
      "metadata": {
        "id": "t_Q2PWyXgeMW"
      }
    },
    {
      "cell_type": "markdown",
      "source": [
        "\n",
        "\n",
        "*  [ https://courses.ischool.berkeley.edu/i256/f06/papers/luhn58.pdf](https://courses.ischool.berkeley.edu/i256/f06/papers/luhn58.pdf)\n",
        "\n",
        "\n"
      ],
      "metadata": {
        "id": "mTIUwd02grEd"
      }
    },
    {
      "cell_type": "markdown",
      "source": [
        "## Preparação do texto de exemplo"
      ],
      "metadata": {
        "id": "XtUbvFY-h7lk"
      }
    },
    {
      "cell_type": "code",
      "source": [
        "import re\n",
        "import nltk\n",
        "import numpy\n",
        "import string\n",
        "import heapq"
      ],
      "metadata": {
        "id": "JDsDTuMyh-aE"
      },
      "execution_count": 1,
      "outputs": []
    },
    {
      "cell_type": "code",
      "source": [
        "nltk.download('punkt')"
      ],
      "metadata": {
        "colab": {
          "base_uri": "https://localhost:8080/"
        },
        "id": "pc-4uI3fiLGE",
        "outputId": "c85a6092-bed2-4783-a0fd-58ef1caefd36"
      },
      "execution_count": 2,
      "outputs": [
        {
          "output_type": "stream",
          "name": "stderr",
          "text": [
            "[nltk_data] Downloading package punkt to /root/nltk_data...\n",
            "[nltk_data]   Unzipping tokenizers/punkt.zip.\n"
          ]
        },
        {
          "output_type": "execute_result",
          "data": {
            "text/plain": [
              "True"
            ]
          },
          "metadata": {},
          "execution_count": 2
        }
      ]
    },
    {
      "cell_type": "code",
      "source": [
        "nltk.download('stopwords')"
      ],
      "metadata": {
        "colab": {
          "base_uri": "https://localhost:8080/"
        },
        "id": "YYrnHuR_iTLs",
        "outputId": "cd525516-2f06-45f5-e51f-2da41e7da3e6"
      },
      "execution_count": 3,
      "outputs": [
        {
          "output_type": "stream",
          "name": "stderr",
          "text": [
            "[nltk_data] Downloading package stopwords to /root/nltk_data...\n",
            "[nltk_data]   Unzipping corpora/stopwords.zip.\n"
          ]
        },
        {
          "output_type": "execute_result",
          "data": {
            "text/plain": [
              "True"
            ]
          },
          "metadata": {},
          "execution_count": 3
        }
      ]
    },
    {
      "cell_type": "code",
      "source": [
        "texto_original = \"\"\"A inteligência artificial é a inteligência similar à humana máquinas.\n",
        "                    Definem como o estudo de agente artificial com inteligência.\n",
        "                    Ciência e engenharia de produzir máquinas com inteligência.\n",
        "                    Resolver problemas e possuir inteligência. \n",
        "                    Relacionada ao comportamento inteligente. \n",
        "                    Construção de máquinas para raciocinar. \n",
        "                    Aprender com os erros e acertos. \n",
        "                    Inteligência artificial é raciocinar nas situações do cotidiano.\"\"\""
      ],
      "metadata": {
        "id": "kdourZmjiXyD"
      },
      "execution_count": 4,
      "outputs": []
    },
    {
      "cell_type": "code",
      "source": [
        "texto_original = re.sub(r'\\s+', ' ', texto_original)"
      ],
      "metadata": {
        "id": "cTCO0sL_i8MM"
      },
      "execution_count": 5,
      "outputs": []
    },
    {
      "cell_type": "code",
      "source": [
        "stop_words = nltk.corpus.stopwords.words('portuguese')"
      ],
      "metadata": {
        "id": "JqEyocXejaCc"
      },
      "execution_count": 6,
      "outputs": []
    },
    {
      "cell_type": "code",
      "source": [
        "def pre_processamento(texto):\n",
        "  texto_formatado = texto.lower()\n",
        "  tokens = []\n",
        "  for token in nltk.word_tokenize(texto_formatado):\n",
        "    tokens.append(token)\n",
        "  tokens = [palavra for palavra in tokens if palavra not in stop_words and palavra not in string.punctuation]\n",
        "  texto_formatado = ' '.join([str(elemento) for elemento in tokens if not elemento.isdigit()])\n",
        "  return texto_formatado"
      ],
      "metadata": {
        "id": "Bj1fz8ScjbUL"
      },
      "execution_count": 25,
      "outputs": []
    },
    {
      "cell_type": "markdown",
      "source": [
        "## Função para calcular a nota das sentenças"
      ],
      "metadata": {
        "id": "wPfCOT9XkyvT"
      }
    },
    {
      "cell_type": "code",
      "source": [
        "def calcula_nota_sentenca(sentencas, palavras_importantes, distancia):\n",
        "  notas = []\n",
        "  indice_sentenca = 0\n",
        "\n",
        "  for sentenca in [nltk.word_tokenize(sentenca.lower()) for sentenca in sentencas]:\n",
        "    indice_palavra = []\n",
        "    for palavra in palavras_importantes:\n",
        "      try:\n",
        "        indice_palavra.append(sentenca.index(palavra))\n",
        "      except ValueError:\n",
        "        pass\n",
        "    indice_palavra.sort()\n",
        "    if len(indice_palavra) == 0:continue  \n",
        "    lista_grupos = []\n",
        "    grupo_palavras = [indice_palavra[0]]\n",
        "    i = 1\n",
        "    while i < len(indice_palavra):\n",
        "      if indice_palavra[i] - indice_palavra[i-1] < distancia:\n",
        "        grupo_palavras.append(indice_palavra[i])\n",
        "      else:\n",
        "        lista_grupos.append(grupo_palavras[:])\n",
        "        grupo_palavras = [indice_palavra[i]]\n",
        "      i += 1\n",
        "    lista_grupos.append(grupo_palavras)\n",
        "    nota_maxima_grupo = 0\n",
        "    for grupo in lista_grupos:\n",
        "      palavras_importantes_no_grupo = len(grupo)\n",
        "      total_palavras_no_grupo = grupo[-1] - grupo[0] + 1\n",
        "      nota = 1.0 * palavras_importantes_no_grupo**2 / total_palavras_no_grupo\n",
        "      if nota > nota_maxima_grupo:\n",
        "        nota_maxima_grupo = nota\n",
        "    notas.append((nota_maxima_grupo, indice_sentenca))\n",
        "    indice_sentenca += 1\n",
        "  return notas\n"
      ],
      "metadata": {
        "id": "YmCIa8M24Trj"
      },
      "execution_count": 33,
      "outputs": []
    },
    {
      "cell_type": "markdown",
      "source": [
        "## Função para sumarizar os textos"
      ],
      "metadata": {
        "id": "Naj_EJkQlMmE"
      }
    },
    {
      "cell_type": "code",
      "source": [
        "def sumarizar(texto, distancia):\n",
        "  sentencas_originais = [sentenca for sentenca in nltk.sent_tokenize(texto)]\n",
        "  sentencas_formatadas = [pre_processamento(sentenca_original) for sentenca_original in sentencas_originais]\n",
        "  palavras = [palavra for sentenca in sentencas_formatadas for palavra in nltk.word_tokenize(sentenca)]\n",
        "  top_n_palavras = int(len(palavras) / 4) \n",
        "  frequencia = nltk.FreqDist(palavras)\n",
        "  quantidade_sentencas = int(len(sentencas_originais) / 2)\n",
        "  top_n_palavras = [palavra[0] for palavra in frequencia.most_common(top_n_palavras)]\n",
        "  calcula_nota_sentenca(sentencas_formatadas, top_n_palavras, distancia)\n",
        "  notas_sentencas = calcula_nota_sentenca(sentencas_formatadas, top_n_palavras, distancia)\n",
        "  melhores_sentencas = heapq.nlargest(quantidade_sentencas, notas_sentencas)\n",
        "  melhores_sentencas = [sentencas_originais[i] for (nota, i) in melhores_sentencas]\n",
        "  return sentencas_originais, melhores_sentencas, notas_sentencas"
      ],
      "metadata": {
        "id": "AeMPdgrzlW9j"
      },
      "execution_count": 53,
      "outputs": []
    },
    {
      "cell_type": "code",
      "source": [
        "sentencas_originais, melhores_sentencas, notas_sentencas = sumarizar(texto_original, 5)"
      ],
      "metadata": {
        "id": "h-iR5evUl0pI"
      },
      "execution_count": 54,
      "outputs": []
    },
    {
      "cell_type": "code",
      "source": [
        "sentencas_originais, melhores_sentencas, notas_sentencas"
      ],
      "metadata": {
        "colab": {
          "base_uri": "https://localhost:8080/"
        },
        "id": "50MFhfpVx2Qr",
        "outputId": "df8127e3-393f-4bd7-f1b3-7141aa3dab90"
      },
      "execution_count": 55,
      "outputs": [
        {
          "output_type": "execute_result",
          "data": {
            "text/plain": [
              "(['A inteligência artificial é a inteligência similar à humana máquinas.',\n",
              "  'Definem como o estudo de agente artificial com inteligência.',\n",
              "  'Ciência e engenharia de produzir máquinas com inteligência.',\n",
              "  'Resolver problemas e possuir inteligência.',\n",
              "  'Relacionada ao comportamento inteligente.',\n",
              "  'Construção de máquinas para raciocinar.',\n",
              "  'Aprender com os erros e acertos.',\n",
              "  'Inteligência artificial é raciocinar nas situações do cotidiano.'],\n",
              " ['A inteligência artificial é a inteligência similar à humana máquinas.',\n",
              "  'Definem como o estudo de agente artificial com inteligência.',\n",
              "  'Construção de máquinas para raciocinar.',\n",
              "  'Relacionada ao comportamento inteligente.'],\n",
              " [(4.166666666666667, 0), (3.2, 1), (2.0, 2), (1.0, 3), (2.0, 4), (3.0, 5)])"
            ]
          },
          "metadata": {},
          "execution_count": 55
        }
      ]
    },
    {
      "cell_type": "markdown",
      "source": [
        "## Visualização do resumo"
      ],
      "metadata": {
        "id": "6sfIJiqDkKDk"
      }
    },
    {
      "cell_type": "code",
      "source": [
        "def visualiza_resumo(titulo, lista_sentencas, melhores_sentencas):\n",
        "  from IPython.core.display import HTML\n",
        "  texto = ''\n",
        "  resumo = ''\n",
        "  display(HTML(f'<h1>{titulo}</h1>'))\n",
        "  display(HTML(f'<h2>Texto com resumo destacado - {titulo}</h2>'))\n",
        "  for sentenca in lista_sentencas:\n",
        "    if sentenca in melhores_sentencas:\n",
        "      texto += str(sentenca).replace(sentenca, f'<mark>{sentenca} </mark>')\n",
        "      resumo += str(sentenca).replace(sentenca, f'{sentenca} ')\n",
        "    else:\n",
        "      texto += f'{sentenca} '\n",
        "  display(HTML(f'{texto}'))\n",
        "  display(HTML(f'<h2>Resumo de - {titulo}</h2>'))\n",
        "  display(HTML(f'{resumo}'))"
      ],
      "metadata": {
        "id": "qgh9tT1gkN8k"
      },
      "execution_count": 56,
      "outputs": []
    },
    {
      "cell_type": "code",
      "source": [
        "visualiza_resumo('Inteligência Artificial', sentencas_originais, melhores_sentencas)"
      ],
      "metadata": {
        "colab": {
          "base_uri": "https://localhost:8080/",
          "height": 217
        },
        "id": "mQB6PfNAl_Ks",
        "outputId": "12cd3902-eb76-4b8b-ab9e-c07566a781b4"
      },
      "execution_count": 57,
      "outputs": [
        {
          "output_type": "display_data",
          "data": {
            "text/plain": [
              "<IPython.core.display.HTML object>"
            ],
            "text/html": [
              "<h1>Inteligência Artificial</h1>"
            ]
          },
          "metadata": {}
        },
        {
          "output_type": "display_data",
          "data": {
            "text/plain": [
              "<IPython.core.display.HTML object>"
            ],
            "text/html": [
              "<h2>Texto com resumo destacado - Inteligência Artificial</h2>"
            ]
          },
          "metadata": {}
        },
        {
          "output_type": "display_data",
          "data": {
            "text/plain": [
              "<IPython.core.display.HTML object>"
            ],
            "text/html": [
              "<mark>A inteligência artificial é a inteligência similar à humana máquinas. </mark><mark>Definem como o estudo de agente artificial com inteligência. </mark>Ciência e engenharia de produzir máquinas com inteligência. Resolver problemas e possuir inteligência. <mark>Relacionada ao comportamento inteligente. </mark><mark>Construção de máquinas para raciocinar. </mark>Aprender com os erros e acertos. Inteligência artificial é raciocinar nas situações do cotidiano. "
            ]
          },
          "metadata": {}
        },
        {
          "output_type": "display_data",
          "data": {
            "text/plain": [
              "<IPython.core.display.HTML object>"
            ],
            "text/html": [
              "<h2>Resumo de - Inteligência Artificial</h2>"
            ]
          },
          "metadata": {}
        },
        {
          "output_type": "display_data",
          "data": {
            "text/plain": [
              "<IPython.core.display.HTML object>"
            ],
            "text/html": [
              "A inteligência artificial é a inteligência similar à humana máquinas. Definem como o estudo de agente artificial com inteligência. Relacionada ao comportamento inteligente. Construção de máquinas para raciocinar. "
            ]
          },
          "metadata": {}
        }
      ]
    },
    {
      "cell_type": "markdown",
      "source": [
        "## Extração de texto da internet"
      ],
      "metadata": {
        "id": "riTbVEmYlwlK"
      }
    },
    {
      "cell_type": "code",
      "source": [
        "!pip install goose3"
      ],
      "metadata": {
        "colab": {
          "base_uri": "https://localhost:8080/"
        },
        "id": "UAL1J3Arl9XD",
        "outputId": "99d1cddd-ac80-4708-9dc4-4fc7ca6a72d8"
      },
      "execution_count": 58,
      "outputs": [
        {
          "output_type": "stream",
          "name": "stdout",
          "text": [
            "Looking in indexes: https://pypi.org/simple, https://us-python.pkg.dev/colab-wheels/public/simple/\n",
            "Requirement already satisfied: goose3 in /usr/local/lib/python3.7/dist-packages (3.1.12)\n",
            "Requirement already satisfied: langdetect in /usr/local/lib/python3.7/dist-packages (from goose3) (1.0.9)\n",
            "Requirement already satisfied: Pillow in /usr/local/lib/python3.7/dist-packages (from goose3) (7.1.2)\n",
            "Requirement already satisfied: cssselect in /usr/local/lib/python3.7/dist-packages (from goose3) (1.1.0)\n",
            "Requirement already satisfied: beautifulsoup4 in /usr/local/lib/python3.7/dist-packages (from goose3) (4.6.3)\n",
            "Requirement already satisfied: requests in /usr/local/lib/python3.7/dist-packages (from goose3) (2.23.0)\n",
            "Requirement already satisfied: lxml in /usr/local/lib/python3.7/dist-packages (from goose3) (4.9.1)\n",
            "Requirement already satisfied: pyahocorasick in /usr/local/lib/python3.7/dist-packages (from goose3) (1.4.4)\n",
            "Requirement already satisfied: python-dateutil in /usr/local/lib/python3.7/dist-packages (from goose3) (2.8.2)\n",
            "Requirement already satisfied: six in /usr/local/lib/python3.7/dist-packages (from langdetect->goose3) (1.15.0)\n",
            "Requirement already satisfied: certifi>=2017.4.17 in /usr/local/lib/python3.7/dist-packages (from requests->goose3) (2022.6.15)\n",
            "Requirement already satisfied: chardet<4,>=3.0.2 in /usr/local/lib/python3.7/dist-packages (from requests->goose3) (3.0.4)\n",
            "Requirement already satisfied: idna<3,>=2.5 in /usr/local/lib/python3.7/dist-packages (from requests->goose3) (2.10)\n",
            "Requirement already satisfied: urllib3!=1.25.0,!=1.25.1,<1.26,>=1.21.1 in /usr/local/lib/python3.7/dist-packages (from requests->goose3) (1.24.3)\n"
          ]
        }
      ]
    },
    {
      "cell_type": "code",
      "source": [
        "from goose3 import Goose"
      ],
      "metadata": {
        "id": "BKQCg12kmhe6"
      },
      "execution_count": 59,
      "outputs": []
    },
    {
      "cell_type": "code",
      "source": [
        "g = Goose()\n",
        "url = 'https://iaexpert.academy/2020/11/09/ia-preve-resultado-das-eleicoes-americanas/'\n",
        "artigo = g.extract(url)"
      ],
      "metadata": {
        "id": "T_-DCGfqmkRT"
      },
      "execution_count": 60,
      "outputs": []
    },
    {
      "cell_type": "code",
      "source": [
        "artigo.cleaned_text"
      ],
      "metadata": {
        "colab": {
          "base_uri": "https://localhost:8080/",
          "height": 105
        },
        "id": "OCWoWuFDm2rS",
        "outputId": "b925e2f4-88a1-4dd8-b399-244df7141e01"
      },
      "execution_count": 61,
      "outputs": [
        {
          "output_type": "execute_result",
          "data": {
            "text/plain": [
              "'Nas eleições presidenciais americanas de 2016, a maioria das predições apontavam para a vitória de Hillary Clinton. Entretanto, a história nos mostrou o resultado oposto, e Donald Trump foi o presidente nos últimos 4 anos. Desta vez, os estatísticos reexaminaram seus modelos, para aumentar o grau de confiabilidade nos seus resultados. Nesta tentativa de otimização das predições, a inteligência artificial certamente não ficou de fora.\\n\\nO modelo desenvolvido pelo Dr. Hernan Makse, físico estatístico da Universidade da Cidade de Nova York, baseou suas predições em uma rede neural treinada para processar os sentimentos expressos nas redes sociais. O algoritmo fez a análise de cerca de 1 bilhão de tweets para chegar a uma estimativa dos resultados do pleito. No dia da eleição, 3 de novembro, o modelo estava indicando a vitória de Joe Biden.\\n\\nO Dr. Makse disse que seu trabalho começou já na eleição de 2016, e foi testado novamente nas eleições na Argentina ano passado. Desta vez, o modelo está treinando com cerca de 5 vezes mais dados que nas eleições americanas anteriores. O trabalho não depende apenas da coleta dos dados, mas também de um tratamento estatístico adequado para levar em consideração duas variáveis externas: o viés de amostragem e a taxa de comparecimento. O primeiro fator se refere ao fato de que as redes sociais não necessariamente representam a população americana. A participação em redes sociais costuma ser maior nas cidades grandes, que de fato têm preferência por um dos candidatos, e o modelo deve ser corrigido para levar em consideração também a opinião das pessoas que não são ativas neste ambiente virtual. O segundo fator se deve à não-obrigatoriedade de votação nos Estados Unidos, ou seja, por mais que uma pessoa tenha sua preferência, pode ser que ela não compareça aos locais de votação para efetivá-la. Segundo o Dr. Makse, integrar estas duas variáveis em seu modelo é a parte mais importante do trabalho. Ele acredita ser esta uma das razões para que as estimativas da última eleição, baseadas em métodos tradicionais de coleta de informação, terem falhado. Sua equipe acompanhou as tendências apresentadas nas últimas eleições na Europa, e os modelos estão se revelando cada vez melhores.\\n\\nQuando seu modelo foi usado para predizer os resultados da eleição corrente usando dados brutos, Joe Biden apareceu como vencedor com larga vantagem. Após aplicar os mecanismos de correção para os dois vieses identificados, a vantagem diminuiu, mas Biden ainda é indicado como favorito.\\n\\nParece que, desta vez, os algoritmos estão de fato contribuindo para que as predições sejam mais precisas.'"
            ],
            "application/vnd.google.colaboratory.intrinsic+json": {
              "type": "string"
            }
          },
          "metadata": {},
          "execution_count": 61
        }
      ]
    },
    {
      "cell_type": "code",
      "source": [
        "sentencas_originais, melhores_sentencas, notas_sentencas = sumarizar(artigo.cleaned_text, 5)"
      ],
      "metadata": {
        "id": "6UUcL158m41S"
      },
      "execution_count": 62,
      "outputs": []
    },
    {
      "cell_type": "code",
      "source": [
        "sentencas_originais, melhores_sentencas, notas_sentencas"
      ],
      "metadata": {
        "colab": {
          "base_uri": "https://localhost:8080/"
        },
        "id": "1kUROx9Jng1K",
        "outputId": "52f26a2a-98eb-4d7f-a5c5-46e6363d4210"
      },
      "execution_count": 63,
      "outputs": [
        {
          "output_type": "execute_result",
          "data": {
            "text/plain": [
              "(['Nas eleições presidenciais americanas de 2016, a maioria das predições apontavam para a vitória de Hillary Clinton.',\n",
              "  'Entretanto, a história nos mostrou o resultado oposto, e Donald Trump foi o presidente nos últimos 4 anos.',\n",
              "  'Desta vez, os estatísticos reexaminaram seus modelos, para aumentar o grau de confiabilidade nos seus resultados.',\n",
              "  'Nesta tentativa de otimização das predições, a inteligência artificial certamente não ficou de fora.',\n",
              "  'O modelo desenvolvido pelo Dr. Hernan Makse, físico estatístico da Universidade da Cidade de Nova York, baseou suas predições em uma rede neural treinada para processar os sentimentos expressos nas redes sociais.',\n",
              "  'O algoritmo fez a análise de cerca de 1 bilhão de tweets para chegar a uma estimativa dos resultados do pleito.',\n",
              "  'No dia da eleição, 3 de novembro, o modelo estava indicando a vitória de Joe Biden.',\n",
              "  'O Dr. Makse disse que seu trabalho começou já na eleição de 2016, e foi testado novamente nas eleições na Argentina ano passado.',\n",
              "  'Desta vez, o modelo está treinando com cerca de 5 vezes mais dados que nas eleições americanas anteriores.',\n",
              "  'O trabalho não depende apenas da coleta dos dados, mas também de um tratamento estatístico adequado para levar em consideração duas variáveis externas: o viés de amostragem e a taxa de comparecimento.',\n",
              "  'O primeiro fator se refere ao fato de que as redes sociais não necessariamente representam a população americana.',\n",
              "  'A participação em redes sociais costuma ser maior nas cidades grandes, que de fato têm preferência por um dos candidatos, e o modelo deve ser corrigido para levar em consideração também a opinião das pessoas que não são ativas neste ambiente virtual.',\n",
              "  'O segundo fator se deve à não-obrigatoriedade de votação nos Estados Unidos, ou seja, por mais que uma pessoa tenha sua preferência, pode ser que ela não compareça aos locais de votação para efetivá-la.',\n",
              "  'Segundo o Dr. Makse, integrar estas duas variáveis em seu modelo é a parte mais importante do trabalho.',\n",
              "  'Ele acredita ser esta uma das razões para que as estimativas da última eleição, baseadas em métodos tradicionais de coleta de informação, terem falhado.',\n",
              "  'Sua equipe acompanhou as tendências apresentadas nas últimas eleições na Europa, e os modelos estão se revelando cada vez melhores.',\n",
              "  'Quando seu modelo foi usado para predizer os resultados da eleição corrente usando dados brutos, Joe Biden apareceu como vencedor com larga vantagem.',\n",
              "  'Após aplicar os mecanismos de correção para os dois vieses identificados, a vantagem diminuiu, mas Biden ainda é indicado como favorito.',\n",
              "  'Parece que, desta vez, os algoritmos estão de fato contribuindo para que as predições sejam mais precisas.'],\n",
              " ['Entretanto, a história nos mostrou o resultado oposto, e Donald Trump foi o presidente nos últimos 4 anos.',\n",
              "  'Desta vez, os estatísticos reexaminaram seus modelos, para aumentar o grau de confiabilidade nos seus resultados.',\n",
              "  'Nas eleições presidenciais americanas de 2016, a maioria das predições apontavam para a vitória de Hillary Clinton.',\n",
              "  'Nesta tentativa de otimização das predições, a inteligência artificial certamente não ficou de fora.',\n",
              "  'Desta vez, o modelo está treinando com cerca de 5 vezes mais dados que nas eleições americanas anteriores.',\n",
              "  'O trabalho não depende apenas da coleta dos dados, mas também de um tratamento estatístico adequado para levar em consideração duas variáveis externas: o viés de amostragem e a taxa de comparecimento.',\n",
              "  'Segundo o Dr. Makse, integrar estas duas variáveis em seu modelo é a parte mais importante do trabalho.',\n",
              "  'A participação em redes sociais costuma ser maior nas cidades grandes, que de fato têm preferência por um dos candidatos, e o modelo deve ser corrigido para levar em consideração também a opinião das pessoas que não são ativas neste ambiente virtual.',\n",
              "  'No dia da eleição, 3 de novembro, o modelo estava indicando a vitória de Joe Biden.'],\n",
              " [(9.0, 0),\n",
              "  (10.0, 1),\n",
              "  (9.0, 2),\n",
              "  (6.0, 3),\n",
              "  (2.2857142857142856, 4),\n",
              "  (1.0, 5),\n",
              "  (3.5714285714285716, 6),\n",
              "  (2.7777777777777777, 7),\n",
              "  (5.444444444444445, 8),\n",
              "  (5.333333333333333, 9),\n",
              "  (3.2, 10),\n",
              "  (4.0, 11),\n",
              "  (2.7777777777777777, 12),\n",
              "  (4.9, 13),\n",
              "  (0.8, 14),\n",
              "  (1.5, 15),\n",
              "  (3.2666666666666666, 16),\n",
              "  (1.3333333333333333, 17),\n",
              "  (2.6666666666666665, 18)])"
            ]
          },
          "metadata": {},
          "execution_count": 63
        }
      ]
    },
    {
      "cell_type": "code",
      "source": [
        "visualiza_resumo(artigo.title, sentencas_originais, melhores_sentencas)"
      ],
      "metadata": {
        "colab": {
          "base_uri": "https://localhost:8080/",
          "height": 443
        },
        "id": "aOf40RvPnorK",
        "outputId": "405b017b-700f-4144-c323-beb80fda2028"
      },
      "execution_count": 64,
      "outputs": [
        {
          "output_type": "display_data",
          "data": {
            "text/plain": [
              "<IPython.core.display.HTML object>"
            ],
            "text/html": [
              "<h1>IA prevê resultado das eleições americanas – IA Expert Academy</h1>"
            ]
          },
          "metadata": {}
        },
        {
          "output_type": "display_data",
          "data": {
            "text/plain": [
              "<IPython.core.display.HTML object>"
            ],
            "text/html": [
              "<h2>Texto com resumo destacado - IA prevê resultado das eleições americanas – IA Expert Academy</h2>"
            ]
          },
          "metadata": {}
        },
        {
          "output_type": "display_data",
          "data": {
            "text/plain": [
              "<IPython.core.display.HTML object>"
            ],
            "text/html": [
              "<mark>Nas eleições presidenciais americanas de 2016, a maioria das predições apontavam para a vitória de Hillary Clinton. </mark><mark>Entretanto, a história nos mostrou o resultado oposto, e Donald Trump foi o presidente nos últimos 4 anos. </mark><mark>Desta vez, os estatísticos reexaminaram seus modelos, para aumentar o grau de confiabilidade nos seus resultados. </mark><mark>Nesta tentativa de otimização das predições, a inteligência artificial certamente não ficou de fora. </mark>O modelo desenvolvido pelo Dr. Hernan Makse, físico estatístico da Universidade da Cidade de Nova York, baseou suas predições em uma rede neural treinada para processar os sentimentos expressos nas redes sociais. O algoritmo fez a análise de cerca de 1 bilhão de tweets para chegar a uma estimativa dos resultados do pleito. <mark>No dia da eleição, 3 de novembro, o modelo estava indicando a vitória de Joe Biden. </mark>O Dr. Makse disse que seu trabalho começou já na eleição de 2016, e foi testado novamente nas eleições na Argentina ano passado. <mark>Desta vez, o modelo está treinando com cerca de 5 vezes mais dados que nas eleições americanas anteriores. </mark><mark>O trabalho não depende apenas da coleta dos dados, mas também de um tratamento estatístico adequado para levar em consideração duas variáveis externas: o viés de amostragem e a taxa de comparecimento. </mark>O primeiro fator se refere ao fato de que as redes sociais não necessariamente representam a população americana. <mark>A participação em redes sociais costuma ser maior nas cidades grandes, que de fato têm preferência por um dos candidatos, e o modelo deve ser corrigido para levar em consideração também a opinião das pessoas que não são ativas neste ambiente virtual. </mark>O segundo fator se deve à não-obrigatoriedade de votação nos Estados Unidos, ou seja, por mais que uma pessoa tenha sua preferência, pode ser que ela não compareça aos locais de votação para efetivá-la. <mark>Segundo o Dr. Makse, integrar estas duas variáveis em seu modelo é a parte mais importante do trabalho. </mark>Ele acredita ser esta uma das razões para que as estimativas da última eleição, baseadas em métodos tradicionais de coleta de informação, terem falhado. Sua equipe acompanhou as tendências apresentadas nas últimas eleições na Europa, e os modelos estão se revelando cada vez melhores. Quando seu modelo foi usado para predizer os resultados da eleição corrente usando dados brutos, Joe Biden apareceu como vencedor com larga vantagem. Após aplicar os mecanismos de correção para os dois vieses identificados, a vantagem diminuiu, mas Biden ainda é indicado como favorito. Parece que, desta vez, os algoritmos estão de fato contribuindo para que as predições sejam mais precisas. "
            ]
          },
          "metadata": {}
        },
        {
          "output_type": "display_data",
          "data": {
            "text/plain": [
              "<IPython.core.display.HTML object>"
            ],
            "text/html": [
              "<h2>Resumo de - IA prevê resultado das eleições americanas – IA Expert Academy</h2>"
            ]
          },
          "metadata": {}
        },
        {
          "output_type": "display_data",
          "data": {
            "text/plain": [
              "<IPython.core.display.HTML object>"
            ],
            "text/html": [
              "Nas eleições presidenciais americanas de 2016, a maioria das predições apontavam para a vitória de Hillary Clinton. Entretanto, a história nos mostrou o resultado oposto, e Donald Trump foi o presidente nos últimos 4 anos. Desta vez, os estatísticos reexaminaram seus modelos, para aumentar o grau de confiabilidade nos seus resultados. Nesta tentativa de otimização das predições, a inteligência artificial certamente não ficou de fora. No dia da eleição, 3 de novembro, o modelo estava indicando a vitória de Joe Biden. Desta vez, o modelo está treinando com cerca de 5 vezes mais dados que nas eleições americanas anteriores. O trabalho não depende apenas da coleta dos dados, mas também de um tratamento estatístico adequado para levar em consideração duas variáveis externas: o viés de amostragem e a taxa de comparecimento. A participação em redes sociais costuma ser maior nas cidades grandes, que de fato têm preferência por um dos candidatos, e o modelo deve ser corrigido para levar em consideração também a opinião das pessoas que não são ativas neste ambiente virtual. Segundo o Dr. Makse, integrar estas duas variáveis em seu modelo é a parte mais importante do trabalho. "
            ]
          },
          "metadata": {}
        }
      ]
    },
    {
      "cell_type": "markdown",
      "source": [
        "## Leitura de artigo de feeds de noticias(RSS)"
      ],
      "metadata": {
        "id": "mfiDS9GOv-n_"
      }
    },
    {
      "cell_type": "code",
      "source": [
        "!pip install feedparser"
      ],
      "metadata": {
        "colab": {
          "base_uri": "https://localhost:8080/"
        },
        "id": "azecpA8rv-TH",
        "outputId": "684650d4-3f42-4b2d-ee4c-ffa0d72e7f64"
      },
      "execution_count": 67,
      "outputs": [
        {
          "output_type": "stream",
          "name": "stdout",
          "text": [
            "Looking in indexes: https://pypi.org/simple, https://us-python.pkg.dev/colab-wheels/public/simple/\n",
            "Collecting feedparser\n",
            "  Downloading feedparser-6.0.10-py3-none-any.whl (81 kB)\n",
            "\u001b[K     |████████████████████████████████| 81 kB 4.0 MB/s \n",
            "\u001b[?25hCollecting sgmllib3k\n",
            "  Downloading sgmllib3k-1.0.0.tar.gz (5.8 kB)\n",
            "Building wheels for collected packages: sgmllib3k\n",
            "  Building wheel for sgmllib3k (setup.py) ... \u001b[?25l\u001b[?25hdone\n",
            "  Created wheel for sgmllib3k: filename=sgmllib3k-1.0.0-py3-none-any.whl size=6066 sha256=0e1f9c022966efc54a615c2f72b67dda86ced3142a18eb90ccbe08e96f24d45d\n",
            "  Stored in directory: /root/.cache/pip/wheels/73/ad/a4/0dff4a6ef231fc0dfa12ffbac2a36cebfdddfe059f50e019aa\n",
            "Successfully built sgmllib3k\n",
            "Installing collected packages: sgmllib3k, feedparser\n",
            "Successfully installed feedparser-6.0.10 sgmllib3k-1.0.0\n"
          ]
        }
      ]
    },
    {
      "cell_type": "code",
      "source": [
        "import feedparser"
      ],
      "metadata": {
        "id": "IUAnrR7lv5fn"
      },
      "execution_count": 68,
      "outputs": []
    },
    {
      "cell_type": "code",
      "source": [
        "from bs4 import BeautifulSoup\n",
        "import os\n",
        "import json"
      ],
      "metadata": {
        "id": "tYhil9-2xKjm"
      },
      "execution_count": 70,
      "outputs": []
    },
    {
      "cell_type": "code",
      "source": [
        "url = 'https://iaexpert.academy/feed/'\n",
        "feed = feedparser.parse(url)"
      ],
      "metadata": {
        "id": "E6gB62YZxP8G"
      },
      "execution_count": 71,
      "outputs": []
    },
    {
      "cell_type": "code",
      "source": [
        "feed.entries"
      ],
      "metadata": {
        "colab": {
          "base_uri": "https://localhost:8080/"
        },
        "id": "IPcmUV36xsK-",
        "outputId": "2ab7a50b-2af5-46d2-b90f-82776b0bbd47"
      },
      "execution_count": 72,
      "outputs": [
        {
          "output_type": "execute_result",
          "data": {
            "text/plain": [
              "[{'title': 'Como usar a plataforma IA Expert',\n",
              "  'title_detail': {'type': 'text/plain',\n",
              "   'language': None,\n",
              "   'base': 'https://iaexpert.academy/feed/',\n",
              "   'value': 'Como usar a plataforma IA Expert'},\n",
              "  'links': [{'rel': 'alternate',\n",
              "    'type': 'text/html',\n",
              "    'href': 'https://iaexpert.academy/2022/10/04/como-usar-a-plataforma-ia-expert/?utm_source=rss&utm_medium=rss&utm_campaign=como-usar-a-plataforma-ia-expert'}],\n",
              "  'link': 'https://iaexpert.academy/2022/10/04/como-usar-a-plataforma-ia-expert/?utm_source=rss&utm_medium=rss&utm_campaign=como-usar-a-plataforma-ia-expert',\n",
              "  'comments': 'https://iaexpert.academy/2022/10/04/como-usar-a-plataforma-ia-expert/#respond',\n",
              "  'authors': [{'name': 'Jones Granatyr'}],\n",
              "  'author': 'Jones Granatyr',\n",
              "  'author_detail': {'name': 'Jones Granatyr'},\n",
              "  'published': 'Tue, 04 Oct 2022 10:00:00 +0000',\n",
              "  'published_parsed': time.struct_time(tm_year=2022, tm_mon=10, tm_mday=4, tm_hour=10, tm_min=0, tm_sec=0, tm_wday=1, tm_yday=277, tm_isdst=0),\n",
              "  'tags': [{'term': 'Tutorial', 'scheme': None, 'label': None},\n",
              "   {'term': 'inteligência artificial', 'scheme': None, 'label': None}],\n",
              "  'id': 'https://iaexpert.academy/?p=36910',\n",
              "  'guidislink': False,\n",
              "  'summary': 'Nesse vídeo, você confere como funciona o acesso a plataforma IA Expert. Aprenda a fazer pesquisa e inscrição nos cursos, alteração de senha, download do certificado de conclusão e muito mais! Torne-se assinante IA Expert Academy.',\n",
              "  'summary_detail': {'type': 'text/html',\n",
              "   'language': None,\n",
              "   'base': 'https://iaexpert.academy/feed/',\n",
              "   'value': 'Nesse vídeo, você confere como funciona o acesso a plataforma IA Expert. Aprenda a fazer pesquisa e inscrição nos cursos, alteração de senha, download do certificado de conclusão e muito mais! Torne-se assinante IA Expert Academy.'},\n",
              "  'content': [{'type': 'text/html',\n",
              "    'language': None,\n",
              "    'base': 'https://iaexpert.academy/feed/',\n",
              "    'value': '<p class=\"wp-embed-aspect-4-3 wp-has-aspect-ratio\">Nesse vídeo, você confere como funciona o acesso a plataforma IA Expert. Aprenda a fazer pesquisa e inscrição nos cursos, alteração de senha, download do certificado de conclusão e muito mais!</p>\\n\\n\\n\\n<p class=\"wp-embed-aspect-4-3 wp-has-aspect-ratio\">Torne-se <a href=\"https://iaexpert.academy/assinatura\" rel=\"noreferrer noopener\" target=\"_blank\">assinante</a> IA Expert Academy.</p>\\n\\n\\n\\n<figure class=\"wp-block-embed\"><div class=\"wp-block-embed__wrapper\">\\n<div class=\"ast-oembed-container\"></div>\\n</div></figure>'}],\n",
              "  'wfw_commentrss': 'https://iaexpert.academy/2022/10/04/como-usar-a-plataforma-ia-expert/feed/',\n",
              "  'slash_comments': '0'},\n",
              " {'title': 'Introdução ao Data Robot para Machine Learning',\n",
              "  'title_detail': {'type': 'text/plain',\n",
              "   'language': None,\n",
              "   'base': 'https://iaexpert.academy/feed/',\n",
              "   'value': 'Introdução ao Data Robot para Machine Learning'},\n",
              "  'links': [{'rel': 'alternate',\n",
              "    'type': 'text/html',\n",
              "    'href': 'https://iaexpert.academy/2022/09/29/introducao-ao-data-robot-para-machine-learning/?utm_source=rss&utm_medium=rss&utm_campaign=introducao-ao-data-robot-para-machine-learning'}],\n",
              "  'link': 'https://iaexpert.academy/2022/09/29/introducao-ao-data-robot-para-machine-learning/?utm_source=rss&utm_medium=rss&utm_campaign=introducao-ao-data-robot-para-machine-learning',\n",
              "  'comments': 'https://iaexpert.academy/2022/09/29/introducao-ao-data-robot-para-machine-learning/#respond',\n",
              "  'authors': [{'name': 'Jones Granatyr'}],\n",
              "  'author': 'Jones Granatyr',\n",
              "  'author_detail': {'name': 'Jones Granatyr'},\n",
              "  'published': 'Thu, 29 Sep 2022 10:00:00 +0000',\n",
              "  'published_parsed': time.struct_time(tm_year=2022, tm_mon=9, tm_mday=29, tm_hour=10, tm_min=0, tm_sec=0, tm_wday=3, tm_yday=272, tm_isdst=0),\n",
              "  'tags': [{'term': 'IA na prática', 'scheme': None, 'label': None},\n",
              "   {'term': 'machine learning', 'scheme': None, 'label': None}],\n",
              "  'id': 'https://iaexpert.academy/?p=36866',\n",
              "  'guidislink': False,\n",
              "  'summary': 'Veja nesta aula noções introdutórias sobre o Data Robot para Machine Learning. A aula faz parte do curso &#8220;Machine Learning sem Código e sem Matemática&#8221;. O curso está disponível para assinantes IA Expert Academy.',\n",
              "  'summary_detail': {'type': 'text/html',\n",
              "   'language': None,\n",
              "   'base': 'https://iaexpert.academy/feed/',\n",
              "   'value': 'Veja nesta aula noções introdutórias sobre o Data Robot para Machine Learning. A aula faz parte do curso &#8220;Machine Learning sem Código e sem Matemática&#8221;. O curso está disponível para assinantes IA Expert Academy.'},\n",
              "  'content': [{'type': 'text/html',\n",
              "    'language': None,\n",
              "    'base': 'https://iaexpert.academy/feed/',\n",
              "    'value': '<p class=\"wp-embed-aspect-4-3 wp-has-aspect-ratio\">Veja nesta aula noções introdutórias sobre o Data Robot para Machine Learning. A aula faz parte do curso <strong><a href=\"https://iaexpert.academy/courses/machine-learning-sem-codigo-sem-matematica/\">&#8220;Machine Learning sem Código e sem Matemática&#8221;</a></strong>.</p>\\n\\n\\n\\n<p class=\"wp-embed-aspect-4-3 wp-has-aspect-ratio\">O curso está disponível para <a href=\"https://iaexpert.academy/assinatura\" rel=\"noreferrer noopener\" target=\"_blank\">assinantes</a> IA Expert Academy.</p>\\n\\n\\n\\n<figure class=\"wp-block-embed\"><div class=\"wp-block-embed__wrapper\">\\n<div class=\"ast-oembed-container\"></div>\\n</div></figure>'}],\n",
              "  'wfw_commentrss': 'https://iaexpert.academy/2022/09/29/introducao-ao-data-robot-para-machine-learning/feed/',\n",
              "  'slash_comments': '0'},\n",
              " {'title': 'OpenAI apresenta Whisper, sistema de transcrição de áudio com desempenho humano',\n",
              "  'title_detail': {'type': 'text/plain',\n",
              "   'language': None,\n",
              "   'base': 'https://iaexpert.academy/feed/',\n",
              "   'value': 'OpenAI apresenta Whisper, sistema de transcrição de áudio com desempenho humano'},\n",
              "  'links': [{'rel': 'alternate',\n",
              "    'type': 'text/html',\n",
              "    'href': 'https://iaexpert.academy/2022/09/28/openai-apresenta-whisper-sistema-transcricao-audio-desempenho-humano/?utm_source=rss&utm_medium=rss&utm_campaign=openai-apresenta-whisper-sistema-transcricao-audio-desempenho-humano'}],\n",
              "  'link': 'https://iaexpert.academy/2022/09/28/openai-apresenta-whisper-sistema-transcricao-audio-desempenho-humano/?utm_source=rss&utm_medium=rss&utm_campaign=openai-apresenta-whisper-sistema-transcricao-audio-desempenho-humano',\n",
              "  'comments': 'https://iaexpert.academy/2022/09/28/openai-apresenta-whisper-sistema-transcricao-audio-desempenho-humano/#respond',\n",
              "  'authors': [{'name': 'Denny Ceccon'}],\n",
              "  'author': 'Denny Ceccon',\n",
              "  'author_detail': {'name': 'Denny Ceccon'},\n",
              "  'published': 'Wed, 28 Sep 2022 08:00:00 +0000',\n",
              "  'published_parsed': time.struct_time(tm_year=2022, tm_mon=9, tm_mday=28, tm_hour=8, tm_min=0, tm_sec=0, tm_wday=2, tm_yday=271, tm_isdst=0),\n",
              "  'tags': [{'term': 'Notícias', 'scheme': None, 'label': None},\n",
              "   {'term': 'inteligência artificial', 'scheme': None, 'label': None},\n",
              "   {'term': 'transcrição de áudio', 'scheme': None, 'label': None}],\n",
              "  'id': 'https://iaexpert.academy/?p=36887',\n",
              "  'guidislink': False,\n",
              "  'summary': 'Treinado com grande volume e variedade de dados, o sistema tem alta robustez e é capaz de realizar várias tarefas relacionadas a transcrição de áudio.',\n",
              "  'summary_detail': {'type': 'text/html',\n",
              "   'language': None,\n",
              "   'base': 'https://iaexpert.academy/feed/',\n",
              "   'value': 'Treinado com grande volume e variedade de dados, o sistema tem alta robustez e é capaz de realizar várias tarefas relacionadas a transcrição de áudio.'},\n",
              "  'content': [{'type': 'text/html',\n",
              "    'language': None,\n",
              "    'base': 'https://iaexpert.academy/feed/',\n",
              "    'value': '<p>Apesar de todo o progresso recente na área de processamento de linguagem natural, as tarefas mais beneficiadas foram aquelas associadas a sistemas de conversação, onde o usuário poderia interagir com a inteligência artificial no formato de texto. A transcrição de áudio para texto teve desenvolvimento mais lento, e apesar de várias ferramentas já produzirem legendas automaticamente, a qualidade ainda não estava a par dos sistemas conversacionais.</p>\\n\\n\\n\\n<p>Na última semana, a OpenAI mudou este paradigma ao disponibilizar em formato aberto o código para o Whisper, uma rede neural treinada na tarefa de transcrição de áudio. A arquitetura do modelo segue a abordagem to tipo end-to-end, onde um encoder aprende a codificar o áudio e um decoder aprende a converter o sinal para texto. Durante o processamento, o áudio de entrada é fragmentado em sequências de 30 segundos e passado para o encoder no formato de um espectrograma, que é uma forma tradicional para representar dados sonoros. O decoder recebe tokens especiais que direcionam o modelo para realizar uma tarefa específica, como a identificação do idioma, a geração de marcas de tempo, a transcrição do discurso em um idioma desejado, ou a tradução do áudio para a versão em inglês da transcrição.</p>\\n\\n\\n\\n<p>O sistema treinou com cerca de 680 mil horas de áudio coletados da internet, compreendendo vários idiomas e tarefas diferentes. Os autores acreditam que o tamanho e a diversidade dos dados foram responsáveis pela alta robustez do Whisper com relação a sotaques, sons de fundo e linguagem técnica. O resultado foi um modelo que produz transcrições tão boas quanto aquelas produzidas por um humano. Alguns exemplos podem ser vistos na <a href=\"https://openai.com/blog/whisper/?utm_source=datahackers\">página de apresentação do sistema</a>.</p>\\n\\n\\n\\n<p>A empresa está disponibilizando o <a href=\"https://cdn.openai.com/papers/whisper.pdf\">trabalho</a> e o <a href=\"https://github.com/openai/whisper\">código</a> do Whisper na expectativa de popularizar ainda mais as interfaces de voz de aplicações inovadoras.</p>'}],\n",
              "  'wfw_commentrss': 'https://iaexpert.academy/2022/09/28/openai-apresenta-whisper-sistema-transcricao-audio-desempenho-humano/feed/',\n",
              "  'slash_comments': '0'},\n",
              " {'title': 'Introdução ao Microsoft Azure para Machine Learning',\n",
              "  'title_detail': {'type': 'text/plain',\n",
              "   'language': None,\n",
              "   'base': 'https://iaexpert.academy/feed/',\n",
              "   'value': 'Introdução ao Microsoft Azure para Machine Learning'},\n",
              "  'links': [{'rel': 'alternate',\n",
              "    'type': 'text/html',\n",
              "    'href': 'https://iaexpert.academy/2022/09/27/introducao-ao-microsoft-azure-para-machine-learning/?utm_source=rss&utm_medium=rss&utm_campaign=introducao-ao-microsoft-azure-para-machine-learning'}],\n",
              "  'link': 'https://iaexpert.academy/2022/09/27/introducao-ao-microsoft-azure-para-machine-learning/?utm_source=rss&utm_medium=rss&utm_campaign=introducao-ao-microsoft-azure-para-machine-learning',\n",
              "  'comments': 'https://iaexpert.academy/2022/09/27/introducao-ao-microsoft-azure-para-machine-learning/#respond',\n",
              "  'authors': [{'name': 'Jones Granatyr'}],\n",
              "  'author': 'Jones Granatyr',\n",
              "  'author_detail': {'name': 'Jones Granatyr'},\n",
              "  'published': 'Tue, 27 Sep 2022 10:00:00 +0000',\n",
              "  'published_parsed': time.struct_time(tm_year=2022, tm_mon=9, tm_mday=27, tm_hour=10, tm_min=0, tm_sec=0, tm_wday=1, tm_yday=270, tm_isdst=0),\n",
              "  'tags': [{'term': 'IA na prática', 'scheme': None, 'label': None},\n",
              "   {'term': 'machine learning', 'scheme': None, 'label': None}],\n",
              "  'id': 'https://iaexpert.academy/?p=36862',\n",
              "  'guidislink': False,\n",
              "  'summary': 'Veja nesta aula noções introdutórias sobre o Microsoft Azure para Machine Learning. A aula faz parte do curso &#8220;Machine Learning sem Código e sem Matemática&#8221;. O curso está disponível para assinantes IA Expert Academy.',\n",
              "  'summary_detail': {'type': 'text/html',\n",
              "   'language': None,\n",
              "   'base': 'https://iaexpert.academy/feed/',\n",
              "   'value': 'Veja nesta aula noções introdutórias sobre o Microsoft Azure para Machine Learning. A aula faz parte do curso &#8220;Machine Learning sem Código e sem Matemática&#8221;. O curso está disponível para assinantes IA Expert Academy.'},\n",
              "  'content': [{'type': 'text/html',\n",
              "    'language': None,\n",
              "    'base': 'https://iaexpert.academy/feed/',\n",
              "    'value': '<p class=\"wp-embed-aspect-4-3 wp-has-aspect-ratio\">Veja nesta aula noções introdutórias sobre o Microsoft Azure para Machine Learning. A aula faz parte do curso <strong><a href=\"https://iaexpert.academy/courses/machine-learning-sem-codigo-sem-matematica/\">&#8220;Machine Learning sem Código e sem Matemática&#8221;</a></strong>.</p>\\n\\n\\n\\n<p class=\"wp-embed-aspect-4-3 wp-has-aspect-ratio\">O curso está disponível para <a href=\"https://iaexpert.academy/assinatura\" rel=\"noreferrer noopener\" target=\"_blank\">assinantes</a> IA Expert Academy.</p>\\n\\n\\n\\n<figure class=\"wp-block-embed\"><div class=\"wp-block-embed__wrapper\">\\n<div class=\"ast-oembed-container\"></div>\\n</div></figure>'}],\n",
              "  'wfw_commentrss': 'https://iaexpert.academy/2022/09/27/introducao-ao-microsoft-azure-para-machine-learning/feed/',\n",
              "  'slash_comments': '0'},\n",
              " {'title': 'Introdução à Ferramenta BigML para Machine Learning',\n",
              "  'title_detail': {'type': 'text/plain',\n",
              "   'language': None,\n",
              "   'base': 'https://iaexpert.academy/feed/',\n",
              "   'value': 'Introdução à Ferramenta BigML para Machine Learning'},\n",
              "  'links': [{'rel': 'alternate',\n",
              "    'type': 'text/html',\n",
              "    'href': 'https://iaexpert.academy/2022/09/22/introducao-a-ferramenta-bigml-para-machine-learning/?utm_source=rss&utm_medium=rss&utm_campaign=introducao-a-ferramenta-bigml-para-machine-learning'}],\n",
              "  'link': 'https://iaexpert.academy/2022/09/22/introducao-a-ferramenta-bigml-para-machine-learning/?utm_source=rss&utm_medium=rss&utm_campaign=introducao-a-ferramenta-bigml-para-machine-learning',\n",
              "  'comments': 'https://iaexpert.academy/2022/09/22/introducao-a-ferramenta-bigml-para-machine-learning/#respond',\n",
              "  'authors': [{'name': 'Jones Granatyr'}],\n",
              "  'author': 'Jones Granatyr',\n",
              "  'author_detail': {'name': 'Jones Granatyr'},\n",
              "  'published': 'Thu, 22 Sep 2022 10:00:00 +0000',\n",
              "  'published_parsed': time.struct_time(tm_year=2022, tm_mon=9, tm_mday=22, tm_hour=10, tm_min=0, tm_sec=0, tm_wday=3, tm_yday=265, tm_isdst=0),\n",
              "  'tags': [{'term': 'IA na prática', 'scheme': None, 'label': None},\n",
              "   {'term': 'machine learning', 'scheme': None, 'label': None}],\n",
              "  'id': 'https://iaexpert.academy/?p=36777',\n",
              "  'guidislink': False,\n",
              "  'summary': 'Veja nesta aula noções introdutórias sobre a ferramenta BigML para Machine Learning. A aula faz parte do curso &#8220;Machine Learning sem Código e sem Matemática&#8221;. O curso está disponível para assinantes IA Expert Academy.',\n",
              "  'summary_detail': {'type': 'text/html',\n",
              "   'language': None,\n",
              "   'base': 'https://iaexpert.academy/feed/',\n",
              "   'value': 'Veja nesta aula noções introdutórias sobre a ferramenta BigML para Machine Learning. A aula faz parte do curso &#8220;Machine Learning sem Código e sem Matemática&#8221;. O curso está disponível para assinantes IA Expert Academy.'},\n",
              "  'content': [{'type': 'text/html',\n",
              "    'language': None,\n",
              "    'base': 'https://iaexpert.academy/feed/',\n",
              "    'value': '<p class=\"wp-embed-aspect-4-3 wp-has-aspect-ratio\">Veja nesta aula noções introdutórias sobre a ferramenta BigML para Machine Learning. A aula faz parte do curso <strong><a href=\"https://iaexpert.academy/courses/machine-learning-sem-codigo-sem-matematica/\">&#8220;Machine Learning sem Código e sem Matemática&#8221;</a></strong>.</p>\\n\\n\\n\\n<p class=\"wp-embed-aspect-4-3 wp-has-aspect-ratio\">O curso está disponível para <a href=\"https://iaexpert.academy/assinatura\" rel=\"noreferrer noopener\" target=\"_blank\">assinantes</a> IA Expert Academy.</p>\\n\\n\\n\\n<figure class=\"wp-block-embed\"><div class=\"wp-block-embed__wrapper\">\\n<div class=\"ast-oembed-container\"></div>\\n</div></figure>'}],\n",
              "  'wfw_commentrss': 'https://iaexpert.academy/2022/09/22/introducao-a-ferramenta-bigml-para-machine-learning/feed/',\n",
              "  'slash_comments': '0'},\n",
              " {'title': 'Trabalho expõe que redes neurais robustas com arquitetura diferente funcionam de forma similar',\n",
              "  'title_detail': {'type': 'text/plain',\n",
              "   'language': None,\n",
              "   'base': 'https://iaexpert.academy/feed/',\n",
              "   'value': 'Trabalho expõe que redes neurais robustas com arquitetura diferente funcionam de forma similar'},\n",
              "  'links': [{'rel': 'alternate',\n",
              "    'type': 'text/html',\n",
              "    'href': 'https://iaexpert.academy/2022/09/21/trabalho-expoe-redes-neurais-robustas-arquitetura-diferente-funcionam-forma-similar/?utm_source=rss&utm_medium=rss&utm_campaign=trabalho-expoe-redes-neurais-robustas-arquitetura-diferente-funcionam-forma-similar'}],\n",
              "  'link': 'https://iaexpert.academy/2022/09/21/trabalho-expoe-redes-neurais-robustas-arquitetura-diferente-funcionam-forma-similar/?utm_source=rss&utm_medium=rss&utm_campaign=trabalho-expoe-redes-neurais-robustas-arquitetura-diferente-funcionam-forma-similar',\n",
              "  'comments': 'https://iaexpert.academy/2022/09/21/trabalho-expoe-redes-neurais-robustas-arquitetura-diferente-funcionam-forma-similar/#respond',\n",
              "  'authors': [{'name': 'Denny Ceccon'}],\n",
              "  'author': 'Denny Ceccon',\n",
              "  'author_detail': {'name': 'Denny Ceccon'},\n",
              "  'published': 'Wed, 21 Sep 2022 08:00:00 +0000',\n",
              "  'published_parsed': time.struct_time(tm_year=2022, tm_mon=9, tm_mday=21, tm_hour=8, tm_min=0, tm_sec=0, tm_wday=2, tm_yday=264, tm_isdst=0),\n",
              "  'tags': [{'term': 'Notícias', 'scheme': None, 'label': None},\n",
              "   {'term': 'explicabilidade', 'scheme': None, 'label': None},\n",
              "   {'term': 'inteligência artificial', 'scheme': None, 'label': None},\n",
              "   {'term': 'redes neurais', 'scheme': None, 'label': None}],\n",
              "  'id': 'https://iaexpert.academy/?p=36845',\n",
              "  'guidislink': False,\n",
              "  'summary': 'A pesquisa mostra que, se treinadas em um regime adversarial, aprendendo a identificar e ignorar dados aberrantes, redes diferentes tendem a produzir resultados similares, o que indica uma convergência para a solução ideal independente da arquitetura da rede.',\n",
              "  'summary_detail': {'type': 'text/html',\n",
              "   'language': None,\n",
              "   'base': 'https://iaexpert.academy/feed/',\n",
              "   'value': 'A pesquisa mostra que, se treinadas em um regime adversarial, aprendendo a identificar e ignorar dados aberrantes, redes diferentes tendem a produzir resultados similares, o que indica uma convergência para a solução ideal independente da arquitetura da rede.'},\n",
              "  'content': [{'type': 'text/html',\n",
              "    'language': None,\n",
              "    'base': 'https://iaexpert.academy/feed/',\n",
              "    'value': '<p>As redes neurais são a arquitetura mais aplicada atualmente em inteligência artificial, servindo como base para os sistemas mais avançados à disposição. Apesar de seu sucesso, uma preocupação que permanece é com a baixa explicabilidade dessas estruturas, sendo em muitos casos impossível entender o raciocínio que elas aplicam para produzir um resultado. Vários métodos têm sido propostos no intuito de comparar a similaridade entre as representações que diferentes redes neurais criam, com o intuito de entender melhor seu funcionamento. Entretanto, as métricas propostas até então costumam superestimar a similaridade devido à alta correlação entre os dados que elas tratam. Em outras palavras, as redes parecem similares mais por processarem dados similares do que por funcionarem de maneira similar.</p>\\n\\n\\n\\n<p>Pesquisadores do Laboratório Nacional Los Alamos, nos Estados Unidos, <a href=\"https://openreview.net/pdf?id=BGfLS_8j5eq\">acabam de publicar um trabalho</a> propondo uma nova abordagem para comparar redes. A ideia começou com o levantamento de que redes treinadas com dados de alta qualidade tendem a performar de forma estranha diante de qualquer aberração, como ficou emblemático há alguns anos no <a href=\"https://www.tecmundo.com.br/mercado/154560-bug-teslas-confundem-burger-king-placa-transito.htm\">caso de sinais de trânsito interpretados de forma errada</a>. Para garantir a robustez desses modelos, desenvolvedores têm aplicado um regime de treinamento adversarial, onde dados aberrantes são intencionalmente adicionados ao treinamento, forçando a rede a aprender a ignorá-los. Em vista disso, os pesquisadores de Los Alamos desenvolveram uma métrica para determinar a similaridade entre redes neurais, e observaram que sistemas robustos tendem a convergir para uma mesma solução, ou seja, tendem a apresentar alta similaridade. Isto indica que, no fundo, mesmo com arquiteturas distintas, redes capazes de distinguir sinais úteis de fatores de confusão estão fazendo a mesma coisa.</p>\\n\\n\\n\\n<p>Esta descoberta é muito interessante, já que desenvolvedores têm atualmente focado na busca da arquitetura correta para resolver determinado problema. O trabalho mostra, entretanto, que a arquitetura em si tem menor relevância do que se imaginava, o que pode diminuir o espaço de busca consideravelmente. A sugestão é que o regime de treinamento pode ter um impacto até então subestimado.</p>\\n\\n\\n\\n<p>Os cientistas acreditam que suas observações podem ter implicações ainda mais profundas, esclarecendo características de aprendizagem até mesmo em animais e humanos, já que o tráfego de informação no cérebro é muito similar ao que ocorre nos processadores de silício.</p>'}],\n",
              "  'wfw_commentrss': 'https://iaexpert.academy/2022/09/21/trabalho-expoe-redes-neurais-robustas-arquitetura-diferente-funcionam-forma-similar/feed/',\n",
              "  'slash_comments': '0'},\n",
              " {'title': 'Introdução à Ferramenta Obviouly AI para Machine Learning',\n",
              "  'title_detail': {'type': 'text/plain',\n",
              "   'language': None,\n",
              "   'base': 'https://iaexpert.academy/feed/',\n",
              "   'value': 'Introdução à Ferramenta Obviouly AI para Machine Learning'},\n",
              "  'links': [{'rel': 'alternate',\n",
              "    'type': 'text/html',\n",
              "    'href': 'https://iaexpert.academy/2022/09/20/introducao-a-ferramenta-obviouly-ai-para-machine-learning/?utm_source=rss&utm_medium=rss&utm_campaign=introducao-a-ferramenta-obviouly-ai-para-machine-learning'}],\n",
              "  'link': 'https://iaexpert.academy/2022/09/20/introducao-a-ferramenta-obviouly-ai-para-machine-learning/?utm_source=rss&utm_medium=rss&utm_campaign=introducao-a-ferramenta-obviouly-ai-para-machine-learning',\n",
              "  'comments': 'https://iaexpert.academy/2022/09/20/introducao-a-ferramenta-obviouly-ai-para-machine-learning/#respond',\n",
              "  'authors': [{'name': 'Jones Granatyr'}],\n",
              "  'author': 'Jones Granatyr',\n",
              "  'author_detail': {'name': 'Jones Granatyr'},\n",
              "  'published': 'Tue, 20 Sep 2022 10:00:00 +0000',\n",
              "  'published_parsed': time.struct_time(tm_year=2022, tm_mon=9, tm_mday=20, tm_hour=10, tm_min=0, tm_sec=0, tm_wday=1, tm_yday=263, tm_isdst=0),\n",
              "  'tags': [{'term': 'IA na prática', 'scheme': None, 'label': None},\n",
              "   {'term': 'machine learning', 'scheme': None, 'label': None}],\n",
              "  'id': 'https://iaexpert.academy/?p=36773',\n",
              "  'guidislink': False,\n",
              "  'summary': 'Veja nesta aula noções introdutórias sobre a ferramenta Obviouly AI para Machine Learning. A aula faz parte do curso &#8220;Machine Learning sem Código e sem Matemática&#8221;. O curso está disponível para assinantes IA Expert Academy.',\n",
              "  'summary_detail': {'type': 'text/html',\n",
              "   'language': None,\n",
              "   'base': 'https://iaexpert.academy/feed/',\n",
              "   'value': 'Veja nesta aula noções introdutórias sobre a ferramenta Obviouly AI para Machine Learning. A aula faz parte do curso &#8220;Machine Learning sem Código e sem Matemática&#8221;. O curso está disponível para assinantes IA Expert Academy.'},\n",
              "  'content': [{'type': 'text/html',\n",
              "    'language': None,\n",
              "    'base': 'https://iaexpert.academy/feed/',\n",
              "    'value': '<p class=\"wp-embed-aspect-4-3 wp-has-aspect-ratio\">Veja nesta aula noções introdutórias sobre a ferramenta Obviouly AI para Machine Learning. A aula faz parte do curso <strong><a href=\"https://iaexpert.academy/courses/machine-learning-sem-codigo-sem-matematica/\">&#8220;Machine Learning sem Código e sem Matemática&#8221;</a></strong>.</p>\\n\\n\\n\\n<p class=\"wp-embed-aspect-4-3 wp-has-aspect-ratio\">O curso está disponível para <a href=\"https://iaexpert.academy/assinatura\" rel=\"noreferrer noopener\" target=\"_blank\">assinantes</a> IA Expert Academy.</p>\\n\\n\\n\\n<figure class=\"wp-block-embed\"><div class=\"wp-block-embed__wrapper\">\\n<div class=\"ast-oembed-container\"></div>\\n</div></figure>'}],\n",
              "  'wfw_commentrss': 'https://iaexpert.academy/2022/09/20/introducao-a-ferramenta-obviouly-ai-para-machine-learning/feed/',\n",
              "  'slash_comments': '0'},\n",
              " {'title': 'Introdução ao Google Vertex AI',\n",
              "  'title_detail': {'type': 'text/plain',\n",
              "   'language': None,\n",
              "   'base': 'https://iaexpert.academy/feed/',\n",
              "   'value': 'Introdução ao Google Vertex AI'},\n",
              "  'links': [{'rel': 'alternate',\n",
              "    'type': 'text/html',\n",
              "    'href': 'https://iaexpert.academy/2022/09/15/introducao-ao-google-vertex-ai/?utm_source=rss&utm_medium=rss&utm_campaign=introducao-ao-google-vertex-ai'}],\n",
              "  'link': 'https://iaexpert.academy/2022/09/15/introducao-ao-google-vertex-ai/?utm_source=rss&utm_medium=rss&utm_campaign=introducao-ao-google-vertex-ai',\n",
              "  'comments': 'https://iaexpert.academy/2022/09/15/introducao-ao-google-vertex-ai/#respond',\n",
              "  'authors': [{'name': 'Jones Granatyr'}],\n",
              "  'author': 'Jones Granatyr',\n",
              "  'author_detail': {'name': 'Jones Granatyr'},\n",
              "  'published': 'Thu, 15 Sep 2022 10:00:00 +0000',\n",
              "  'published_parsed': time.struct_time(tm_year=2022, tm_mon=9, tm_mday=15, tm_hour=10, tm_min=0, tm_sec=0, tm_wday=3, tm_yday=258, tm_isdst=0),\n",
              "  'tags': [{'term': 'IA na prática', 'scheme': None, 'label': None},\n",
              "   {'term': 'GoogleVertexAI', 'scheme': None, 'label': None},\n",
              "   {'term': 'machine learning', 'scheme': None, 'label': None}],\n",
              "  'id': 'https://iaexpert.academy/?p=36729',\n",
              "  'guidislink': False,\n",
              "  'summary': 'Veja nesta aula noções introdutórias sobre o Google Vertex AI. A aula faz parte do curso &#8220;Machine Learning sem Código e sem Matemática&#8221;. O curso está disponível para assinantes IA Expert Academy.',\n",
              "  'summary_detail': {'type': 'text/html',\n",
              "   'language': None,\n",
              "   'base': 'https://iaexpert.academy/feed/',\n",
              "   'value': 'Veja nesta aula noções introdutórias sobre o Google Vertex AI. A aula faz parte do curso &#8220;Machine Learning sem Código e sem Matemática&#8221;. O curso está disponível para assinantes IA Expert Academy.'},\n",
              "  'content': [{'type': 'text/html',\n",
              "    'language': None,\n",
              "    'base': 'https://iaexpert.academy/feed/',\n",
              "    'value': '<p class=\"wp-embed-aspect-4-3 wp-has-aspect-ratio\">Veja nesta aula noções introdutórias sobre o Google Vertex AI. A aula faz parte do curso <strong><a href=\"https://iaexpert.academy/courses/machine-learning-sem-codigo-sem-matematica/\">&#8220;Machine Learning sem Código e sem Matemática&#8221;</a></strong>.</p>\\n\\n\\n\\n<p class=\"wp-embed-aspect-4-3 wp-has-aspect-ratio\">O curso está disponível para <a href=\"https://iaexpert.academy/assinatura\" rel=\"noreferrer noopener\" target=\"_blank\">assinantes</a> IA Expert Academy.</p>\\n\\n\\n\\n<figure class=\"wp-block-embed\"><div class=\"wp-block-embed__wrapper\">\\n<div class=\"ast-oembed-container\"></div>\\n</div></figure>'}],\n",
              "  'wfw_commentrss': 'https://iaexpert.academy/2022/09/15/introducao-ao-google-vertex-ai/feed/',\n",
              "  'slash_comments': '0'},\n",
              " {'title': 'IA identifica vocalizações que roedores usam para se comunicar',\n",
              "  'title_detail': {'type': 'text/plain',\n",
              "   'language': None,\n",
              "   'base': 'https://iaexpert.academy/feed/',\n",
              "   'value': 'IA identifica vocalizações que roedores usam para se comunicar'},\n",
              "  'links': [{'rel': 'alternate',\n",
              "    'type': 'text/html',\n",
              "    'href': 'https://iaexpert.academy/2022/09/14/ia-identifica-vocalizacoes-roedores-usam-para-comunicar/?utm_source=rss&utm_medium=rss&utm_campaign=ia-identifica-vocalizacoes-roedores-usam-para-comunicar'}],\n",
              "  'link': 'https://iaexpert.academy/2022/09/14/ia-identifica-vocalizacoes-roedores-usam-para-comunicar/?utm_source=rss&utm_medium=rss&utm_campaign=ia-identifica-vocalizacoes-roedores-usam-para-comunicar',\n",
              "  'comments': 'https://iaexpert.academy/2022/09/14/ia-identifica-vocalizacoes-roedores-usam-para-comunicar/#respond',\n",
              "  'authors': [{'name': 'Denny Ceccon'}],\n",
              "  'author': 'Denny Ceccon',\n",
              "  'author_detail': {'name': 'Denny Ceccon'},\n",
              "  'published': 'Wed, 14 Sep 2022 08:00:00 +0000',\n",
              "  'published_parsed': time.struct_time(tm_year=2022, tm_mon=9, tm_mday=14, tm_hour=8, tm_min=0, tm_sec=0, tm_wday=2, tm_yday=257, tm_isdst=0),\n",
              "  'tags': [{'term': 'Notícias', 'scheme': None, 'label': None},\n",
              "   {'term': 'estudo animal', 'scheme': None, 'label': None},\n",
              "   {'term': 'identificação de sons', 'scheme': None, 'label': None},\n",
              "   {'term': 'inteligência artificial', 'scheme': None, 'label': None}],\n",
              "  'id': 'https://iaexpert.academy/?p=36713',\n",
              "  'guidislink': False,\n",
              "  'summary': 'O sistema usa horas de gravações de ondas sonoras para identificar sons característicos, abrindo a possibilidade para uma melhor compreensão dessas vocalizações na comunicação animal.',\n",
              "  'summary_detail': {'type': 'text/html',\n",
              "   'language': None,\n",
              "   'base': 'https://iaexpert.academy/feed/',\n",
              "   'value': 'O sistema usa horas de gravações de ondas sonoras para identificar sons característicos, abrindo a possibilidade para uma melhor compreensão dessas vocalizações na comunicação animal.'},\n",
              "  'content': [{'type': 'text/html',\n",
              "    'language': None,\n",
              "    'base': 'https://iaexpert.academy/feed/',\n",
              "    'value': '<p>Apesar de não ter a mesma complexidade da fala humana, os animais costumam usar vocalizações para se comunicar entre si. Muitos dos sons que eles emitem são inclusive fora da faixa de audição humana. Com o equipamento correto, é possível identificar esses sons, mas em um trabalho de pesquisa, seja em laboratório, seja no ambiente selvagem, anotar sons característicos que ocorrem ao longo do tempo tradicionalmente exige um especialista ouvindo horas de gravações.</p>\\n\\n\\n\\n<p>Uma equipe da Universidade de Washington desenvolveu uma inteligência artificial capaz de realizar este processo de forma automática. Chamado de DeepSqueak, o sistema foi <a href=\"https://www.nature.com/articles/s41386-018-0303-6\">publicado há 3 anos</a> mas recebeu sua <a href=\"https://github.com/DrCoffey/DeepSqueak\">terceira versão</a> mês passado. Ele conta com uma arquitetura de rede neural chamada de convolução regional, que processa sequências contíguas de sinal sonoro na busca de padrões conhecidos pelo sistema. O foco do trabalho tem sido com roedores.</p>\\n\\n\\n\\n<p>No trabalho original, os autores compararam o DeepSqueak com outros métodos automáticos e com a análise manual, encontrando redução na taxa de falsos positivos, aumento no recall de detecção, redução dramática no tempo de análise, além da possibilidade de otimizar a classificação automática de sílabas e realizar análise sintática automática em vocabulários extensos. Entretanto, eles são cautelosos afirmando que o método funciona melhor para algumas vocalizações que outras, o que mantém os especialistas como peça fundamental de pesquisas mais complexas.</p>\\n\\n\\n\\n<p>O sistema pode ser facilmente adicionado a um procedimento atual de pesquisa, tendo o potencial de revelar novos insights sobre o comportamento dos animais. Os pesquisadores agora almejam fundir seu método com outras tecnologias de inteligência artificial que analisam vídeos, já que boa parte da comunicação animal vem da expressão corporal, o que pode se mostrar revolucionário na compreensão de sua vida social.</p>\\n\\n\\n\\n<p>A análise de vocalizações tem ganhado tração graças ao amadurecimento da inteligência artificial. Pesquisadores do <a href=\"https://www.whoi.edu/profile/amooney/\">Instituto Oceanográfico Woods Hole</a>, em Massachusetts nos Estados Unidos, estão tentando aplicar o mesmo conceito para estudar corais. Como o som se propaga muito bem na água, um único sensor seria capaz de cobrir toda uma região de coral, por exemplo, permitindo identificar quais espécies estão presentes, incluindo espécies novas.</p>'}],\n",
              "  'wfw_commentrss': 'https://iaexpert.academy/2022/09/14/ia-identifica-vocalizacoes-roedores-usam-para-comunicar/feed/',\n",
              "  'slash_comments': '0'},\n",
              " {'title': 'Curso – Machine Learning sem Código e sem Matemática',\n",
              "  'title_detail': {'type': 'text/plain',\n",
              "   'language': None,\n",
              "   'base': 'https://iaexpert.academy/feed/',\n",
              "   'value': 'Curso – Machine Learning sem Código e sem Matemática'},\n",
              "  'links': [{'rel': 'alternate',\n",
              "    'type': 'text/html',\n",
              "    'href': 'https://iaexpert.academy/2022/09/13/curso-machine-learning-sem-codigo-e-sem-matematica/?utm_source=rss&utm_medium=rss&utm_campaign=curso-machine-learning-sem-codigo-e-sem-matematica'}],\n",
              "  'link': 'https://iaexpert.academy/2022/09/13/curso-machine-learning-sem-codigo-e-sem-matematica/?utm_source=rss&utm_medium=rss&utm_campaign=curso-machine-learning-sem-codigo-e-sem-matematica',\n",
              "  'comments': 'https://iaexpert.academy/2022/09/13/curso-machine-learning-sem-codigo-e-sem-matematica/#respond',\n",
              "  'authors': [{'name': 'Jones Granatyr'}],\n",
              "  'author': 'Jones Granatyr',\n",
              "  'author_detail': {'name': 'Jones Granatyr'},\n",
              "  'published': 'Tue, 13 Sep 2022 10:00:00 +0000',\n",
              "  'published_parsed': time.struct_time(tm_year=2022, tm_mon=9, tm_mday=13, tm_hour=10, tm_min=0, tm_sec=0, tm_wday=1, tm_yday=256, tm_isdst=0),\n",
              "  'tags': [{'term': 'IA na prática', 'scheme': None, 'label': None},\n",
              "   {'term': 'machine learning', 'scheme': None, 'label': None}],\n",
              "  'id': 'https://iaexpert.academy/?p=36727',\n",
              "  'guidislink': False,\n",
              "  'summary': 'Veja nesta aula o conteúdo do curso &#8220;Machine Learning sem Código e sem Matemática&#8220;. O curso está disponível para assinantes IA Expert Academy.',\n",
              "  'summary_detail': {'type': 'text/html',\n",
              "   'language': None,\n",
              "   'base': 'https://iaexpert.academy/feed/',\n",
              "   'value': 'Veja nesta aula o conteúdo do curso &#8220;Machine Learning sem Código e sem Matemática&#8220;. O curso está disponível para assinantes IA Expert Academy.'},\n",
              "  'content': [{'type': 'text/html',\n",
              "    'language': None,\n",
              "    'base': 'https://iaexpert.academy/feed/',\n",
              "    'value': '<p class=\"wp-embed-aspect-4-3 wp-has-aspect-ratio\">Veja nesta aula o conteúdo do curso &#8220;<a href=\"https://iaexpert.academy/courses/machine-learning-sem-codigo-sem-matematica/\"><strong>Machine Learning sem Código e sem Matemática</strong></a>&#8220;. </p>\\n\\n\\n\\n<p class=\"wp-embed-aspect-4-3 wp-has-aspect-ratio\">O curso está disponível para <a href=\"https://iaexpert.academy/assinatura\" rel=\"noreferrer noopener\" target=\"_blank\">assinantes</a> IA Expert Academy.</p>\\n\\n\\n\\n<figure class=\"wp-block-embed\"><div class=\"wp-block-embed__wrapper\">\\n<div class=\"ast-oembed-container\"></div>\\n</div></figure>'}],\n",
              "  'wfw_commentrss': 'https://iaexpert.academy/2022/09/13/curso-machine-learning-sem-codigo-e-sem-matematica/feed/',\n",
              "  'slash_comments': '0'}]"
            ]
          },
          "metadata": {},
          "execution_count": 72
        }
      ]
    },
    {
      "cell_type": "code",
      "source": [
        "for elemento in feed.entries:\n",
        "  print(elemento.title)\n",
        "  print(elemento.links[0]['href'])\n",
        "  print(elemento.content[0].value)"
      ],
      "metadata": {
        "colab": {
          "base_uri": "https://localhost:8080/"
        },
        "id": "asaemKVcxlHP",
        "outputId": "5a20b276-76be-49ba-f525-8988fe5d6f54"
      },
      "execution_count": 76,
      "outputs": [
        {
          "output_type": "stream",
          "name": "stdout",
          "text": [
            "Como usar a plataforma IA Expert\n",
            "https://iaexpert.academy/2022/10/04/como-usar-a-plataforma-ia-expert/?utm_source=rss&utm_medium=rss&utm_campaign=como-usar-a-plataforma-ia-expert\n",
            "<p class=\"wp-embed-aspect-4-3 wp-has-aspect-ratio\">Nesse vídeo, você confere como funciona o acesso a plataforma IA Expert. Aprenda a fazer pesquisa e inscrição nos cursos, alteração de senha, download do certificado de conclusão e muito mais!</p>\n",
            "\n",
            "\n",
            "\n",
            "<p class=\"wp-embed-aspect-4-3 wp-has-aspect-ratio\">Torne-se <a href=\"https://iaexpert.academy/assinatura\" rel=\"noreferrer noopener\" target=\"_blank\">assinante</a> IA Expert Academy.</p>\n",
            "\n",
            "\n",
            "\n",
            "<figure class=\"wp-block-embed\"><div class=\"wp-block-embed__wrapper\">\n",
            "<div class=\"ast-oembed-container\"></div>\n",
            "</div></figure>\n",
            "Introdução ao Data Robot para Machine Learning\n",
            "https://iaexpert.academy/2022/09/29/introducao-ao-data-robot-para-machine-learning/?utm_source=rss&utm_medium=rss&utm_campaign=introducao-ao-data-robot-para-machine-learning\n",
            "<p class=\"wp-embed-aspect-4-3 wp-has-aspect-ratio\">Veja nesta aula noções introdutórias sobre o Data Robot para Machine Learning. A aula faz parte do curso <strong><a href=\"https://iaexpert.academy/courses/machine-learning-sem-codigo-sem-matematica/\">&#8220;Machine Learning sem Código e sem Matemática&#8221;</a></strong>.</p>\n",
            "\n",
            "\n",
            "\n",
            "<p class=\"wp-embed-aspect-4-3 wp-has-aspect-ratio\">O curso está disponível para <a href=\"https://iaexpert.academy/assinatura\" rel=\"noreferrer noopener\" target=\"_blank\">assinantes</a> IA Expert Academy.</p>\n",
            "\n",
            "\n",
            "\n",
            "<figure class=\"wp-block-embed\"><div class=\"wp-block-embed__wrapper\">\n",
            "<div class=\"ast-oembed-container\"></div>\n",
            "</div></figure>\n",
            "OpenAI apresenta Whisper, sistema de transcrição de áudio com desempenho humano\n",
            "https://iaexpert.academy/2022/09/28/openai-apresenta-whisper-sistema-transcricao-audio-desempenho-humano/?utm_source=rss&utm_medium=rss&utm_campaign=openai-apresenta-whisper-sistema-transcricao-audio-desempenho-humano\n",
            "<p>Apesar de todo o progresso recente na área de processamento de linguagem natural, as tarefas mais beneficiadas foram aquelas associadas a sistemas de conversação, onde o usuário poderia interagir com a inteligência artificial no formato de texto. A transcrição de áudio para texto teve desenvolvimento mais lento, e apesar de várias ferramentas já produzirem legendas automaticamente, a qualidade ainda não estava a par dos sistemas conversacionais.</p>\n",
            "\n",
            "\n",
            "\n",
            "<p>Na última semana, a OpenAI mudou este paradigma ao disponibilizar em formato aberto o código para o Whisper, uma rede neural treinada na tarefa de transcrição de áudio. A arquitetura do modelo segue a abordagem to tipo end-to-end, onde um encoder aprende a codificar o áudio e um decoder aprende a converter o sinal para texto. Durante o processamento, o áudio de entrada é fragmentado em sequências de 30 segundos e passado para o encoder no formato de um espectrograma, que é uma forma tradicional para representar dados sonoros. O decoder recebe tokens especiais que direcionam o modelo para realizar uma tarefa específica, como a identificação do idioma, a geração de marcas de tempo, a transcrição do discurso em um idioma desejado, ou a tradução do áudio para a versão em inglês da transcrição.</p>\n",
            "\n",
            "\n",
            "\n",
            "<p>O sistema treinou com cerca de 680 mil horas de áudio coletados da internet, compreendendo vários idiomas e tarefas diferentes. Os autores acreditam que o tamanho e a diversidade dos dados foram responsáveis pela alta robustez do Whisper com relação a sotaques, sons de fundo e linguagem técnica. O resultado foi um modelo que produz transcrições tão boas quanto aquelas produzidas por um humano. Alguns exemplos podem ser vistos na <a href=\"https://openai.com/blog/whisper/?utm_source=datahackers\">página de apresentação do sistema</a>.</p>\n",
            "\n",
            "\n",
            "\n",
            "<p>A empresa está disponibilizando o <a href=\"https://cdn.openai.com/papers/whisper.pdf\">trabalho</a> e o <a href=\"https://github.com/openai/whisper\">código</a> do Whisper na expectativa de popularizar ainda mais as interfaces de voz de aplicações inovadoras.</p>\n",
            "Introdução ao Microsoft Azure para Machine Learning\n",
            "https://iaexpert.academy/2022/09/27/introducao-ao-microsoft-azure-para-machine-learning/?utm_source=rss&utm_medium=rss&utm_campaign=introducao-ao-microsoft-azure-para-machine-learning\n",
            "<p class=\"wp-embed-aspect-4-3 wp-has-aspect-ratio\">Veja nesta aula noções introdutórias sobre o Microsoft Azure para Machine Learning. A aula faz parte do curso <strong><a href=\"https://iaexpert.academy/courses/machine-learning-sem-codigo-sem-matematica/\">&#8220;Machine Learning sem Código e sem Matemática&#8221;</a></strong>.</p>\n",
            "\n",
            "\n",
            "\n",
            "<p class=\"wp-embed-aspect-4-3 wp-has-aspect-ratio\">O curso está disponível para <a href=\"https://iaexpert.academy/assinatura\" rel=\"noreferrer noopener\" target=\"_blank\">assinantes</a> IA Expert Academy.</p>\n",
            "\n",
            "\n",
            "\n",
            "<figure class=\"wp-block-embed\"><div class=\"wp-block-embed__wrapper\">\n",
            "<div class=\"ast-oembed-container\"></div>\n",
            "</div></figure>\n",
            "Introdução à Ferramenta BigML para Machine Learning\n",
            "https://iaexpert.academy/2022/09/22/introducao-a-ferramenta-bigml-para-machine-learning/?utm_source=rss&utm_medium=rss&utm_campaign=introducao-a-ferramenta-bigml-para-machine-learning\n",
            "<p class=\"wp-embed-aspect-4-3 wp-has-aspect-ratio\">Veja nesta aula noções introdutórias sobre a ferramenta BigML para Machine Learning. A aula faz parte do curso <strong><a href=\"https://iaexpert.academy/courses/machine-learning-sem-codigo-sem-matematica/\">&#8220;Machine Learning sem Código e sem Matemática&#8221;</a></strong>.</p>\n",
            "\n",
            "\n",
            "\n",
            "<p class=\"wp-embed-aspect-4-3 wp-has-aspect-ratio\">O curso está disponível para <a href=\"https://iaexpert.academy/assinatura\" rel=\"noreferrer noopener\" target=\"_blank\">assinantes</a> IA Expert Academy.</p>\n",
            "\n",
            "\n",
            "\n",
            "<figure class=\"wp-block-embed\"><div class=\"wp-block-embed__wrapper\">\n",
            "<div class=\"ast-oembed-container\"></div>\n",
            "</div></figure>\n",
            "Trabalho expõe que redes neurais robustas com arquitetura diferente funcionam de forma similar\n",
            "https://iaexpert.academy/2022/09/21/trabalho-expoe-redes-neurais-robustas-arquitetura-diferente-funcionam-forma-similar/?utm_source=rss&utm_medium=rss&utm_campaign=trabalho-expoe-redes-neurais-robustas-arquitetura-diferente-funcionam-forma-similar\n",
            "<p>As redes neurais são a arquitetura mais aplicada atualmente em inteligência artificial, servindo como base para os sistemas mais avançados à disposição. Apesar de seu sucesso, uma preocupação que permanece é com a baixa explicabilidade dessas estruturas, sendo em muitos casos impossível entender o raciocínio que elas aplicam para produzir um resultado. Vários métodos têm sido propostos no intuito de comparar a similaridade entre as representações que diferentes redes neurais criam, com o intuito de entender melhor seu funcionamento. Entretanto, as métricas propostas até então costumam superestimar a similaridade devido à alta correlação entre os dados que elas tratam. Em outras palavras, as redes parecem similares mais por processarem dados similares do que por funcionarem de maneira similar.</p>\n",
            "\n",
            "\n",
            "\n",
            "<p>Pesquisadores do Laboratório Nacional Los Alamos, nos Estados Unidos, <a href=\"https://openreview.net/pdf?id=BGfLS_8j5eq\">acabam de publicar um trabalho</a> propondo uma nova abordagem para comparar redes. A ideia começou com o levantamento de que redes treinadas com dados de alta qualidade tendem a performar de forma estranha diante de qualquer aberração, como ficou emblemático há alguns anos no <a href=\"https://www.tecmundo.com.br/mercado/154560-bug-teslas-confundem-burger-king-placa-transito.htm\">caso de sinais de trânsito interpretados de forma errada</a>. Para garantir a robustez desses modelos, desenvolvedores têm aplicado um regime de treinamento adversarial, onde dados aberrantes são intencionalmente adicionados ao treinamento, forçando a rede a aprender a ignorá-los. Em vista disso, os pesquisadores de Los Alamos desenvolveram uma métrica para determinar a similaridade entre redes neurais, e observaram que sistemas robustos tendem a convergir para uma mesma solução, ou seja, tendem a apresentar alta similaridade. Isto indica que, no fundo, mesmo com arquiteturas distintas, redes capazes de distinguir sinais úteis de fatores de confusão estão fazendo a mesma coisa.</p>\n",
            "\n",
            "\n",
            "\n",
            "<p>Esta descoberta é muito interessante, já que desenvolvedores têm atualmente focado na busca da arquitetura correta para resolver determinado problema. O trabalho mostra, entretanto, que a arquitetura em si tem menor relevância do que se imaginava, o que pode diminuir o espaço de busca consideravelmente. A sugestão é que o regime de treinamento pode ter um impacto até então subestimado.</p>\n",
            "\n",
            "\n",
            "\n",
            "<p>Os cientistas acreditam que suas observações podem ter implicações ainda mais profundas, esclarecendo características de aprendizagem até mesmo em animais e humanos, já que o tráfego de informação no cérebro é muito similar ao que ocorre nos processadores de silício.</p>\n",
            "Introdução à Ferramenta Obviouly AI para Machine Learning\n",
            "https://iaexpert.academy/2022/09/20/introducao-a-ferramenta-obviouly-ai-para-machine-learning/?utm_source=rss&utm_medium=rss&utm_campaign=introducao-a-ferramenta-obviouly-ai-para-machine-learning\n",
            "<p class=\"wp-embed-aspect-4-3 wp-has-aspect-ratio\">Veja nesta aula noções introdutórias sobre a ferramenta Obviouly AI para Machine Learning. A aula faz parte do curso <strong><a href=\"https://iaexpert.academy/courses/machine-learning-sem-codigo-sem-matematica/\">&#8220;Machine Learning sem Código e sem Matemática&#8221;</a></strong>.</p>\n",
            "\n",
            "\n",
            "\n",
            "<p class=\"wp-embed-aspect-4-3 wp-has-aspect-ratio\">O curso está disponível para <a href=\"https://iaexpert.academy/assinatura\" rel=\"noreferrer noopener\" target=\"_blank\">assinantes</a> IA Expert Academy.</p>\n",
            "\n",
            "\n",
            "\n",
            "<figure class=\"wp-block-embed\"><div class=\"wp-block-embed__wrapper\">\n",
            "<div class=\"ast-oembed-container\"></div>\n",
            "</div></figure>\n",
            "Introdução ao Google Vertex AI\n",
            "https://iaexpert.academy/2022/09/15/introducao-ao-google-vertex-ai/?utm_source=rss&utm_medium=rss&utm_campaign=introducao-ao-google-vertex-ai\n",
            "<p class=\"wp-embed-aspect-4-3 wp-has-aspect-ratio\">Veja nesta aula noções introdutórias sobre o Google Vertex AI. A aula faz parte do curso <strong><a href=\"https://iaexpert.academy/courses/machine-learning-sem-codigo-sem-matematica/\">&#8220;Machine Learning sem Código e sem Matemática&#8221;</a></strong>.</p>\n",
            "\n",
            "\n",
            "\n",
            "<p class=\"wp-embed-aspect-4-3 wp-has-aspect-ratio\">O curso está disponível para <a href=\"https://iaexpert.academy/assinatura\" rel=\"noreferrer noopener\" target=\"_blank\">assinantes</a> IA Expert Academy.</p>\n",
            "\n",
            "\n",
            "\n",
            "<figure class=\"wp-block-embed\"><div class=\"wp-block-embed__wrapper\">\n",
            "<div class=\"ast-oembed-container\"></div>\n",
            "</div></figure>\n",
            "IA identifica vocalizações que roedores usam para se comunicar\n",
            "https://iaexpert.academy/2022/09/14/ia-identifica-vocalizacoes-roedores-usam-para-comunicar/?utm_source=rss&utm_medium=rss&utm_campaign=ia-identifica-vocalizacoes-roedores-usam-para-comunicar\n",
            "<p>Apesar de não ter a mesma complexidade da fala humana, os animais costumam usar vocalizações para se comunicar entre si. Muitos dos sons que eles emitem são inclusive fora da faixa de audição humana. Com o equipamento correto, é possível identificar esses sons, mas em um trabalho de pesquisa, seja em laboratório, seja no ambiente selvagem, anotar sons característicos que ocorrem ao longo do tempo tradicionalmente exige um especialista ouvindo horas de gravações.</p>\n",
            "\n",
            "\n",
            "\n",
            "<p>Uma equipe da Universidade de Washington desenvolveu uma inteligência artificial capaz de realizar este processo de forma automática. Chamado de DeepSqueak, o sistema foi <a href=\"https://www.nature.com/articles/s41386-018-0303-6\">publicado há 3 anos</a> mas recebeu sua <a href=\"https://github.com/DrCoffey/DeepSqueak\">terceira versão</a> mês passado. Ele conta com uma arquitetura de rede neural chamada de convolução regional, que processa sequências contíguas de sinal sonoro na busca de padrões conhecidos pelo sistema. O foco do trabalho tem sido com roedores.</p>\n",
            "\n",
            "\n",
            "\n",
            "<p>No trabalho original, os autores compararam o DeepSqueak com outros métodos automáticos e com a análise manual, encontrando redução na taxa de falsos positivos, aumento no recall de detecção, redução dramática no tempo de análise, além da possibilidade de otimizar a classificação automática de sílabas e realizar análise sintática automática em vocabulários extensos. Entretanto, eles são cautelosos afirmando que o método funciona melhor para algumas vocalizações que outras, o que mantém os especialistas como peça fundamental de pesquisas mais complexas.</p>\n",
            "\n",
            "\n",
            "\n",
            "<p>O sistema pode ser facilmente adicionado a um procedimento atual de pesquisa, tendo o potencial de revelar novos insights sobre o comportamento dos animais. Os pesquisadores agora almejam fundir seu método com outras tecnologias de inteligência artificial que analisam vídeos, já que boa parte da comunicação animal vem da expressão corporal, o que pode se mostrar revolucionário na compreensão de sua vida social.</p>\n",
            "\n",
            "\n",
            "\n",
            "<p>A análise de vocalizações tem ganhado tração graças ao amadurecimento da inteligência artificial. Pesquisadores do <a href=\"https://www.whoi.edu/profile/amooney/\">Instituto Oceanográfico Woods Hole</a>, em Massachusetts nos Estados Unidos, estão tentando aplicar o mesmo conceito para estudar corais. Como o som se propaga muito bem na água, um único sensor seria capaz de cobrir toda uma região de coral, por exemplo, permitindo identificar quais espécies estão presentes, incluindo espécies novas.</p>\n",
            "Curso – Machine Learning sem Código e sem Matemática\n",
            "https://iaexpert.academy/2022/09/13/curso-machine-learning-sem-codigo-e-sem-matematica/?utm_source=rss&utm_medium=rss&utm_campaign=curso-machine-learning-sem-codigo-e-sem-matematica\n",
            "<p class=\"wp-embed-aspect-4-3 wp-has-aspect-ratio\">Veja nesta aula o conteúdo do curso &#8220;<a href=\"https://iaexpert.academy/courses/machine-learning-sem-codigo-sem-matematica/\"><strong>Machine Learning sem Código e sem Matemática</strong></a>&#8220;. </p>\n",
            "\n",
            "\n",
            "\n",
            "<p class=\"wp-embed-aspect-4-3 wp-has-aspect-ratio\">O curso está disponível para <a href=\"https://iaexpert.academy/assinatura\" rel=\"noreferrer noopener\" target=\"_blank\">assinantes</a> IA Expert Academy.</p>\n",
            "\n",
            "\n",
            "\n",
            "<figure class=\"wp-block-embed\"><div class=\"wp-block-embed__wrapper\">\n",
            "<div class=\"ast-oembed-container\"></div>\n",
            "</div></figure>\n"
          ]
        }
      ]
    },
    {
      "cell_type": "code",
      "source": [
        "def limpa_html(texto):\n",
        "  if texto == '':\n",
        "    return ''\n",
        "  return BeautifulSoup(texto, 'html5lib').get_text()"
      ],
      "metadata": {
        "id": "YRa9I4KXyX-u"
      },
      "execution_count": 77,
      "outputs": []
    },
    {
      "cell_type": "code",
      "source": [
        "limpa_html(elemento.content[0].value)"
      ],
      "metadata": {
        "colab": {
          "base_uri": "https://localhost:8080/",
          "height": 36
        },
        "id": "Ko9t1zMfyrru",
        "outputId": "5ee96409-79d7-4e29-bf59-891913985be5"
      },
      "execution_count": 78,
      "outputs": [
        {
          "output_type": "execute_result",
          "data": {
            "text/plain": [
              "'Veja nesta aula o conteúdo do curso “Machine Learning sem Código e sem Matemática“. \\n\\n\\n\\nO curso está disponível para assinantes IA Expert Academy.\\n\\n\\n\\n\\n\\n'"
            ],
            "application/vnd.google.colaboratory.intrinsic+json": {
              "type": "string"
            }
          },
          "metadata": {},
          "execution_count": 78
        }
      ]
    },
    {
      "cell_type": "code",
      "source": [
        "artigos = []\n",
        "for artigo in feed.entries:\n",
        "  artigos.append({'titulo': artigo.title, 'conteudo': limpa_html(artigo.content[0].value)})"
      ],
      "metadata": {
        "id": "FKYcQGMwy7Fm"
      },
      "execution_count": 79,
      "outputs": []
    },
    {
      "cell_type": "code",
      "source": [
        "artigos"
      ],
      "metadata": {
        "colab": {
          "base_uri": "https://localhost:8080/"
        },
        "id": "garLh0P0zYSG",
        "outputId": "b468666e-986e-4dfd-8d66-c827f53d72a7"
      },
      "execution_count": 80,
      "outputs": [
        {
          "output_type": "execute_result",
          "data": {
            "text/plain": [
              "[{'titulo': 'Como usar a plataforma IA Expert',\n",
              "  'conteudo': 'Nesse vídeo, você confere como funciona o acesso a plataforma IA Expert. Aprenda a fazer pesquisa e inscrição nos cursos, alteração de senha, download do certificado de conclusão e muito mais!\\n\\n\\n\\nTorne-se assinante IA Expert Academy.\\n\\n\\n\\n\\n\\n'},\n",
              " {'titulo': 'Introdução ao Data Robot para Machine Learning',\n",
              "  'conteudo': 'Veja nesta aula noções introdutórias sobre o Data Robot para Machine Learning. A aula faz parte do curso “Machine Learning sem Código e sem Matemática”.\\n\\n\\n\\nO curso está disponível para assinantes IA Expert Academy.\\n\\n\\n\\n\\n\\n'},\n",
              " {'titulo': 'OpenAI apresenta Whisper, sistema de transcrição de áudio com desempenho humano',\n",
              "  'conteudo': 'Apesar de todo o progresso recente na área de processamento de linguagem natural, as tarefas mais beneficiadas foram aquelas associadas a sistemas de conversação, onde o usuário poderia interagir com a inteligência artificial no formato de texto. A transcrição de áudio para texto teve desenvolvimento mais lento, e apesar de várias ferramentas já produzirem legendas automaticamente, a qualidade ainda não estava a par dos sistemas conversacionais.\\n\\n\\n\\nNa última semana, a OpenAI mudou este paradigma ao disponibilizar em formato aberto o código para o Whisper, uma rede neural treinada na tarefa de transcrição de áudio. A arquitetura do modelo segue a abordagem to tipo end-to-end, onde um encoder aprende a codificar o áudio e um decoder aprende a converter o sinal para texto. Durante o processamento, o áudio de entrada é fragmentado em sequências de 30 segundos e passado para o encoder no formato de um espectrograma, que é uma forma tradicional para representar dados sonoros. O decoder recebe tokens especiais que direcionam o modelo para realizar uma tarefa específica, como a identificação do idioma, a geração de marcas de tempo, a transcrição do discurso em um idioma desejado, ou a tradução do áudio para a versão em inglês da transcrição.\\n\\n\\n\\nO sistema treinou com cerca de 680 mil horas de áudio coletados da internet, compreendendo vários idiomas e tarefas diferentes. Os autores acreditam que o tamanho e a diversidade dos dados foram responsáveis pela alta robustez do Whisper com relação a sotaques, sons de fundo e linguagem técnica. O resultado foi um modelo que produz transcrições tão boas quanto aquelas produzidas por um humano. Alguns exemplos podem ser vistos na página de apresentação do sistema.\\n\\n\\n\\nA empresa está disponibilizando o trabalho e o código do Whisper na expectativa de popularizar ainda mais as interfaces de voz de aplicações inovadoras.'},\n",
              " {'titulo': 'Introdução ao Microsoft Azure para Machine Learning',\n",
              "  'conteudo': 'Veja nesta aula noções introdutórias sobre o Microsoft Azure para Machine Learning. A aula faz parte do curso “Machine Learning sem Código e sem Matemática”.\\n\\n\\n\\nO curso está disponível para assinantes IA Expert Academy.\\n\\n\\n\\n\\n\\n'},\n",
              " {'titulo': 'Introdução à Ferramenta BigML para Machine Learning',\n",
              "  'conteudo': 'Veja nesta aula noções introdutórias sobre a ferramenta BigML para Machine Learning. A aula faz parte do curso “Machine Learning sem Código e sem Matemática”.\\n\\n\\n\\nO curso está disponível para assinantes IA Expert Academy.\\n\\n\\n\\n\\n\\n'},\n",
              " {'titulo': 'Trabalho expõe que redes neurais robustas com arquitetura diferente funcionam de forma similar',\n",
              "  'conteudo': 'As redes neurais são a arquitetura mais aplicada atualmente em inteligência artificial, servindo como base para os sistemas mais avançados à disposição. Apesar de seu sucesso, uma preocupação que permanece é com a baixa explicabilidade dessas estruturas, sendo em muitos casos impossível entender o raciocínio que elas aplicam para produzir um resultado. Vários métodos têm sido propostos no intuito de comparar a similaridade entre as representações que diferentes redes neurais criam, com o intuito de entender melhor seu funcionamento. Entretanto, as métricas propostas até então costumam superestimar a similaridade devido à alta correlação entre os dados que elas tratam. Em outras palavras, as redes parecem similares mais por processarem dados similares do que por funcionarem de maneira similar.\\n\\n\\n\\nPesquisadores do Laboratório Nacional Los Alamos, nos Estados Unidos, acabam de publicar um trabalho propondo uma nova abordagem para comparar redes. A ideia começou com o levantamento de que redes treinadas com dados de alta qualidade tendem a performar de forma estranha diante de qualquer aberração, como ficou emblemático há alguns anos no caso de sinais de trânsito interpretados de forma errada. Para garantir a robustez desses modelos, desenvolvedores têm aplicado um regime de treinamento adversarial, onde dados aberrantes são intencionalmente adicionados ao treinamento, forçando a rede a aprender a ignorá-los. Em vista disso, os pesquisadores de Los Alamos desenvolveram uma métrica para determinar a similaridade entre redes neurais, e observaram que sistemas robustos tendem a convergir para uma mesma solução, ou seja, tendem a apresentar alta similaridade. Isto indica que, no fundo, mesmo com arquiteturas distintas, redes capazes de distinguir sinais úteis de fatores de confusão estão fazendo a mesma coisa.\\n\\n\\n\\nEsta descoberta é muito interessante, já que desenvolvedores têm atualmente focado na busca da arquitetura correta para resolver determinado problema. O trabalho mostra, entretanto, que a arquitetura em si tem menor relevância do que se imaginava, o que pode diminuir o espaço de busca consideravelmente. A sugestão é que o regime de treinamento pode ter um impacto até então subestimado.\\n\\n\\n\\nOs cientistas acreditam que suas observações podem ter implicações ainda mais profundas, esclarecendo características de aprendizagem até mesmo em animais e humanos, já que o tráfego de informação no cérebro é muito similar ao que ocorre nos processadores de silício.'},\n",
              " {'titulo': 'Introdução à Ferramenta Obviouly AI para Machine Learning',\n",
              "  'conteudo': 'Veja nesta aula noções introdutórias sobre a ferramenta Obviouly AI para Machine Learning. A aula faz parte do curso “Machine Learning sem Código e sem Matemática”.\\n\\n\\n\\nO curso está disponível para assinantes IA Expert Academy.\\n\\n\\n\\n\\n\\n'},\n",
              " {'titulo': 'Introdução ao Google Vertex AI',\n",
              "  'conteudo': 'Veja nesta aula noções introdutórias sobre o Google Vertex AI. A aula faz parte do curso “Machine Learning sem Código e sem Matemática”.\\n\\n\\n\\nO curso está disponível para assinantes IA Expert Academy.\\n\\n\\n\\n\\n\\n'},\n",
              " {'titulo': 'IA identifica vocalizações que roedores usam para se comunicar',\n",
              "  'conteudo': 'Apesar de não ter a mesma complexidade da fala humana, os animais costumam usar vocalizações para se comunicar entre si. Muitos dos sons que eles emitem são inclusive fora da faixa de audição humana. Com o equipamento correto, é possível identificar esses sons, mas em um trabalho de pesquisa, seja em laboratório, seja no ambiente selvagem, anotar sons característicos que ocorrem ao longo do tempo tradicionalmente exige um especialista ouvindo horas de gravações.\\n\\n\\n\\nUma equipe da Universidade de Washington desenvolveu uma inteligência artificial capaz de realizar este processo de forma automática. Chamado de DeepSqueak, o sistema foi publicado há 3 anos mas recebeu sua terceira versão mês passado. Ele conta com uma arquitetura de rede neural chamada de convolução regional, que processa sequências contíguas de sinal sonoro na busca de padrões conhecidos pelo sistema. O foco do trabalho tem sido com roedores.\\n\\n\\n\\nNo trabalho original, os autores compararam o DeepSqueak com outros métodos automáticos e com a análise manual, encontrando redução na taxa de falsos positivos, aumento no recall de detecção, redução dramática no tempo de análise, além da possibilidade de otimizar a classificação automática de sílabas e realizar análise sintática automática em vocabulários extensos. Entretanto, eles são cautelosos afirmando que o método funciona melhor para algumas vocalizações que outras, o que mantém os especialistas como peça fundamental de pesquisas mais complexas.\\n\\n\\n\\nO sistema pode ser facilmente adicionado a um procedimento atual de pesquisa, tendo o potencial de revelar novos insights sobre o comportamento dos animais. Os pesquisadores agora almejam fundir seu método com outras tecnologias de inteligência artificial que analisam vídeos, já que boa parte da comunicação animal vem da expressão corporal, o que pode se mostrar revolucionário na compreensão de sua vida social.\\n\\n\\n\\nA análise de vocalizações tem ganhado tração graças ao amadurecimento da inteligência artificial. Pesquisadores do Instituto Oceanográfico Woods Hole, em Massachusetts nos Estados Unidos, estão tentando aplicar o mesmo conceito para estudar corais. Como o som se propaga muito bem na água, um único sensor seria capaz de cobrir toda uma região de coral, por exemplo, permitindo identificar quais espécies estão presentes, incluindo espécies novas.'},\n",
              " {'titulo': 'Curso – Machine Learning sem Código e sem Matemática',\n",
              "  'conteudo': 'Veja nesta aula o conteúdo do curso “Machine Learning sem Código e sem Matemática“. \\n\\n\\n\\nO curso está disponível para assinantes IA Expert Academy.\\n\\n\\n\\n\\n\\n'}]"
            ]
          },
          "metadata": {},
          "execution_count": 80
        }
      ]
    },
    {
      "cell_type": "code",
      "source": [
        "arquivo_gravar = os.path.join('feed_iaexpert.json')\n",
        "arquivo = open(arquivo_gravar, 'w+')\n",
        "arquivo.write(json.dumps(artigos, indent=1))\n",
        "arquivo.close()"
      ],
      "metadata": {
        "id": "H3IRu2P7zrf9"
      },
      "execution_count": 83,
      "outputs": []
    },
    {
      "cell_type": "code",
      "source": [
        "artigos_blog = json.loads(open('/content/feed_iaexpert.json').read())\n",
        "artigos_blog"
      ],
      "metadata": {
        "colab": {
          "base_uri": "https://localhost:8080/"
        },
        "id": "kyF2MmAc4Zeb",
        "outputId": "b06a4369-259f-42d6-e5b7-075916bc4d4e"
      },
      "execution_count": 85,
      "outputs": [
        {
          "output_type": "execute_result",
          "data": {
            "text/plain": [
              "[{'titulo': 'Como usar a plataforma IA Expert',\n",
              "  'conteudo': 'Nesse vídeo, você confere como funciona o acesso a plataforma IA Expert. Aprenda a fazer pesquisa e inscrição nos cursos, alteração de senha, download do certificado de conclusão e muito mais!\\n\\n\\n\\nTorne-se assinante IA Expert Academy.\\n\\n\\n\\n\\n\\n'},\n",
              " {'titulo': 'Introdução ao Data Robot para Machine Learning',\n",
              "  'conteudo': 'Veja nesta aula noções introdutórias sobre o Data Robot para Machine Learning. A aula faz parte do curso “Machine Learning sem Código e sem Matemática”.\\n\\n\\n\\nO curso está disponível para assinantes IA Expert Academy.\\n\\n\\n\\n\\n\\n'},\n",
              " {'titulo': 'OpenAI apresenta Whisper, sistema de transcrição de áudio com desempenho humano',\n",
              "  'conteudo': 'Apesar de todo o progresso recente na área de processamento de linguagem natural, as tarefas mais beneficiadas foram aquelas associadas a sistemas de conversação, onde o usuário poderia interagir com a inteligência artificial no formato de texto. A transcrição de áudio para texto teve desenvolvimento mais lento, e apesar de várias ferramentas já produzirem legendas automaticamente, a qualidade ainda não estava a par dos sistemas conversacionais.\\n\\n\\n\\nNa última semana, a OpenAI mudou este paradigma ao disponibilizar em formato aberto o código para o Whisper, uma rede neural treinada na tarefa de transcrição de áudio. A arquitetura do modelo segue a abordagem to tipo end-to-end, onde um encoder aprende a codificar o áudio e um decoder aprende a converter o sinal para texto. Durante o processamento, o áudio de entrada é fragmentado em sequências de 30 segundos e passado para o encoder no formato de um espectrograma, que é uma forma tradicional para representar dados sonoros. O decoder recebe tokens especiais que direcionam o modelo para realizar uma tarefa específica, como a identificação do idioma, a geração de marcas de tempo, a transcrição do discurso em um idioma desejado, ou a tradução do áudio para a versão em inglês da transcrição.\\n\\n\\n\\nO sistema treinou com cerca de 680 mil horas de áudio coletados da internet, compreendendo vários idiomas e tarefas diferentes. Os autores acreditam que o tamanho e a diversidade dos dados foram responsáveis pela alta robustez do Whisper com relação a sotaques, sons de fundo e linguagem técnica. O resultado foi um modelo que produz transcrições tão boas quanto aquelas produzidas por um humano. Alguns exemplos podem ser vistos na página de apresentação do sistema.\\n\\n\\n\\nA empresa está disponibilizando o trabalho e o código do Whisper na expectativa de popularizar ainda mais as interfaces de voz de aplicações inovadoras.'},\n",
              " {'titulo': 'Introdução ao Microsoft Azure para Machine Learning',\n",
              "  'conteudo': 'Veja nesta aula noções introdutórias sobre o Microsoft Azure para Machine Learning. A aula faz parte do curso “Machine Learning sem Código e sem Matemática”.\\n\\n\\n\\nO curso está disponível para assinantes IA Expert Academy.\\n\\n\\n\\n\\n\\n'},\n",
              " {'titulo': 'Introdução à Ferramenta BigML para Machine Learning',\n",
              "  'conteudo': 'Veja nesta aula noções introdutórias sobre a ferramenta BigML para Machine Learning. A aula faz parte do curso “Machine Learning sem Código e sem Matemática”.\\n\\n\\n\\nO curso está disponível para assinantes IA Expert Academy.\\n\\n\\n\\n\\n\\n'},\n",
              " {'titulo': 'Trabalho expõe que redes neurais robustas com arquitetura diferente funcionam de forma similar',\n",
              "  'conteudo': 'As redes neurais são a arquitetura mais aplicada atualmente em inteligência artificial, servindo como base para os sistemas mais avançados à disposição. Apesar de seu sucesso, uma preocupação que permanece é com a baixa explicabilidade dessas estruturas, sendo em muitos casos impossível entender o raciocínio que elas aplicam para produzir um resultado. Vários métodos têm sido propostos no intuito de comparar a similaridade entre as representações que diferentes redes neurais criam, com o intuito de entender melhor seu funcionamento. Entretanto, as métricas propostas até então costumam superestimar a similaridade devido à alta correlação entre os dados que elas tratam. Em outras palavras, as redes parecem similares mais por processarem dados similares do que por funcionarem de maneira similar.\\n\\n\\n\\nPesquisadores do Laboratório Nacional Los Alamos, nos Estados Unidos, acabam de publicar um trabalho propondo uma nova abordagem para comparar redes. A ideia começou com o levantamento de que redes treinadas com dados de alta qualidade tendem a performar de forma estranha diante de qualquer aberração, como ficou emblemático há alguns anos no caso de sinais de trânsito interpretados de forma errada. Para garantir a robustez desses modelos, desenvolvedores têm aplicado um regime de treinamento adversarial, onde dados aberrantes são intencionalmente adicionados ao treinamento, forçando a rede a aprender a ignorá-los. Em vista disso, os pesquisadores de Los Alamos desenvolveram uma métrica para determinar a similaridade entre redes neurais, e observaram que sistemas robustos tendem a convergir para uma mesma solução, ou seja, tendem a apresentar alta similaridade. Isto indica que, no fundo, mesmo com arquiteturas distintas, redes capazes de distinguir sinais úteis de fatores de confusão estão fazendo a mesma coisa.\\n\\n\\n\\nEsta descoberta é muito interessante, já que desenvolvedores têm atualmente focado na busca da arquitetura correta para resolver determinado problema. O trabalho mostra, entretanto, que a arquitetura em si tem menor relevância do que se imaginava, o que pode diminuir o espaço de busca consideravelmente. A sugestão é que o regime de treinamento pode ter um impacto até então subestimado.\\n\\n\\n\\nOs cientistas acreditam que suas observações podem ter implicações ainda mais profundas, esclarecendo características de aprendizagem até mesmo em animais e humanos, já que o tráfego de informação no cérebro é muito similar ao que ocorre nos processadores de silício.'},\n",
              " {'titulo': 'Introdução à Ferramenta Obviouly AI para Machine Learning',\n",
              "  'conteudo': 'Veja nesta aula noções introdutórias sobre a ferramenta Obviouly AI para Machine Learning. A aula faz parte do curso “Machine Learning sem Código e sem Matemática”.\\n\\n\\n\\nO curso está disponível para assinantes IA Expert Academy.\\n\\n\\n\\n\\n\\n'},\n",
              " {'titulo': 'Introdução ao Google Vertex AI',\n",
              "  'conteudo': 'Veja nesta aula noções introdutórias sobre o Google Vertex AI. A aula faz parte do curso “Machine Learning sem Código e sem Matemática”.\\n\\n\\n\\nO curso está disponível para assinantes IA Expert Academy.\\n\\n\\n\\n\\n\\n'},\n",
              " {'titulo': 'IA identifica vocalizações que roedores usam para se comunicar',\n",
              "  'conteudo': 'Apesar de não ter a mesma complexidade da fala humana, os animais costumam usar vocalizações para se comunicar entre si. Muitos dos sons que eles emitem são inclusive fora da faixa de audição humana. Com o equipamento correto, é possível identificar esses sons, mas em um trabalho de pesquisa, seja em laboratório, seja no ambiente selvagem, anotar sons característicos que ocorrem ao longo do tempo tradicionalmente exige um especialista ouvindo horas de gravações.\\n\\n\\n\\nUma equipe da Universidade de Washington desenvolveu uma inteligência artificial capaz de realizar este processo de forma automática. Chamado de DeepSqueak, o sistema foi publicado há 3 anos mas recebeu sua terceira versão mês passado. Ele conta com uma arquitetura de rede neural chamada de convolução regional, que processa sequências contíguas de sinal sonoro na busca de padrões conhecidos pelo sistema. O foco do trabalho tem sido com roedores.\\n\\n\\n\\nNo trabalho original, os autores compararam o DeepSqueak com outros métodos automáticos e com a análise manual, encontrando redução na taxa de falsos positivos, aumento no recall de detecção, redução dramática no tempo de análise, além da possibilidade de otimizar a classificação automática de sílabas e realizar análise sintática automática em vocabulários extensos. Entretanto, eles são cautelosos afirmando que o método funciona melhor para algumas vocalizações que outras, o que mantém os especialistas como peça fundamental de pesquisas mais complexas.\\n\\n\\n\\nO sistema pode ser facilmente adicionado a um procedimento atual de pesquisa, tendo o potencial de revelar novos insights sobre o comportamento dos animais. Os pesquisadores agora almejam fundir seu método com outras tecnologias de inteligência artificial que analisam vídeos, já que boa parte da comunicação animal vem da expressão corporal, o que pode se mostrar revolucionário na compreensão de sua vida social.\\n\\n\\n\\nA análise de vocalizações tem ganhado tração graças ao amadurecimento da inteligência artificial. Pesquisadores do Instituto Oceanográfico Woods Hole, em Massachusetts nos Estados Unidos, estão tentando aplicar o mesmo conceito para estudar corais. Como o som se propaga muito bem na água, um único sensor seria capaz de cobrir toda uma região de coral, por exemplo, permitindo identificar quais espécies estão presentes, incluindo espécies novas.'},\n",
              " {'titulo': 'Curso – Machine Learning sem Código e sem Matemática',\n",
              "  'conteudo': 'Veja nesta aula o conteúdo do curso “Machine Learning sem Código e sem Matemática“. \\n\\n\\n\\nO curso está disponível para assinantes IA Expert Academy.\\n\\n\\n\\n\\n\\n'}]"
            ]
          },
          "metadata": {},
          "execution_count": 85
        }
      ]
    },
    {
      "cell_type": "code",
      "source": [],
      "metadata": {
        "id": "R9UMxG464paj"
      },
      "execution_count": null,
      "outputs": []
    }
  ]
}